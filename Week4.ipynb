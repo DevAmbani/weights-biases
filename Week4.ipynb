{
  "nbformat": 4,
  "nbformat_minor": 0,
  "metadata": {
    "colab": {
      "provenance": [],
      "machine_shape": "hm",
      "gpuType": "A100",
      "include_colab_link": true
    },
    "kernelspec": {
      "name": "python3",
      "display_name": "Python 3"
    },
    "language_info": {
      "name": "python"
    },
    "accelerator": "GPU",
    "widgets": {
      "application/vnd.jupyter.widget-state+json": {
        "88570fbf1389469ba0541ef3212cf9b1": {
          "model_module": "@jupyter-widgets/controls",
          "model_name": "VBoxModel",
          "model_module_version": "1.5.0",
          "state": {
            "_dom_classes": [],
            "_model_module": "@jupyter-widgets/controls",
            "_model_module_version": "1.5.0",
            "_model_name": "VBoxModel",
            "_view_count": null,
            "_view_module": "@jupyter-widgets/controls",
            "_view_module_version": "1.5.0",
            "_view_name": "VBoxView",
            "box_style": "",
            "children": [
              "IPY_MODEL_c087509bc6d94ec5948a7f959f49f34a",
              "IPY_MODEL_8fcb53c5619d420096f5e029d3c0535d"
            ],
            "layout": "IPY_MODEL_d38700ac56e449dc9739661439c4542a"
          }
        },
        "c087509bc6d94ec5948a7f959f49f34a": {
          "model_module": "@jupyter-widgets/controls",
          "model_name": "LabelModel",
          "model_module_version": "1.5.0",
          "state": {
            "_dom_classes": [],
            "_model_module": "@jupyter-widgets/controls",
            "_model_module_version": "1.5.0",
            "_model_name": "LabelModel",
            "_view_count": null,
            "_view_module": "@jupyter-widgets/controls",
            "_view_module_version": "1.5.0",
            "_view_name": "LabelView",
            "description": "",
            "description_tooltip": null,
            "layout": "IPY_MODEL_b05a9ba97416463889f1bbf4e8d2bdf4",
            "placeholder": "​",
            "style": "IPY_MODEL_91c9a63d58884f3ab046e33ec06d5165",
            "value": "0.015 MB of 0.015 MB uploaded\r"
          }
        },
        "8fcb53c5619d420096f5e029d3c0535d": {
          "model_module": "@jupyter-widgets/controls",
          "model_name": "FloatProgressModel",
          "model_module_version": "1.5.0",
          "state": {
            "_dom_classes": [],
            "_model_module": "@jupyter-widgets/controls",
            "_model_module_version": "1.5.0",
            "_model_name": "FloatProgressModel",
            "_view_count": null,
            "_view_module": "@jupyter-widgets/controls",
            "_view_module_version": "1.5.0",
            "_view_name": "ProgressView",
            "bar_style": "",
            "description": "",
            "description_tooltip": null,
            "layout": "IPY_MODEL_3835019029a748939a7f2a914f3c24e6",
            "max": 1,
            "min": 0,
            "orientation": "horizontal",
            "style": "IPY_MODEL_919b8091bb024867bd77ba7421437f50",
            "value": 1
          }
        },
        "d38700ac56e449dc9739661439c4542a": {
          "model_module": "@jupyter-widgets/base",
          "model_name": "LayoutModel",
          "model_module_version": "1.2.0",
          "state": {
            "_model_module": "@jupyter-widgets/base",
            "_model_module_version": "1.2.0",
            "_model_name": "LayoutModel",
            "_view_count": null,
            "_view_module": "@jupyter-widgets/base",
            "_view_module_version": "1.2.0",
            "_view_name": "LayoutView",
            "align_content": null,
            "align_items": null,
            "align_self": null,
            "border": null,
            "bottom": null,
            "display": null,
            "flex": null,
            "flex_flow": null,
            "grid_area": null,
            "grid_auto_columns": null,
            "grid_auto_flow": null,
            "grid_auto_rows": null,
            "grid_column": null,
            "grid_gap": null,
            "grid_row": null,
            "grid_template_areas": null,
            "grid_template_columns": null,
            "grid_template_rows": null,
            "height": null,
            "justify_content": null,
            "justify_items": null,
            "left": null,
            "margin": null,
            "max_height": null,
            "max_width": null,
            "min_height": null,
            "min_width": null,
            "object_fit": null,
            "object_position": null,
            "order": null,
            "overflow": null,
            "overflow_x": null,
            "overflow_y": null,
            "padding": null,
            "right": null,
            "top": null,
            "visibility": null,
            "width": null
          }
        },
        "b05a9ba97416463889f1bbf4e8d2bdf4": {
          "model_module": "@jupyter-widgets/base",
          "model_name": "LayoutModel",
          "model_module_version": "1.2.0",
          "state": {
            "_model_module": "@jupyter-widgets/base",
            "_model_module_version": "1.2.0",
            "_model_name": "LayoutModel",
            "_view_count": null,
            "_view_module": "@jupyter-widgets/base",
            "_view_module_version": "1.2.0",
            "_view_name": "LayoutView",
            "align_content": null,
            "align_items": null,
            "align_self": null,
            "border": null,
            "bottom": null,
            "display": null,
            "flex": null,
            "flex_flow": null,
            "grid_area": null,
            "grid_auto_columns": null,
            "grid_auto_flow": null,
            "grid_auto_rows": null,
            "grid_column": null,
            "grid_gap": null,
            "grid_row": null,
            "grid_template_areas": null,
            "grid_template_columns": null,
            "grid_template_rows": null,
            "height": null,
            "justify_content": null,
            "justify_items": null,
            "left": null,
            "margin": null,
            "max_height": null,
            "max_width": null,
            "min_height": null,
            "min_width": null,
            "object_fit": null,
            "object_position": null,
            "order": null,
            "overflow": null,
            "overflow_x": null,
            "overflow_y": null,
            "padding": null,
            "right": null,
            "top": null,
            "visibility": null,
            "width": null
          }
        },
        "91c9a63d58884f3ab046e33ec06d5165": {
          "model_module": "@jupyter-widgets/controls",
          "model_name": "DescriptionStyleModel",
          "model_module_version": "1.5.0",
          "state": {
            "_model_module": "@jupyter-widgets/controls",
            "_model_module_version": "1.5.0",
            "_model_name": "DescriptionStyleModel",
            "_view_count": null,
            "_view_module": "@jupyter-widgets/base",
            "_view_module_version": "1.2.0",
            "_view_name": "StyleView",
            "description_width": ""
          }
        },
        "3835019029a748939a7f2a914f3c24e6": {
          "model_module": "@jupyter-widgets/base",
          "model_name": "LayoutModel",
          "model_module_version": "1.2.0",
          "state": {
            "_model_module": "@jupyter-widgets/base",
            "_model_module_version": "1.2.0",
            "_model_name": "LayoutModel",
            "_view_count": null,
            "_view_module": "@jupyter-widgets/base",
            "_view_module_version": "1.2.0",
            "_view_name": "LayoutView",
            "align_content": null,
            "align_items": null,
            "align_self": null,
            "border": null,
            "bottom": null,
            "display": null,
            "flex": null,
            "flex_flow": null,
            "grid_area": null,
            "grid_auto_columns": null,
            "grid_auto_flow": null,
            "grid_auto_rows": null,
            "grid_column": null,
            "grid_gap": null,
            "grid_row": null,
            "grid_template_areas": null,
            "grid_template_columns": null,
            "grid_template_rows": null,
            "height": null,
            "justify_content": null,
            "justify_items": null,
            "left": null,
            "margin": null,
            "max_height": null,
            "max_width": null,
            "min_height": null,
            "min_width": null,
            "object_fit": null,
            "object_position": null,
            "order": null,
            "overflow": null,
            "overflow_x": null,
            "overflow_y": null,
            "padding": null,
            "right": null,
            "top": null,
            "visibility": null,
            "width": null
          }
        },
        "919b8091bb024867bd77ba7421437f50": {
          "model_module": "@jupyter-widgets/controls",
          "model_name": "ProgressStyleModel",
          "model_module_version": "1.5.0",
          "state": {
            "_model_module": "@jupyter-widgets/controls",
            "_model_module_version": "1.5.0",
            "_model_name": "ProgressStyleModel",
            "_view_count": null,
            "_view_module": "@jupyter-widgets/base",
            "_view_module_version": "1.2.0",
            "_view_name": "StyleView",
            "bar_color": null,
            "description_width": ""
          }
        },
        "331271b5f91e4706bb13a342e2480b03": {
          "model_module": "@jupyter-widgets/controls",
          "model_name": "VBoxModel",
          "model_module_version": "1.5.0",
          "state": {
            "_dom_classes": [],
            "_model_module": "@jupyter-widgets/controls",
            "_model_module_version": "1.5.0",
            "_model_name": "VBoxModel",
            "_view_count": null,
            "_view_module": "@jupyter-widgets/controls",
            "_view_module_version": "1.5.0",
            "_view_name": "VBoxView",
            "box_style": "",
            "children": [
              "IPY_MODEL_8790995c624b4c2fa837e84b5c19ecee",
              "IPY_MODEL_f07cdccdc1e94485991b6e63e7418d26"
            ],
            "layout": "IPY_MODEL_7cb73338f48945d58bfded0f577a0145"
          }
        },
        "8790995c624b4c2fa837e84b5c19ecee": {
          "model_module": "@jupyter-widgets/controls",
          "model_name": "LabelModel",
          "model_module_version": "1.5.0",
          "state": {
            "_dom_classes": [],
            "_model_module": "@jupyter-widgets/controls",
            "_model_module_version": "1.5.0",
            "_model_name": "LabelModel",
            "_view_count": null,
            "_view_module": "@jupyter-widgets/controls",
            "_view_module_version": "1.5.0",
            "_view_name": "LabelView",
            "description": "",
            "description_tooltip": null,
            "layout": "IPY_MODEL_035edef4f8cf4861a71bbc7db46969b5",
            "placeholder": "​",
            "style": "IPY_MODEL_a9f333e842d2404bb327280b9e4e6c64",
            "value": "0.016 MB of 0.016 MB uploaded\r"
          }
        },
        "f07cdccdc1e94485991b6e63e7418d26": {
          "model_module": "@jupyter-widgets/controls",
          "model_name": "FloatProgressModel",
          "model_module_version": "1.5.0",
          "state": {
            "_dom_classes": [],
            "_model_module": "@jupyter-widgets/controls",
            "_model_module_version": "1.5.0",
            "_model_name": "FloatProgressModel",
            "_view_count": null,
            "_view_module": "@jupyter-widgets/controls",
            "_view_module_version": "1.5.0",
            "_view_name": "ProgressView",
            "bar_style": "",
            "description": "",
            "description_tooltip": null,
            "layout": "IPY_MODEL_0ff12ade920e4705a60beb9bb9821aba",
            "max": 1,
            "min": 0,
            "orientation": "horizontal",
            "style": "IPY_MODEL_56490209a1d24c3d9695fb6c4b27ec46",
            "value": 1
          }
        },
        "7cb73338f48945d58bfded0f577a0145": {
          "model_module": "@jupyter-widgets/base",
          "model_name": "LayoutModel",
          "model_module_version": "1.2.0",
          "state": {
            "_model_module": "@jupyter-widgets/base",
            "_model_module_version": "1.2.0",
            "_model_name": "LayoutModel",
            "_view_count": null,
            "_view_module": "@jupyter-widgets/base",
            "_view_module_version": "1.2.0",
            "_view_name": "LayoutView",
            "align_content": null,
            "align_items": null,
            "align_self": null,
            "border": null,
            "bottom": null,
            "display": null,
            "flex": null,
            "flex_flow": null,
            "grid_area": null,
            "grid_auto_columns": null,
            "grid_auto_flow": null,
            "grid_auto_rows": null,
            "grid_column": null,
            "grid_gap": null,
            "grid_row": null,
            "grid_template_areas": null,
            "grid_template_columns": null,
            "grid_template_rows": null,
            "height": null,
            "justify_content": null,
            "justify_items": null,
            "left": null,
            "margin": null,
            "max_height": null,
            "max_width": null,
            "min_height": null,
            "min_width": null,
            "object_fit": null,
            "object_position": null,
            "order": null,
            "overflow": null,
            "overflow_x": null,
            "overflow_y": null,
            "padding": null,
            "right": null,
            "top": null,
            "visibility": null,
            "width": null
          }
        },
        "035edef4f8cf4861a71bbc7db46969b5": {
          "model_module": "@jupyter-widgets/base",
          "model_name": "LayoutModel",
          "model_module_version": "1.2.0",
          "state": {
            "_model_module": "@jupyter-widgets/base",
            "_model_module_version": "1.2.0",
            "_model_name": "LayoutModel",
            "_view_count": null,
            "_view_module": "@jupyter-widgets/base",
            "_view_module_version": "1.2.0",
            "_view_name": "LayoutView",
            "align_content": null,
            "align_items": null,
            "align_self": null,
            "border": null,
            "bottom": null,
            "display": null,
            "flex": null,
            "flex_flow": null,
            "grid_area": null,
            "grid_auto_columns": null,
            "grid_auto_flow": null,
            "grid_auto_rows": null,
            "grid_column": null,
            "grid_gap": null,
            "grid_row": null,
            "grid_template_areas": null,
            "grid_template_columns": null,
            "grid_template_rows": null,
            "height": null,
            "justify_content": null,
            "justify_items": null,
            "left": null,
            "margin": null,
            "max_height": null,
            "max_width": null,
            "min_height": null,
            "min_width": null,
            "object_fit": null,
            "object_position": null,
            "order": null,
            "overflow": null,
            "overflow_x": null,
            "overflow_y": null,
            "padding": null,
            "right": null,
            "top": null,
            "visibility": null,
            "width": null
          }
        },
        "a9f333e842d2404bb327280b9e4e6c64": {
          "model_module": "@jupyter-widgets/controls",
          "model_name": "DescriptionStyleModel",
          "model_module_version": "1.5.0",
          "state": {
            "_model_module": "@jupyter-widgets/controls",
            "_model_module_version": "1.5.0",
            "_model_name": "DescriptionStyleModel",
            "_view_count": null,
            "_view_module": "@jupyter-widgets/base",
            "_view_module_version": "1.2.0",
            "_view_name": "StyleView",
            "description_width": ""
          }
        },
        "0ff12ade920e4705a60beb9bb9821aba": {
          "model_module": "@jupyter-widgets/base",
          "model_name": "LayoutModel",
          "model_module_version": "1.2.0",
          "state": {
            "_model_module": "@jupyter-widgets/base",
            "_model_module_version": "1.2.0",
            "_model_name": "LayoutModel",
            "_view_count": null,
            "_view_module": "@jupyter-widgets/base",
            "_view_module_version": "1.2.0",
            "_view_name": "LayoutView",
            "align_content": null,
            "align_items": null,
            "align_self": null,
            "border": null,
            "bottom": null,
            "display": null,
            "flex": null,
            "flex_flow": null,
            "grid_area": null,
            "grid_auto_columns": null,
            "grid_auto_flow": null,
            "grid_auto_rows": null,
            "grid_column": null,
            "grid_gap": null,
            "grid_row": null,
            "grid_template_areas": null,
            "grid_template_columns": null,
            "grid_template_rows": null,
            "height": null,
            "justify_content": null,
            "justify_items": null,
            "left": null,
            "margin": null,
            "max_height": null,
            "max_width": null,
            "min_height": null,
            "min_width": null,
            "object_fit": null,
            "object_position": null,
            "order": null,
            "overflow": null,
            "overflow_x": null,
            "overflow_y": null,
            "padding": null,
            "right": null,
            "top": null,
            "visibility": null,
            "width": null
          }
        },
        "56490209a1d24c3d9695fb6c4b27ec46": {
          "model_module": "@jupyter-widgets/controls",
          "model_name": "ProgressStyleModel",
          "model_module_version": "1.5.0",
          "state": {
            "_model_module": "@jupyter-widgets/controls",
            "_model_module_version": "1.5.0",
            "_model_name": "ProgressStyleModel",
            "_view_count": null,
            "_view_module": "@jupyter-widgets/base",
            "_view_module_version": "1.2.0",
            "_view_name": "StyleView",
            "bar_color": null,
            "description_width": ""
          }
        },
        "fee022e68ffc46f5b8837dca4b10f86c": {
          "model_module": "@jupyter-widgets/controls",
          "model_name": "VBoxModel",
          "model_module_version": "1.5.0",
          "state": {
            "_dom_classes": [],
            "_model_module": "@jupyter-widgets/controls",
            "_model_module_version": "1.5.0",
            "_model_name": "VBoxModel",
            "_view_count": null,
            "_view_module": "@jupyter-widgets/controls",
            "_view_module_version": "1.5.0",
            "_view_name": "VBoxView",
            "box_style": "",
            "children": [
              "IPY_MODEL_dc8a83cb051a41f68cd2d5d5f4216b74",
              "IPY_MODEL_9fddc3b3a2f6409bafda3473c3d07bcc"
            ],
            "layout": "IPY_MODEL_b70e427543f1406387d446fcd82e7765"
          }
        },
        "dc8a83cb051a41f68cd2d5d5f4216b74": {
          "model_module": "@jupyter-widgets/controls",
          "model_name": "LabelModel",
          "model_module_version": "1.5.0",
          "state": {
            "_dom_classes": [],
            "_model_module": "@jupyter-widgets/controls",
            "_model_module_version": "1.5.0",
            "_model_name": "LabelModel",
            "_view_count": null,
            "_view_module": "@jupyter-widgets/controls",
            "_view_module_version": "1.5.0",
            "_view_name": "LabelView",
            "description": "",
            "description_tooltip": null,
            "layout": "IPY_MODEL_b9e6fbcfb3324d99ba3b9072eca96037",
            "placeholder": "​",
            "style": "IPY_MODEL_04ed4357b79c40a9b6a2940c46f31edd",
            "value": "0.016 MB of 0.016 MB uploaded\r"
          }
        },
        "9fddc3b3a2f6409bafda3473c3d07bcc": {
          "model_module": "@jupyter-widgets/controls",
          "model_name": "FloatProgressModel",
          "model_module_version": "1.5.0",
          "state": {
            "_dom_classes": [],
            "_model_module": "@jupyter-widgets/controls",
            "_model_module_version": "1.5.0",
            "_model_name": "FloatProgressModel",
            "_view_count": null,
            "_view_module": "@jupyter-widgets/controls",
            "_view_module_version": "1.5.0",
            "_view_name": "ProgressView",
            "bar_style": "",
            "description": "",
            "description_tooltip": null,
            "layout": "IPY_MODEL_e4a9d3d5700d481f8c8be549360203f0",
            "max": 1,
            "min": 0,
            "orientation": "horizontal",
            "style": "IPY_MODEL_37eb66de0219460d8f833110fd49599a",
            "value": 1
          }
        },
        "b70e427543f1406387d446fcd82e7765": {
          "model_module": "@jupyter-widgets/base",
          "model_name": "LayoutModel",
          "model_module_version": "1.2.0",
          "state": {
            "_model_module": "@jupyter-widgets/base",
            "_model_module_version": "1.2.0",
            "_model_name": "LayoutModel",
            "_view_count": null,
            "_view_module": "@jupyter-widgets/base",
            "_view_module_version": "1.2.0",
            "_view_name": "LayoutView",
            "align_content": null,
            "align_items": null,
            "align_self": null,
            "border": null,
            "bottom": null,
            "display": null,
            "flex": null,
            "flex_flow": null,
            "grid_area": null,
            "grid_auto_columns": null,
            "grid_auto_flow": null,
            "grid_auto_rows": null,
            "grid_column": null,
            "grid_gap": null,
            "grid_row": null,
            "grid_template_areas": null,
            "grid_template_columns": null,
            "grid_template_rows": null,
            "height": null,
            "justify_content": null,
            "justify_items": null,
            "left": null,
            "margin": null,
            "max_height": null,
            "max_width": null,
            "min_height": null,
            "min_width": null,
            "object_fit": null,
            "object_position": null,
            "order": null,
            "overflow": null,
            "overflow_x": null,
            "overflow_y": null,
            "padding": null,
            "right": null,
            "top": null,
            "visibility": null,
            "width": null
          }
        },
        "b9e6fbcfb3324d99ba3b9072eca96037": {
          "model_module": "@jupyter-widgets/base",
          "model_name": "LayoutModel",
          "model_module_version": "1.2.0",
          "state": {
            "_model_module": "@jupyter-widgets/base",
            "_model_module_version": "1.2.0",
            "_model_name": "LayoutModel",
            "_view_count": null,
            "_view_module": "@jupyter-widgets/base",
            "_view_module_version": "1.2.0",
            "_view_name": "LayoutView",
            "align_content": null,
            "align_items": null,
            "align_self": null,
            "border": null,
            "bottom": null,
            "display": null,
            "flex": null,
            "flex_flow": null,
            "grid_area": null,
            "grid_auto_columns": null,
            "grid_auto_flow": null,
            "grid_auto_rows": null,
            "grid_column": null,
            "grid_gap": null,
            "grid_row": null,
            "grid_template_areas": null,
            "grid_template_columns": null,
            "grid_template_rows": null,
            "height": null,
            "justify_content": null,
            "justify_items": null,
            "left": null,
            "margin": null,
            "max_height": null,
            "max_width": null,
            "min_height": null,
            "min_width": null,
            "object_fit": null,
            "object_position": null,
            "order": null,
            "overflow": null,
            "overflow_x": null,
            "overflow_y": null,
            "padding": null,
            "right": null,
            "top": null,
            "visibility": null,
            "width": null
          }
        },
        "04ed4357b79c40a9b6a2940c46f31edd": {
          "model_module": "@jupyter-widgets/controls",
          "model_name": "DescriptionStyleModel",
          "model_module_version": "1.5.0",
          "state": {
            "_model_module": "@jupyter-widgets/controls",
            "_model_module_version": "1.5.0",
            "_model_name": "DescriptionStyleModel",
            "_view_count": null,
            "_view_module": "@jupyter-widgets/base",
            "_view_module_version": "1.2.0",
            "_view_name": "StyleView",
            "description_width": ""
          }
        },
        "e4a9d3d5700d481f8c8be549360203f0": {
          "model_module": "@jupyter-widgets/base",
          "model_name": "LayoutModel",
          "model_module_version": "1.2.0",
          "state": {
            "_model_module": "@jupyter-widgets/base",
            "_model_module_version": "1.2.0",
            "_model_name": "LayoutModel",
            "_view_count": null,
            "_view_module": "@jupyter-widgets/base",
            "_view_module_version": "1.2.0",
            "_view_name": "LayoutView",
            "align_content": null,
            "align_items": null,
            "align_self": null,
            "border": null,
            "bottom": null,
            "display": null,
            "flex": null,
            "flex_flow": null,
            "grid_area": null,
            "grid_auto_columns": null,
            "grid_auto_flow": null,
            "grid_auto_rows": null,
            "grid_column": null,
            "grid_gap": null,
            "grid_row": null,
            "grid_template_areas": null,
            "grid_template_columns": null,
            "grid_template_rows": null,
            "height": null,
            "justify_content": null,
            "justify_items": null,
            "left": null,
            "margin": null,
            "max_height": null,
            "max_width": null,
            "min_height": null,
            "min_width": null,
            "object_fit": null,
            "object_position": null,
            "order": null,
            "overflow": null,
            "overflow_x": null,
            "overflow_y": null,
            "padding": null,
            "right": null,
            "top": null,
            "visibility": null,
            "width": null
          }
        },
        "37eb66de0219460d8f833110fd49599a": {
          "model_module": "@jupyter-widgets/controls",
          "model_name": "ProgressStyleModel",
          "model_module_version": "1.5.0",
          "state": {
            "_model_module": "@jupyter-widgets/controls",
            "_model_module_version": "1.5.0",
            "_model_name": "ProgressStyleModel",
            "_view_count": null,
            "_view_module": "@jupyter-widgets/base",
            "_view_module_version": "1.2.0",
            "_view_name": "StyleView",
            "bar_color": null,
            "description_width": ""
          }
        },
        "d4e89153834248578b668776d825e469": {
          "model_module": "@jupyter-widgets/controls",
          "model_name": "VBoxModel",
          "model_module_version": "1.5.0",
          "state": {
            "_dom_classes": [],
            "_model_module": "@jupyter-widgets/controls",
            "_model_module_version": "1.5.0",
            "_model_name": "VBoxModel",
            "_view_count": null,
            "_view_module": "@jupyter-widgets/controls",
            "_view_module_version": "1.5.0",
            "_view_name": "VBoxView",
            "box_style": "",
            "children": [
              "IPY_MODEL_df93c3c1faa94d94a32fc5c44c3d31a0",
              "IPY_MODEL_f5b6b070ac9841c5aad5ccea58ebbc7d"
            ],
            "layout": "IPY_MODEL_7c0aa5b090ed498f8e3838d8f33f00d9"
          }
        },
        "df93c3c1faa94d94a32fc5c44c3d31a0": {
          "model_module": "@jupyter-widgets/controls",
          "model_name": "LabelModel",
          "model_module_version": "1.5.0",
          "state": {
            "_dom_classes": [],
            "_model_module": "@jupyter-widgets/controls",
            "_model_module_version": "1.5.0",
            "_model_name": "LabelModel",
            "_view_count": null,
            "_view_module": "@jupyter-widgets/controls",
            "_view_module_version": "1.5.0",
            "_view_name": "LabelView",
            "description": "",
            "description_tooltip": null,
            "layout": "IPY_MODEL_3337662da0b746909b065da4fc5d3276",
            "placeholder": "​",
            "style": "IPY_MODEL_846bfa74343e4d158d5ab53fecb342ed",
            "value": "0.014 MB of 0.014 MB uploaded\r"
          }
        },
        "f5b6b070ac9841c5aad5ccea58ebbc7d": {
          "model_module": "@jupyter-widgets/controls",
          "model_name": "FloatProgressModel",
          "model_module_version": "1.5.0",
          "state": {
            "_dom_classes": [],
            "_model_module": "@jupyter-widgets/controls",
            "_model_module_version": "1.5.0",
            "_model_name": "FloatProgressModel",
            "_view_count": null,
            "_view_module": "@jupyter-widgets/controls",
            "_view_module_version": "1.5.0",
            "_view_name": "ProgressView",
            "bar_style": "",
            "description": "",
            "description_tooltip": null,
            "layout": "IPY_MODEL_c6c198b0a30844ef90351ad585bd3b32",
            "max": 1,
            "min": 0,
            "orientation": "horizontal",
            "style": "IPY_MODEL_a90c7113cce54b599cd7bf96e6911330",
            "value": 1
          }
        },
        "7c0aa5b090ed498f8e3838d8f33f00d9": {
          "model_module": "@jupyter-widgets/base",
          "model_name": "LayoutModel",
          "model_module_version": "1.2.0",
          "state": {
            "_model_module": "@jupyter-widgets/base",
            "_model_module_version": "1.2.0",
            "_model_name": "LayoutModel",
            "_view_count": null,
            "_view_module": "@jupyter-widgets/base",
            "_view_module_version": "1.2.0",
            "_view_name": "LayoutView",
            "align_content": null,
            "align_items": null,
            "align_self": null,
            "border": null,
            "bottom": null,
            "display": null,
            "flex": null,
            "flex_flow": null,
            "grid_area": null,
            "grid_auto_columns": null,
            "grid_auto_flow": null,
            "grid_auto_rows": null,
            "grid_column": null,
            "grid_gap": null,
            "grid_row": null,
            "grid_template_areas": null,
            "grid_template_columns": null,
            "grid_template_rows": null,
            "height": null,
            "justify_content": null,
            "justify_items": null,
            "left": null,
            "margin": null,
            "max_height": null,
            "max_width": null,
            "min_height": null,
            "min_width": null,
            "object_fit": null,
            "object_position": null,
            "order": null,
            "overflow": null,
            "overflow_x": null,
            "overflow_y": null,
            "padding": null,
            "right": null,
            "top": null,
            "visibility": null,
            "width": null
          }
        },
        "3337662da0b746909b065da4fc5d3276": {
          "model_module": "@jupyter-widgets/base",
          "model_name": "LayoutModel",
          "model_module_version": "1.2.0",
          "state": {
            "_model_module": "@jupyter-widgets/base",
            "_model_module_version": "1.2.0",
            "_model_name": "LayoutModel",
            "_view_count": null,
            "_view_module": "@jupyter-widgets/base",
            "_view_module_version": "1.2.0",
            "_view_name": "LayoutView",
            "align_content": null,
            "align_items": null,
            "align_self": null,
            "border": null,
            "bottom": null,
            "display": null,
            "flex": null,
            "flex_flow": null,
            "grid_area": null,
            "grid_auto_columns": null,
            "grid_auto_flow": null,
            "grid_auto_rows": null,
            "grid_column": null,
            "grid_gap": null,
            "grid_row": null,
            "grid_template_areas": null,
            "grid_template_columns": null,
            "grid_template_rows": null,
            "height": null,
            "justify_content": null,
            "justify_items": null,
            "left": null,
            "margin": null,
            "max_height": null,
            "max_width": null,
            "min_height": null,
            "min_width": null,
            "object_fit": null,
            "object_position": null,
            "order": null,
            "overflow": null,
            "overflow_x": null,
            "overflow_y": null,
            "padding": null,
            "right": null,
            "top": null,
            "visibility": null,
            "width": null
          }
        },
        "846bfa74343e4d158d5ab53fecb342ed": {
          "model_module": "@jupyter-widgets/controls",
          "model_name": "DescriptionStyleModel",
          "model_module_version": "1.5.0",
          "state": {
            "_model_module": "@jupyter-widgets/controls",
            "_model_module_version": "1.5.0",
            "_model_name": "DescriptionStyleModel",
            "_view_count": null,
            "_view_module": "@jupyter-widgets/base",
            "_view_module_version": "1.2.0",
            "_view_name": "StyleView",
            "description_width": ""
          }
        },
        "c6c198b0a30844ef90351ad585bd3b32": {
          "model_module": "@jupyter-widgets/base",
          "model_name": "LayoutModel",
          "model_module_version": "1.2.0",
          "state": {
            "_model_module": "@jupyter-widgets/base",
            "_model_module_version": "1.2.0",
            "_model_name": "LayoutModel",
            "_view_count": null,
            "_view_module": "@jupyter-widgets/base",
            "_view_module_version": "1.2.0",
            "_view_name": "LayoutView",
            "align_content": null,
            "align_items": null,
            "align_self": null,
            "border": null,
            "bottom": null,
            "display": null,
            "flex": null,
            "flex_flow": null,
            "grid_area": null,
            "grid_auto_columns": null,
            "grid_auto_flow": null,
            "grid_auto_rows": null,
            "grid_column": null,
            "grid_gap": null,
            "grid_row": null,
            "grid_template_areas": null,
            "grid_template_columns": null,
            "grid_template_rows": null,
            "height": null,
            "justify_content": null,
            "justify_items": null,
            "left": null,
            "margin": null,
            "max_height": null,
            "max_width": null,
            "min_height": null,
            "min_width": null,
            "object_fit": null,
            "object_position": null,
            "order": null,
            "overflow": null,
            "overflow_x": null,
            "overflow_y": null,
            "padding": null,
            "right": null,
            "top": null,
            "visibility": null,
            "width": null
          }
        },
        "a90c7113cce54b599cd7bf96e6911330": {
          "model_module": "@jupyter-widgets/controls",
          "model_name": "ProgressStyleModel",
          "model_module_version": "1.5.0",
          "state": {
            "_model_module": "@jupyter-widgets/controls",
            "_model_module_version": "1.5.0",
            "_model_name": "ProgressStyleModel",
            "_view_count": null,
            "_view_module": "@jupyter-widgets/base",
            "_view_module_version": "1.2.0",
            "_view_name": "StyleView",
            "bar_color": null,
            "description_width": ""
          }
        },
        "b179de45aacf4489a79eab9f0d8ad1a3": {
          "model_module": "@jupyter-widgets/controls",
          "model_name": "VBoxModel",
          "model_module_version": "1.5.0",
          "state": {
            "_dom_classes": [],
            "_model_module": "@jupyter-widgets/controls",
            "_model_module_version": "1.5.0",
            "_model_name": "VBoxModel",
            "_view_count": null,
            "_view_module": "@jupyter-widgets/controls",
            "_view_module_version": "1.5.0",
            "_view_name": "VBoxView",
            "box_style": "",
            "children": [
              "IPY_MODEL_2e65b7f481424a24b53fe7aa119ce402",
              "IPY_MODEL_df9fe07bf7d94f269ab8b3643022ebf7"
            ],
            "layout": "IPY_MODEL_b77798a469824843844cbd68fea6bba7"
          }
        },
        "2e65b7f481424a24b53fe7aa119ce402": {
          "model_module": "@jupyter-widgets/controls",
          "model_name": "LabelModel",
          "model_module_version": "1.5.0",
          "state": {
            "_dom_classes": [],
            "_model_module": "@jupyter-widgets/controls",
            "_model_module_version": "1.5.0",
            "_model_name": "LabelModel",
            "_view_count": null,
            "_view_module": "@jupyter-widgets/controls",
            "_view_module_version": "1.5.0",
            "_view_name": "LabelView",
            "description": "",
            "description_tooltip": null,
            "layout": "IPY_MODEL_e702eed020014861a9ce182c7c55531c",
            "placeholder": "​",
            "style": "IPY_MODEL_1eba8f8b7a0645038d9c14319fc23df5",
            "value": "Waiting for wandb.init()...\r"
          }
        },
        "df9fe07bf7d94f269ab8b3643022ebf7": {
          "model_module": "@jupyter-widgets/controls",
          "model_name": "FloatProgressModel",
          "model_module_version": "1.5.0",
          "state": {
            "_dom_classes": [],
            "_model_module": "@jupyter-widgets/controls",
            "_model_module_version": "1.5.0",
            "_model_name": "FloatProgressModel",
            "_view_count": null,
            "_view_module": "@jupyter-widgets/controls",
            "_view_module_version": "1.5.0",
            "_view_name": "ProgressView",
            "bar_style": "",
            "description": "",
            "description_tooltip": null,
            "layout": "IPY_MODEL_0da6f572b49c4354924ccd9a292f1623",
            "max": 1,
            "min": 0,
            "orientation": "horizontal",
            "style": "IPY_MODEL_83b1b3c2a09e4ff2a6c170c924d2f600",
            "value": 1
          }
        },
        "b77798a469824843844cbd68fea6bba7": {
          "model_module": "@jupyter-widgets/base",
          "model_name": "LayoutModel",
          "model_module_version": "1.2.0",
          "state": {
            "_model_module": "@jupyter-widgets/base",
            "_model_module_version": "1.2.0",
            "_model_name": "LayoutModel",
            "_view_count": null,
            "_view_module": "@jupyter-widgets/base",
            "_view_module_version": "1.2.0",
            "_view_name": "LayoutView",
            "align_content": null,
            "align_items": null,
            "align_self": null,
            "border": null,
            "bottom": null,
            "display": null,
            "flex": null,
            "flex_flow": null,
            "grid_area": null,
            "grid_auto_columns": null,
            "grid_auto_flow": null,
            "grid_auto_rows": null,
            "grid_column": null,
            "grid_gap": null,
            "grid_row": null,
            "grid_template_areas": null,
            "grid_template_columns": null,
            "grid_template_rows": null,
            "height": null,
            "justify_content": null,
            "justify_items": null,
            "left": null,
            "margin": null,
            "max_height": null,
            "max_width": null,
            "min_height": null,
            "min_width": null,
            "object_fit": null,
            "object_position": null,
            "order": null,
            "overflow": null,
            "overflow_x": null,
            "overflow_y": null,
            "padding": null,
            "right": null,
            "top": null,
            "visibility": null,
            "width": null
          }
        },
        "e702eed020014861a9ce182c7c55531c": {
          "model_module": "@jupyter-widgets/base",
          "model_name": "LayoutModel",
          "model_module_version": "1.2.0",
          "state": {
            "_model_module": "@jupyter-widgets/base",
            "_model_module_version": "1.2.0",
            "_model_name": "LayoutModel",
            "_view_count": null,
            "_view_module": "@jupyter-widgets/base",
            "_view_module_version": "1.2.0",
            "_view_name": "LayoutView",
            "align_content": null,
            "align_items": null,
            "align_self": null,
            "border": null,
            "bottom": null,
            "display": null,
            "flex": null,
            "flex_flow": null,
            "grid_area": null,
            "grid_auto_columns": null,
            "grid_auto_flow": null,
            "grid_auto_rows": null,
            "grid_column": null,
            "grid_gap": null,
            "grid_row": null,
            "grid_template_areas": null,
            "grid_template_columns": null,
            "grid_template_rows": null,
            "height": null,
            "justify_content": null,
            "justify_items": null,
            "left": null,
            "margin": null,
            "max_height": null,
            "max_width": null,
            "min_height": null,
            "min_width": null,
            "object_fit": null,
            "object_position": null,
            "order": null,
            "overflow": null,
            "overflow_x": null,
            "overflow_y": null,
            "padding": null,
            "right": null,
            "top": null,
            "visibility": null,
            "width": null
          }
        },
        "1eba8f8b7a0645038d9c14319fc23df5": {
          "model_module": "@jupyter-widgets/controls",
          "model_name": "DescriptionStyleModel",
          "model_module_version": "1.5.0",
          "state": {
            "_model_module": "@jupyter-widgets/controls",
            "_model_module_version": "1.5.0",
            "_model_name": "DescriptionStyleModel",
            "_view_count": null,
            "_view_module": "@jupyter-widgets/base",
            "_view_module_version": "1.2.0",
            "_view_name": "StyleView",
            "description_width": ""
          }
        },
        "0da6f572b49c4354924ccd9a292f1623": {
          "model_module": "@jupyter-widgets/base",
          "model_name": "LayoutModel",
          "model_module_version": "1.2.0",
          "state": {
            "_model_module": "@jupyter-widgets/base",
            "_model_module_version": "1.2.0",
            "_model_name": "LayoutModel",
            "_view_count": null,
            "_view_module": "@jupyter-widgets/base",
            "_view_module_version": "1.2.0",
            "_view_name": "LayoutView",
            "align_content": null,
            "align_items": null,
            "align_self": null,
            "border": null,
            "bottom": null,
            "display": null,
            "flex": null,
            "flex_flow": null,
            "grid_area": null,
            "grid_auto_columns": null,
            "grid_auto_flow": null,
            "grid_auto_rows": null,
            "grid_column": null,
            "grid_gap": null,
            "grid_row": null,
            "grid_template_areas": null,
            "grid_template_columns": null,
            "grid_template_rows": null,
            "height": null,
            "justify_content": null,
            "justify_items": null,
            "left": null,
            "margin": null,
            "max_height": null,
            "max_width": null,
            "min_height": null,
            "min_width": null,
            "object_fit": null,
            "object_position": null,
            "order": null,
            "overflow": null,
            "overflow_x": null,
            "overflow_y": null,
            "padding": null,
            "right": null,
            "top": null,
            "visibility": null,
            "width": null
          }
        },
        "83b1b3c2a09e4ff2a6c170c924d2f600": {
          "model_module": "@jupyter-widgets/controls",
          "model_name": "ProgressStyleModel",
          "model_module_version": "1.5.0",
          "state": {
            "_model_module": "@jupyter-widgets/controls",
            "_model_module_version": "1.5.0",
            "_model_name": "ProgressStyleModel",
            "_view_count": null,
            "_view_module": "@jupyter-widgets/base",
            "_view_module_version": "1.2.0",
            "_view_name": "StyleView",
            "bar_color": null,
            "description_width": ""
          }
        },
        "ee2f7e27760c464db92f972c18c8bb85": {
          "model_module": "@jupyter-widgets/controls",
          "model_name": "VBoxModel",
          "model_module_version": "1.5.0",
          "state": {
            "_dom_classes": [],
            "_model_module": "@jupyter-widgets/controls",
            "_model_module_version": "1.5.0",
            "_model_name": "VBoxModel",
            "_view_count": null,
            "_view_module": "@jupyter-widgets/controls",
            "_view_module_version": "1.5.0",
            "_view_name": "VBoxView",
            "box_style": "",
            "children": [
              "IPY_MODEL_3a002df192e94fe0b974fbe658bd235b",
              "IPY_MODEL_1379a60353db4f7cba9d780dccf1f5bd"
            ],
            "layout": "IPY_MODEL_f9caafce80504931a8fc95f0c062c890"
          }
        },
        "3a002df192e94fe0b974fbe658bd235b": {
          "model_module": "@jupyter-widgets/controls",
          "model_name": "LabelModel",
          "model_module_version": "1.5.0",
          "state": {
            "_dom_classes": [],
            "_model_module": "@jupyter-widgets/controls",
            "_model_module_version": "1.5.0",
            "_model_name": "LabelModel",
            "_view_count": null,
            "_view_module": "@jupyter-widgets/controls",
            "_view_module_version": "1.5.0",
            "_view_name": "LabelView",
            "description": "",
            "description_tooltip": null,
            "layout": "IPY_MODEL_b581de4bcb2f45daa139ea10077cc7cd",
            "placeholder": "​",
            "style": "IPY_MODEL_49fb1e8032bc41bc9572059fec4e8ab0",
            "value": "0.014 MB of 0.014 MB uploaded\r"
          }
        },
        "1379a60353db4f7cba9d780dccf1f5bd": {
          "model_module": "@jupyter-widgets/controls",
          "model_name": "FloatProgressModel",
          "model_module_version": "1.5.0",
          "state": {
            "_dom_classes": [],
            "_model_module": "@jupyter-widgets/controls",
            "_model_module_version": "1.5.0",
            "_model_name": "FloatProgressModel",
            "_view_count": null,
            "_view_module": "@jupyter-widgets/controls",
            "_view_module_version": "1.5.0",
            "_view_name": "ProgressView",
            "bar_style": "",
            "description": "",
            "description_tooltip": null,
            "layout": "IPY_MODEL_13520d77e893401a801976d3296f4a93",
            "max": 1,
            "min": 0,
            "orientation": "horizontal",
            "style": "IPY_MODEL_085bbf87b59842789044abfcb6e51575",
            "value": 1
          }
        },
        "f9caafce80504931a8fc95f0c062c890": {
          "model_module": "@jupyter-widgets/base",
          "model_name": "LayoutModel",
          "model_module_version": "1.2.0",
          "state": {
            "_model_module": "@jupyter-widgets/base",
            "_model_module_version": "1.2.0",
            "_model_name": "LayoutModel",
            "_view_count": null,
            "_view_module": "@jupyter-widgets/base",
            "_view_module_version": "1.2.0",
            "_view_name": "LayoutView",
            "align_content": null,
            "align_items": null,
            "align_self": null,
            "border": null,
            "bottom": null,
            "display": null,
            "flex": null,
            "flex_flow": null,
            "grid_area": null,
            "grid_auto_columns": null,
            "grid_auto_flow": null,
            "grid_auto_rows": null,
            "grid_column": null,
            "grid_gap": null,
            "grid_row": null,
            "grid_template_areas": null,
            "grid_template_columns": null,
            "grid_template_rows": null,
            "height": null,
            "justify_content": null,
            "justify_items": null,
            "left": null,
            "margin": null,
            "max_height": null,
            "max_width": null,
            "min_height": null,
            "min_width": null,
            "object_fit": null,
            "object_position": null,
            "order": null,
            "overflow": null,
            "overflow_x": null,
            "overflow_y": null,
            "padding": null,
            "right": null,
            "top": null,
            "visibility": null,
            "width": null
          }
        },
        "b581de4bcb2f45daa139ea10077cc7cd": {
          "model_module": "@jupyter-widgets/base",
          "model_name": "LayoutModel",
          "model_module_version": "1.2.0",
          "state": {
            "_model_module": "@jupyter-widgets/base",
            "_model_module_version": "1.2.0",
            "_model_name": "LayoutModel",
            "_view_count": null,
            "_view_module": "@jupyter-widgets/base",
            "_view_module_version": "1.2.0",
            "_view_name": "LayoutView",
            "align_content": null,
            "align_items": null,
            "align_self": null,
            "border": null,
            "bottom": null,
            "display": null,
            "flex": null,
            "flex_flow": null,
            "grid_area": null,
            "grid_auto_columns": null,
            "grid_auto_flow": null,
            "grid_auto_rows": null,
            "grid_column": null,
            "grid_gap": null,
            "grid_row": null,
            "grid_template_areas": null,
            "grid_template_columns": null,
            "grid_template_rows": null,
            "height": null,
            "justify_content": null,
            "justify_items": null,
            "left": null,
            "margin": null,
            "max_height": null,
            "max_width": null,
            "min_height": null,
            "min_width": null,
            "object_fit": null,
            "object_position": null,
            "order": null,
            "overflow": null,
            "overflow_x": null,
            "overflow_y": null,
            "padding": null,
            "right": null,
            "top": null,
            "visibility": null,
            "width": null
          }
        },
        "49fb1e8032bc41bc9572059fec4e8ab0": {
          "model_module": "@jupyter-widgets/controls",
          "model_name": "DescriptionStyleModel",
          "model_module_version": "1.5.0",
          "state": {
            "_model_module": "@jupyter-widgets/controls",
            "_model_module_version": "1.5.0",
            "_model_name": "DescriptionStyleModel",
            "_view_count": null,
            "_view_module": "@jupyter-widgets/base",
            "_view_module_version": "1.2.0",
            "_view_name": "StyleView",
            "description_width": ""
          }
        },
        "13520d77e893401a801976d3296f4a93": {
          "model_module": "@jupyter-widgets/base",
          "model_name": "LayoutModel",
          "model_module_version": "1.2.0",
          "state": {
            "_model_module": "@jupyter-widgets/base",
            "_model_module_version": "1.2.0",
            "_model_name": "LayoutModel",
            "_view_count": null,
            "_view_module": "@jupyter-widgets/base",
            "_view_module_version": "1.2.0",
            "_view_name": "LayoutView",
            "align_content": null,
            "align_items": null,
            "align_self": null,
            "border": null,
            "bottom": null,
            "display": null,
            "flex": null,
            "flex_flow": null,
            "grid_area": null,
            "grid_auto_columns": null,
            "grid_auto_flow": null,
            "grid_auto_rows": null,
            "grid_column": null,
            "grid_gap": null,
            "grid_row": null,
            "grid_template_areas": null,
            "grid_template_columns": null,
            "grid_template_rows": null,
            "height": null,
            "justify_content": null,
            "justify_items": null,
            "left": null,
            "margin": null,
            "max_height": null,
            "max_width": null,
            "min_height": null,
            "min_width": null,
            "object_fit": null,
            "object_position": null,
            "order": null,
            "overflow": null,
            "overflow_x": null,
            "overflow_y": null,
            "padding": null,
            "right": null,
            "top": null,
            "visibility": null,
            "width": null
          }
        },
        "085bbf87b59842789044abfcb6e51575": {
          "model_module": "@jupyter-widgets/controls",
          "model_name": "ProgressStyleModel",
          "model_module_version": "1.5.0",
          "state": {
            "_model_module": "@jupyter-widgets/controls",
            "_model_module_version": "1.5.0",
            "_model_name": "ProgressStyleModel",
            "_view_count": null,
            "_view_module": "@jupyter-widgets/base",
            "_view_module_version": "1.2.0",
            "_view_name": "StyleView",
            "bar_color": null,
            "description_width": ""
          }
        },
        "1db0bb84d3794c0e9aa6544abf688202": {
          "model_module": "@jupyter-widgets/controls",
          "model_name": "VBoxModel",
          "model_module_version": "1.5.0",
          "state": {
            "_dom_classes": [],
            "_model_module": "@jupyter-widgets/controls",
            "_model_module_version": "1.5.0",
            "_model_name": "VBoxModel",
            "_view_count": null,
            "_view_module": "@jupyter-widgets/controls",
            "_view_module_version": "1.5.0",
            "_view_name": "VBoxView",
            "box_style": "",
            "children": [
              "IPY_MODEL_17824e3ec22446fcbec9e03a9a1008c0",
              "IPY_MODEL_74cbbfbe921f481a877eed16a3a4ce52"
            ],
            "layout": "IPY_MODEL_8caca10e169943359c64e1d928702157"
          }
        },
        "17824e3ec22446fcbec9e03a9a1008c0": {
          "model_module": "@jupyter-widgets/controls",
          "model_name": "LabelModel",
          "model_module_version": "1.5.0",
          "state": {
            "_dom_classes": [],
            "_model_module": "@jupyter-widgets/controls",
            "_model_module_version": "1.5.0",
            "_model_name": "LabelModel",
            "_view_count": null,
            "_view_module": "@jupyter-widgets/controls",
            "_view_module_version": "1.5.0",
            "_view_name": "LabelView",
            "description": "",
            "description_tooltip": null,
            "layout": "IPY_MODEL_4066ebe03f004a858631f370b4bc8acf",
            "placeholder": "​",
            "style": "IPY_MODEL_a600bac795604ec58fa5b59db7aa1132",
            "value": "0.016 MB of 0.016 MB uploaded\r"
          }
        },
        "74cbbfbe921f481a877eed16a3a4ce52": {
          "model_module": "@jupyter-widgets/controls",
          "model_name": "FloatProgressModel",
          "model_module_version": "1.5.0",
          "state": {
            "_dom_classes": [],
            "_model_module": "@jupyter-widgets/controls",
            "_model_module_version": "1.5.0",
            "_model_name": "FloatProgressModel",
            "_view_count": null,
            "_view_module": "@jupyter-widgets/controls",
            "_view_module_version": "1.5.0",
            "_view_name": "ProgressView",
            "bar_style": "",
            "description": "",
            "description_tooltip": null,
            "layout": "IPY_MODEL_1dcd46e87aeb4c14b309b9bff76578e2",
            "max": 1,
            "min": 0,
            "orientation": "horizontal",
            "style": "IPY_MODEL_dced75fe5bbe48f6b3148f3a395d573e",
            "value": 1
          }
        },
        "8caca10e169943359c64e1d928702157": {
          "model_module": "@jupyter-widgets/base",
          "model_name": "LayoutModel",
          "model_module_version": "1.2.0",
          "state": {
            "_model_module": "@jupyter-widgets/base",
            "_model_module_version": "1.2.0",
            "_model_name": "LayoutModel",
            "_view_count": null,
            "_view_module": "@jupyter-widgets/base",
            "_view_module_version": "1.2.0",
            "_view_name": "LayoutView",
            "align_content": null,
            "align_items": null,
            "align_self": null,
            "border": null,
            "bottom": null,
            "display": null,
            "flex": null,
            "flex_flow": null,
            "grid_area": null,
            "grid_auto_columns": null,
            "grid_auto_flow": null,
            "grid_auto_rows": null,
            "grid_column": null,
            "grid_gap": null,
            "grid_row": null,
            "grid_template_areas": null,
            "grid_template_columns": null,
            "grid_template_rows": null,
            "height": null,
            "justify_content": null,
            "justify_items": null,
            "left": null,
            "margin": null,
            "max_height": null,
            "max_width": null,
            "min_height": null,
            "min_width": null,
            "object_fit": null,
            "object_position": null,
            "order": null,
            "overflow": null,
            "overflow_x": null,
            "overflow_y": null,
            "padding": null,
            "right": null,
            "top": null,
            "visibility": null,
            "width": null
          }
        },
        "4066ebe03f004a858631f370b4bc8acf": {
          "model_module": "@jupyter-widgets/base",
          "model_name": "LayoutModel",
          "model_module_version": "1.2.0",
          "state": {
            "_model_module": "@jupyter-widgets/base",
            "_model_module_version": "1.2.0",
            "_model_name": "LayoutModel",
            "_view_count": null,
            "_view_module": "@jupyter-widgets/base",
            "_view_module_version": "1.2.0",
            "_view_name": "LayoutView",
            "align_content": null,
            "align_items": null,
            "align_self": null,
            "border": null,
            "bottom": null,
            "display": null,
            "flex": null,
            "flex_flow": null,
            "grid_area": null,
            "grid_auto_columns": null,
            "grid_auto_flow": null,
            "grid_auto_rows": null,
            "grid_column": null,
            "grid_gap": null,
            "grid_row": null,
            "grid_template_areas": null,
            "grid_template_columns": null,
            "grid_template_rows": null,
            "height": null,
            "justify_content": null,
            "justify_items": null,
            "left": null,
            "margin": null,
            "max_height": null,
            "max_width": null,
            "min_height": null,
            "min_width": null,
            "object_fit": null,
            "object_position": null,
            "order": null,
            "overflow": null,
            "overflow_x": null,
            "overflow_y": null,
            "padding": null,
            "right": null,
            "top": null,
            "visibility": null,
            "width": null
          }
        },
        "a600bac795604ec58fa5b59db7aa1132": {
          "model_module": "@jupyter-widgets/controls",
          "model_name": "DescriptionStyleModel",
          "model_module_version": "1.5.0",
          "state": {
            "_model_module": "@jupyter-widgets/controls",
            "_model_module_version": "1.5.0",
            "_model_name": "DescriptionStyleModel",
            "_view_count": null,
            "_view_module": "@jupyter-widgets/base",
            "_view_module_version": "1.2.0",
            "_view_name": "StyleView",
            "description_width": ""
          }
        },
        "1dcd46e87aeb4c14b309b9bff76578e2": {
          "model_module": "@jupyter-widgets/base",
          "model_name": "LayoutModel",
          "model_module_version": "1.2.0",
          "state": {
            "_model_module": "@jupyter-widgets/base",
            "_model_module_version": "1.2.0",
            "_model_name": "LayoutModel",
            "_view_count": null,
            "_view_module": "@jupyter-widgets/base",
            "_view_module_version": "1.2.0",
            "_view_name": "LayoutView",
            "align_content": null,
            "align_items": null,
            "align_self": null,
            "border": null,
            "bottom": null,
            "display": null,
            "flex": null,
            "flex_flow": null,
            "grid_area": null,
            "grid_auto_columns": null,
            "grid_auto_flow": null,
            "grid_auto_rows": null,
            "grid_column": null,
            "grid_gap": null,
            "grid_row": null,
            "grid_template_areas": null,
            "grid_template_columns": null,
            "grid_template_rows": null,
            "height": null,
            "justify_content": null,
            "justify_items": null,
            "left": null,
            "margin": null,
            "max_height": null,
            "max_width": null,
            "min_height": null,
            "min_width": null,
            "object_fit": null,
            "object_position": null,
            "order": null,
            "overflow": null,
            "overflow_x": null,
            "overflow_y": null,
            "padding": null,
            "right": null,
            "top": null,
            "visibility": null,
            "width": null
          }
        },
        "dced75fe5bbe48f6b3148f3a395d573e": {
          "model_module": "@jupyter-widgets/controls",
          "model_name": "ProgressStyleModel",
          "model_module_version": "1.5.0",
          "state": {
            "_model_module": "@jupyter-widgets/controls",
            "_model_module_version": "1.5.0",
            "_model_name": "ProgressStyleModel",
            "_view_count": null,
            "_view_module": "@jupyter-widgets/base",
            "_view_module_version": "1.2.0",
            "_view_name": "StyleView",
            "bar_color": null,
            "description_width": ""
          }
        },
        "124a512cebf24391a0743aa42476b12c": {
          "model_module": "@jupyter-widgets/controls",
          "model_name": "VBoxModel",
          "model_module_version": "1.5.0",
          "state": {
            "_dom_classes": [],
            "_model_module": "@jupyter-widgets/controls",
            "_model_module_version": "1.5.0",
            "_model_name": "VBoxModel",
            "_view_count": null,
            "_view_module": "@jupyter-widgets/controls",
            "_view_module_version": "1.5.0",
            "_view_name": "VBoxView",
            "box_style": "",
            "children": [
              "IPY_MODEL_67887675947a4eb796f2048ef1e3c008",
              "IPY_MODEL_b51863cf73b04d96886343799ed650f2"
            ],
            "layout": "IPY_MODEL_bfd5d4f3dd834ec1a090725c484dde6b"
          }
        },
        "67887675947a4eb796f2048ef1e3c008": {
          "model_module": "@jupyter-widgets/controls",
          "model_name": "LabelModel",
          "model_module_version": "1.5.0",
          "state": {
            "_dom_classes": [],
            "_model_module": "@jupyter-widgets/controls",
            "_model_module_version": "1.5.0",
            "_model_name": "LabelModel",
            "_view_count": null,
            "_view_module": "@jupyter-widgets/controls",
            "_view_module_version": "1.5.0",
            "_view_name": "LabelView",
            "description": "",
            "description_tooltip": null,
            "layout": "IPY_MODEL_0bbfc34dc39940e39e782778872b51b2",
            "placeholder": "​",
            "style": "IPY_MODEL_166cf98ff3d94324a984a325eccd490c",
            "value": "0.016 MB of 0.016 MB uploaded\r"
          }
        },
        "b51863cf73b04d96886343799ed650f2": {
          "model_module": "@jupyter-widgets/controls",
          "model_name": "FloatProgressModel",
          "model_module_version": "1.5.0",
          "state": {
            "_dom_classes": [],
            "_model_module": "@jupyter-widgets/controls",
            "_model_module_version": "1.5.0",
            "_model_name": "FloatProgressModel",
            "_view_count": null,
            "_view_module": "@jupyter-widgets/controls",
            "_view_module_version": "1.5.0",
            "_view_name": "ProgressView",
            "bar_style": "",
            "description": "",
            "description_tooltip": null,
            "layout": "IPY_MODEL_609bee36d1174952ad8715cd29c87e6c",
            "max": 1,
            "min": 0,
            "orientation": "horizontal",
            "style": "IPY_MODEL_773357747040485c8be70f7f10133565",
            "value": 1
          }
        },
        "bfd5d4f3dd834ec1a090725c484dde6b": {
          "model_module": "@jupyter-widgets/base",
          "model_name": "LayoutModel",
          "model_module_version": "1.2.0",
          "state": {
            "_model_module": "@jupyter-widgets/base",
            "_model_module_version": "1.2.0",
            "_model_name": "LayoutModel",
            "_view_count": null,
            "_view_module": "@jupyter-widgets/base",
            "_view_module_version": "1.2.0",
            "_view_name": "LayoutView",
            "align_content": null,
            "align_items": null,
            "align_self": null,
            "border": null,
            "bottom": null,
            "display": null,
            "flex": null,
            "flex_flow": null,
            "grid_area": null,
            "grid_auto_columns": null,
            "grid_auto_flow": null,
            "grid_auto_rows": null,
            "grid_column": null,
            "grid_gap": null,
            "grid_row": null,
            "grid_template_areas": null,
            "grid_template_columns": null,
            "grid_template_rows": null,
            "height": null,
            "justify_content": null,
            "justify_items": null,
            "left": null,
            "margin": null,
            "max_height": null,
            "max_width": null,
            "min_height": null,
            "min_width": null,
            "object_fit": null,
            "object_position": null,
            "order": null,
            "overflow": null,
            "overflow_x": null,
            "overflow_y": null,
            "padding": null,
            "right": null,
            "top": null,
            "visibility": null,
            "width": null
          }
        },
        "0bbfc34dc39940e39e782778872b51b2": {
          "model_module": "@jupyter-widgets/base",
          "model_name": "LayoutModel",
          "model_module_version": "1.2.0",
          "state": {
            "_model_module": "@jupyter-widgets/base",
            "_model_module_version": "1.2.0",
            "_model_name": "LayoutModel",
            "_view_count": null,
            "_view_module": "@jupyter-widgets/base",
            "_view_module_version": "1.2.0",
            "_view_name": "LayoutView",
            "align_content": null,
            "align_items": null,
            "align_self": null,
            "border": null,
            "bottom": null,
            "display": null,
            "flex": null,
            "flex_flow": null,
            "grid_area": null,
            "grid_auto_columns": null,
            "grid_auto_flow": null,
            "grid_auto_rows": null,
            "grid_column": null,
            "grid_gap": null,
            "grid_row": null,
            "grid_template_areas": null,
            "grid_template_columns": null,
            "grid_template_rows": null,
            "height": null,
            "justify_content": null,
            "justify_items": null,
            "left": null,
            "margin": null,
            "max_height": null,
            "max_width": null,
            "min_height": null,
            "min_width": null,
            "object_fit": null,
            "object_position": null,
            "order": null,
            "overflow": null,
            "overflow_x": null,
            "overflow_y": null,
            "padding": null,
            "right": null,
            "top": null,
            "visibility": null,
            "width": null
          }
        },
        "166cf98ff3d94324a984a325eccd490c": {
          "model_module": "@jupyter-widgets/controls",
          "model_name": "DescriptionStyleModel",
          "model_module_version": "1.5.0",
          "state": {
            "_model_module": "@jupyter-widgets/controls",
            "_model_module_version": "1.5.0",
            "_model_name": "DescriptionStyleModel",
            "_view_count": null,
            "_view_module": "@jupyter-widgets/base",
            "_view_module_version": "1.2.0",
            "_view_name": "StyleView",
            "description_width": ""
          }
        },
        "609bee36d1174952ad8715cd29c87e6c": {
          "model_module": "@jupyter-widgets/base",
          "model_name": "LayoutModel",
          "model_module_version": "1.2.0",
          "state": {
            "_model_module": "@jupyter-widgets/base",
            "_model_module_version": "1.2.0",
            "_model_name": "LayoutModel",
            "_view_count": null,
            "_view_module": "@jupyter-widgets/base",
            "_view_module_version": "1.2.0",
            "_view_name": "LayoutView",
            "align_content": null,
            "align_items": null,
            "align_self": null,
            "border": null,
            "bottom": null,
            "display": null,
            "flex": null,
            "flex_flow": null,
            "grid_area": null,
            "grid_auto_columns": null,
            "grid_auto_flow": null,
            "grid_auto_rows": null,
            "grid_column": null,
            "grid_gap": null,
            "grid_row": null,
            "grid_template_areas": null,
            "grid_template_columns": null,
            "grid_template_rows": null,
            "height": null,
            "justify_content": null,
            "justify_items": null,
            "left": null,
            "margin": null,
            "max_height": null,
            "max_width": null,
            "min_height": null,
            "min_width": null,
            "object_fit": null,
            "object_position": null,
            "order": null,
            "overflow": null,
            "overflow_x": null,
            "overflow_y": null,
            "padding": null,
            "right": null,
            "top": null,
            "visibility": null,
            "width": null
          }
        },
        "773357747040485c8be70f7f10133565": {
          "model_module": "@jupyter-widgets/controls",
          "model_name": "ProgressStyleModel",
          "model_module_version": "1.5.0",
          "state": {
            "_model_module": "@jupyter-widgets/controls",
            "_model_module_version": "1.5.0",
            "_model_name": "ProgressStyleModel",
            "_view_count": null,
            "_view_module": "@jupyter-widgets/base",
            "_view_module_version": "1.2.0",
            "_view_name": "StyleView",
            "bar_color": null,
            "description_width": ""
          }
        },
        "0363a04f3f1d493cad7b5c7b09d91620": {
          "model_module": "@jupyter-widgets/controls",
          "model_name": "VBoxModel",
          "model_module_version": "1.5.0",
          "state": {
            "_dom_classes": [],
            "_model_module": "@jupyter-widgets/controls",
            "_model_module_version": "1.5.0",
            "_model_name": "VBoxModel",
            "_view_count": null,
            "_view_module": "@jupyter-widgets/controls",
            "_view_module_version": "1.5.0",
            "_view_name": "VBoxView",
            "box_style": "",
            "children": [
              "IPY_MODEL_3c868ac7bd6e4edd8de291b5d4f78414",
              "IPY_MODEL_e93c5730d3654866afa57ed0b833923a"
            ],
            "layout": "IPY_MODEL_88f862e9d8cb48999a11a80e2f3b3a5f"
          }
        },
        "3c868ac7bd6e4edd8de291b5d4f78414": {
          "model_module": "@jupyter-widgets/controls",
          "model_name": "LabelModel",
          "model_module_version": "1.5.0",
          "state": {
            "_dom_classes": [],
            "_model_module": "@jupyter-widgets/controls",
            "_model_module_version": "1.5.0",
            "_model_name": "LabelModel",
            "_view_count": null,
            "_view_module": "@jupyter-widgets/controls",
            "_view_module_version": "1.5.0",
            "_view_name": "LabelView",
            "description": "",
            "description_tooltip": null,
            "layout": "IPY_MODEL_f8f8328e0c774c79b4a6f223da2bc484",
            "placeholder": "​",
            "style": "IPY_MODEL_7b08fcf1d7044132a120ff4db32f5d23",
            "value": "0.016 MB of 0.016 MB uploaded\r"
          }
        },
        "e93c5730d3654866afa57ed0b833923a": {
          "model_module": "@jupyter-widgets/controls",
          "model_name": "FloatProgressModel",
          "model_module_version": "1.5.0",
          "state": {
            "_dom_classes": [],
            "_model_module": "@jupyter-widgets/controls",
            "_model_module_version": "1.5.0",
            "_model_name": "FloatProgressModel",
            "_view_count": null,
            "_view_module": "@jupyter-widgets/controls",
            "_view_module_version": "1.5.0",
            "_view_name": "ProgressView",
            "bar_style": "",
            "description": "",
            "description_tooltip": null,
            "layout": "IPY_MODEL_c296aebe311641868daa86a19025ae45",
            "max": 1,
            "min": 0,
            "orientation": "horizontal",
            "style": "IPY_MODEL_8a544ba786994d60bfd7dde4a2ef8f5e",
            "value": 1
          }
        },
        "88f862e9d8cb48999a11a80e2f3b3a5f": {
          "model_module": "@jupyter-widgets/base",
          "model_name": "LayoutModel",
          "model_module_version": "1.2.0",
          "state": {
            "_model_module": "@jupyter-widgets/base",
            "_model_module_version": "1.2.0",
            "_model_name": "LayoutModel",
            "_view_count": null,
            "_view_module": "@jupyter-widgets/base",
            "_view_module_version": "1.2.0",
            "_view_name": "LayoutView",
            "align_content": null,
            "align_items": null,
            "align_self": null,
            "border": null,
            "bottom": null,
            "display": null,
            "flex": null,
            "flex_flow": null,
            "grid_area": null,
            "grid_auto_columns": null,
            "grid_auto_flow": null,
            "grid_auto_rows": null,
            "grid_column": null,
            "grid_gap": null,
            "grid_row": null,
            "grid_template_areas": null,
            "grid_template_columns": null,
            "grid_template_rows": null,
            "height": null,
            "justify_content": null,
            "justify_items": null,
            "left": null,
            "margin": null,
            "max_height": null,
            "max_width": null,
            "min_height": null,
            "min_width": null,
            "object_fit": null,
            "object_position": null,
            "order": null,
            "overflow": null,
            "overflow_x": null,
            "overflow_y": null,
            "padding": null,
            "right": null,
            "top": null,
            "visibility": null,
            "width": null
          }
        },
        "f8f8328e0c774c79b4a6f223da2bc484": {
          "model_module": "@jupyter-widgets/base",
          "model_name": "LayoutModel",
          "model_module_version": "1.2.0",
          "state": {
            "_model_module": "@jupyter-widgets/base",
            "_model_module_version": "1.2.0",
            "_model_name": "LayoutModel",
            "_view_count": null,
            "_view_module": "@jupyter-widgets/base",
            "_view_module_version": "1.2.0",
            "_view_name": "LayoutView",
            "align_content": null,
            "align_items": null,
            "align_self": null,
            "border": null,
            "bottom": null,
            "display": null,
            "flex": null,
            "flex_flow": null,
            "grid_area": null,
            "grid_auto_columns": null,
            "grid_auto_flow": null,
            "grid_auto_rows": null,
            "grid_column": null,
            "grid_gap": null,
            "grid_row": null,
            "grid_template_areas": null,
            "grid_template_columns": null,
            "grid_template_rows": null,
            "height": null,
            "justify_content": null,
            "justify_items": null,
            "left": null,
            "margin": null,
            "max_height": null,
            "max_width": null,
            "min_height": null,
            "min_width": null,
            "object_fit": null,
            "object_position": null,
            "order": null,
            "overflow": null,
            "overflow_x": null,
            "overflow_y": null,
            "padding": null,
            "right": null,
            "top": null,
            "visibility": null,
            "width": null
          }
        },
        "7b08fcf1d7044132a120ff4db32f5d23": {
          "model_module": "@jupyter-widgets/controls",
          "model_name": "DescriptionStyleModel",
          "model_module_version": "1.5.0",
          "state": {
            "_model_module": "@jupyter-widgets/controls",
            "_model_module_version": "1.5.0",
            "_model_name": "DescriptionStyleModel",
            "_view_count": null,
            "_view_module": "@jupyter-widgets/base",
            "_view_module_version": "1.2.0",
            "_view_name": "StyleView",
            "description_width": ""
          }
        },
        "c296aebe311641868daa86a19025ae45": {
          "model_module": "@jupyter-widgets/base",
          "model_name": "LayoutModel",
          "model_module_version": "1.2.0",
          "state": {
            "_model_module": "@jupyter-widgets/base",
            "_model_module_version": "1.2.0",
            "_model_name": "LayoutModel",
            "_view_count": null,
            "_view_module": "@jupyter-widgets/base",
            "_view_module_version": "1.2.0",
            "_view_name": "LayoutView",
            "align_content": null,
            "align_items": null,
            "align_self": null,
            "border": null,
            "bottom": null,
            "display": null,
            "flex": null,
            "flex_flow": null,
            "grid_area": null,
            "grid_auto_columns": null,
            "grid_auto_flow": null,
            "grid_auto_rows": null,
            "grid_column": null,
            "grid_gap": null,
            "grid_row": null,
            "grid_template_areas": null,
            "grid_template_columns": null,
            "grid_template_rows": null,
            "height": null,
            "justify_content": null,
            "justify_items": null,
            "left": null,
            "margin": null,
            "max_height": null,
            "max_width": null,
            "min_height": null,
            "min_width": null,
            "object_fit": null,
            "object_position": null,
            "order": null,
            "overflow": null,
            "overflow_x": null,
            "overflow_y": null,
            "padding": null,
            "right": null,
            "top": null,
            "visibility": null,
            "width": null
          }
        },
        "8a544ba786994d60bfd7dde4a2ef8f5e": {
          "model_module": "@jupyter-widgets/controls",
          "model_name": "ProgressStyleModel",
          "model_module_version": "1.5.0",
          "state": {
            "_model_module": "@jupyter-widgets/controls",
            "_model_module_version": "1.5.0",
            "_model_name": "ProgressStyleModel",
            "_view_count": null,
            "_view_module": "@jupyter-widgets/base",
            "_view_module_version": "1.2.0",
            "_view_name": "StyleView",
            "bar_color": null,
            "description_width": ""
          }
        },
        "6c0a25ca5eba44e4a404984bc26b5ddb": {
          "model_module": "@jupyter-widgets/controls",
          "model_name": "VBoxModel",
          "model_module_version": "1.5.0",
          "state": {
            "_dom_classes": [],
            "_model_module": "@jupyter-widgets/controls",
            "_model_module_version": "1.5.0",
            "_model_name": "VBoxModel",
            "_view_count": null,
            "_view_module": "@jupyter-widgets/controls",
            "_view_module_version": "1.5.0",
            "_view_name": "VBoxView",
            "box_style": "",
            "children": [
              "IPY_MODEL_ac36b86694ce46169523979f9496004f",
              "IPY_MODEL_ab25fc27fa85425f8b1970aa75156974"
            ],
            "layout": "IPY_MODEL_c1e3f896325f46fb91e9ffc16e9cd5e4"
          }
        },
        "ac36b86694ce46169523979f9496004f": {
          "model_module": "@jupyter-widgets/controls",
          "model_name": "LabelModel",
          "model_module_version": "1.5.0",
          "state": {
            "_dom_classes": [],
            "_model_module": "@jupyter-widgets/controls",
            "_model_module_version": "1.5.0",
            "_model_name": "LabelModel",
            "_view_count": null,
            "_view_module": "@jupyter-widgets/controls",
            "_view_module_version": "1.5.0",
            "_view_name": "LabelView",
            "description": "",
            "description_tooltip": null,
            "layout": "IPY_MODEL_a74235b71b4c4b4c91a351607421c79b",
            "placeholder": "​",
            "style": "IPY_MODEL_f8a79260835c4e009643c7f71cf044ec",
            "value": "0.016 MB of 0.016 MB uploaded\r"
          }
        },
        "ab25fc27fa85425f8b1970aa75156974": {
          "model_module": "@jupyter-widgets/controls",
          "model_name": "FloatProgressModel",
          "model_module_version": "1.5.0",
          "state": {
            "_dom_classes": [],
            "_model_module": "@jupyter-widgets/controls",
            "_model_module_version": "1.5.0",
            "_model_name": "FloatProgressModel",
            "_view_count": null,
            "_view_module": "@jupyter-widgets/controls",
            "_view_module_version": "1.5.0",
            "_view_name": "ProgressView",
            "bar_style": "",
            "description": "",
            "description_tooltip": null,
            "layout": "IPY_MODEL_cf19dabccea841a7ae401d00afd46e98",
            "max": 1,
            "min": 0,
            "orientation": "horizontal",
            "style": "IPY_MODEL_f735143f5c6643758f12951c5db2dec5",
            "value": 1
          }
        },
        "c1e3f896325f46fb91e9ffc16e9cd5e4": {
          "model_module": "@jupyter-widgets/base",
          "model_name": "LayoutModel",
          "model_module_version": "1.2.0",
          "state": {
            "_model_module": "@jupyter-widgets/base",
            "_model_module_version": "1.2.0",
            "_model_name": "LayoutModel",
            "_view_count": null,
            "_view_module": "@jupyter-widgets/base",
            "_view_module_version": "1.2.0",
            "_view_name": "LayoutView",
            "align_content": null,
            "align_items": null,
            "align_self": null,
            "border": null,
            "bottom": null,
            "display": null,
            "flex": null,
            "flex_flow": null,
            "grid_area": null,
            "grid_auto_columns": null,
            "grid_auto_flow": null,
            "grid_auto_rows": null,
            "grid_column": null,
            "grid_gap": null,
            "grid_row": null,
            "grid_template_areas": null,
            "grid_template_columns": null,
            "grid_template_rows": null,
            "height": null,
            "justify_content": null,
            "justify_items": null,
            "left": null,
            "margin": null,
            "max_height": null,
            "max_width": null,
            "min_height": null,
            "min_width": null,
            "object_fit": null,
            "object_position": null,
            "order": null,
            "overflow": null,
            "overflow_x": null,
            "overflow_y": null,
            "padding": null,
            "right": null,
            "top": null,
            "visibility": null,
            "width": null
          }
        },
        "a74235b71b4c4b4c91a351607421c79b": {
          "model_module": "@jupyter-widgets/base",
          "model_name": "LayoutModel",
          "model_module_version": "1.2.0",
          "state": {
            "_model_module": "@jupyter-widgets/base",
            "_model_module_version": "1.2.0",
            "_model_name": "LayoutModel",
            "_view_count": null,
            "_view_module": "@jupyter-widgets/base",
            "_view_module_version": "1.2.0",
            "_view_name": "LayoutView",
            "align_content": null,
            "align_items": null,
            "align_self": null,
            "border": null,
            "bottom": null,
            "display": null,
            "flex": null,
            "flex_flow": null,
            "grid_area": null,
            "grid_auto_columns": null,
            "grid_auto_flow": null,
            "grid_auto_rows": null,
            "grid_column": null,
            "grid_gap": null,
            "grid_row": null,
            "grid_template_areas": null,
            "grid_template_columns": null,
            "grid_template_rows": null,
            "height": null,
            "justify_content": null,
            "justify_items": null,
            "left": null,
            "margin": null,
            "max_height": null,
            "max_width": null,
            "min_height": null,
            "min_width": null,
            "object_fit": null,
            "object_position": null,
            "order": null,
            "overflow": null,
            "overflow_x": null,
            "overflow_y": null,
            "padding": null,
            "right": null,
            "top": null,
            "visibility": null,
            "width": null
          }
        },
        "f8a79260835c4e009643c7f71cf044ec": {
          "model_module": "@jupyter-widgets/controls",
          "model_name": "DescriptionStyleModel",
          "model_module_version": "1.5.0",
          "state": {
            "_model_module": "@jupyter-widgets/controls",
            "_model_module_version": "1.5.0",
            "_model_name": "DescriptionStyleModel",
            "_view_count": null,
            "_view_module": "@jupyter-widgets/base",
            "_view_module_version": "1.2.0",
            "_view_name": "StyleView",
            "description_width": ""
          }
        },
        "cf19dabccea841a7ae401d00afd46e98": {
          "model_module": "@jupyter-widgets/base",
          "model_name": "LayoutModel",
          "model_module_version": "1.2.0",
          "state": {
            "_model_module": "@jupyter-widgets/base",
            "_model_module_version": "1.2.0",
            "_model_name": "LayoutModel",
            "_view_count": null,
            "_view_module": "@jupyter-widgets/base",
            "_view_module_version": "1.2.0",
            "_view_name": "LayoutView",
            "align_content": null,
            "align_items": null,
            "align_self": null,
            "border": null,
            "bottom": null,
            "display": null,
            "flex": null,
            "flex_flow": null,
            "grid_area": null,
            "grid_auto_columns": null,
            "grid_auto_flow": null,
            "grid_auto_rows": null,
            "grid_column": null,
            "grid_gap": null,
            "grid_row": null,
            "grid_template_areas": null,
            "grid_template_columns": null,
            "grid_template_rows": null,
            "height": null,
            "justify_content": null,
            "justify_items": null,
            "left": null,
            "margin": null,
            "max_height": null,
            "max_width": null,
            "min_height": null,
            "min_width": null,
            "object_fit": null,
            "object_position": null,
            "order": null,
            "overflow": null,
            "overflow_x": null,
            "overflow_y": null,
            "padding": null,
            "right": null,
            "top": null,
            "visibility": null,
            "width": null
          }
        },
        "f735143f5c6643758f12951c5db2dec5": {
          "model_module": "@jupyter-widgets/controls",
          "model_name": "ProgressStyleModel",
          "model_module_version": "1.5.0",
          "state": {
            "_model_module": "@jupyter-widgets/controls",
            "_model_module_version": "1.5.0",
            "_model_name": "ProgressStyleModel",
            "_view_count": null,
            "_view_module": "@jupyter-widgets/base",
            "_view_module_version": "1.2.0",
            "_view_name": "StyleView",
            "bar_color": null,
            "description_width": ""
          }
        },
        "022bfceb400a465fa90a23a2f7865fc4": {
          "model_module": "@jupyter-widgets/controls",
          "model_name": "VBoxModel",
          "model_module_version": "1.5.0",
          "state": {
            "_dom_classes": [],
            "_model_module": "@jupyter-widgets/controls",
            "_model_module_version": "1.5.0",
            "_model_name": "VBoxModel",
            "_view_count": null,
            "_view_module": "@jupyter-widgets/controls",
            "_view_module_version": "1.5.0",
            "_view_name": "VBoxView",
            "box_style": "",
            "children": [
              "IPY_MODEL_393625ed55de4c1abdbb0810cc63b856",
              "IPY_MODEL_ab85f4e77eb1424f85b758f21700ae19"
            ],
            "layout": "IPY_MODEL_71f55e9ee7644b9bab4a3f14e0519508"
          }
        },
        "393625ed55de4c1abdbb0810cc63b856": {
          "model_module": "@jupyter-widgets/controls",
          "model_name": "LabelModel",
          "model_module_version": "1.5.0",
          "state": {
            "_dom_classes": [],
            "_model_module": "@jupyter-widgets/controls",
            "_model_module_version": "1.5.0",
            "_model_name": "LabelModel",
            "_view_count": null,
            "_view_module": "@jupyter-widgets/controls",
            "_view_module_version": "1.5.0",
            "_view_name": "LabelView",
            "description": "",
            "description_tooltip": null,
            "layout": "IPY_MODEL_b1604ffd61da4b9ebc0a10fc2bbd41d6",
            "placeholder": "​",
            "style": "IPY_MODEL_0656301b70c34d1ebed5ed0a0fe11793",
            "value": "0.016 MB of 0.016 MB uploaded\r"
          }
        },
        "ab85f4e77eb1424f85b758f21700ae19": {
          "model_module": "@jupyter-widgets/controls",
          "model_name": "FloatProgressModel",
          "model_module_version": "1.5.0",
          "state": {
            "_dom_classes": [],
            "_model_module": "@jupyter-widgets/controls",
            "_model_module_version": "1.5.0",
            "_model_name": "FloatProgressModel",
            "_view_count": null,
            "_view_module": "@jupyter-widgets/controls",
            "_view_module_version": "1.5.0",
            "_view_name": "ProgressView",
            "bar_style": "",
            "description": "",
            "description_tooltip": null,
            "layout": "IPY_MODEL_0438e2a9175c4f8fa560fae46552230a",
            "max": 1,
            "min": 0,
            "orientation": "horizontal",
            "style": "IPY_MODEL_f76159242afa494bb7835c053ea1eea1",
            "value": 1
          }
        },
        "71f55e9ee7644b9bab4a3f14e0519508": {
          "model_module": "@jupyter-widgets/base",
          "model_name": "LayoutModel",
          "model_module_version": "1.2.0",
          "state": {
            "_model_module": "@jupyter-widgets/base",
            "_model_module_version": "1.2.0",
            "_model_name": "LayoutModel",
            "_view_count": null,
            "_view_module": "@jupyter-widgets/base",
            "_view_module_version": "1.2.0",
            "_view_name": "LayoutView",
            "align_content": null,
            "align_items": null,
            "align_self": null,
            "border": null,
            "bottom": null,
            "display": null,
            "flex": null,
            "flex_flow": null,
            "grid_area": null,
            "grid_auto_columns": null,
            "grid_auto_flow": null,
            "grid_auto_rows": null,
            "grid_column": null,
            "grid_gap": null,
            "grid_row": null,
            "grid_template_areas": null,
            "grid_template_columns": null,
            "grid_template_rows": null,
            "height": null,
            "justify_content": null,
            "justify_items": null,
            "left": null,
            "margin": null,
            "max_height": null,
            "max_width": null,
            "min_height": null,
            "min_width": null,
            "object_fit": null,
            "object_position": null,
            "order": null,
            "overflow": null,
            "overflow_x": null,
            "overflow_y": null,
            "padding": null,
            "right": null,
            "top": null,
            "visibility": null,
            "width": null
          }
        },
        "b1604ffd61da4b9ebc0a10fc2bbd41d6": {
          "model_module": "@jupyter-widgets/base",
          "model_name": "LayoutModel",
          "model_module_version": "1.2.0",
          "state": {
            "_model_module": "@jupyter-widgets/base",
            "_model_module_version": "1.2.0",
            "_model_name": "LayoutModel",
            "_view_count": null,
            "_view_module": "@jupyter-widgets/base",
            "_view_module_version": "1.2.0",
            "_view_name": "LayoutView",
            "align_content": null,
            "align_items": null,
            "align_self": null,
            "border": null,
            "bottom": null,
            "display": null,
            "flex": null,
            "flex_flow": null,
            "grid_area": null,
            "grid_auto_columns": null,
            "grid_auto_flow": null,
            "grid_auto_rows": null,
            "grid_column": null,
            "grid_gap": null,
            "grid_row": null,
            "grid_template_areas": null,
            "grid_template_columns": null,
            "grid_template_rows": null,
            "height": null,
            "justify_content": null,
            "justify_items": null,
            "left": null,
            "margin": null,
            "max_height": null,
            "max_width": null,
            "min_height": null,
            "min_width": null,
            "object_fit": null,
            "object_position": null,
            "order": null,
            "overflow": null,
            "overflow_x": null,
            "overflow_y": null,
            "padding": null,
            "right": null,
            "top": null,
            "visibility": null,
            "width": null
          }
        },
        "0656301b70c34d1ebed5ed0a0fe11793": {
          "model_module": "@jupyter-widgets/controls",
          "model_name": "DescriptionStyleModel",
          "model_module_version": "1.5.0",
          "state": {
            "_model_module": "@jupyter-widgets/controls",
            "_model_module_version": "1.5.0",
            "_model_name": "DescriptionStyleModel",
            "_view_count": null,
            "_view_module": "@jupyter-widgets/base",
            "_view_module_version": "1.2.0",
            "_view_name": "StyleView",
            "description_width": ""
          }
        },
        "0438e2a9175c4f8fa560fae46552230a": {
          "model_module": "@jupyter-widgets/base",
          "model_name": "LayoutModel",
          "model_module_version": "1.2.0",
          "state": {
            "_model_module": "@jupyter-widgets/base",
            "_model_module_version": "1.2.0",
            "_model_name": "LayoutModel",
            "_view_count": null,
            "_view_module": "@jupyter-widgets/base",
            "_view_module_version": "1.2.0",
            "_view_name": "LayoutView",
            "align_content": null,
            "align_items": null,
            "align_self": null,
            "border": null,
            "bottom": null,
            "display": null,
            "flex": null,
            "flex_flow": null,
            "grid_area": null,
            "grid_auto_columns": null,
            "grid_auto_flow": null,
            "grid_auto_rows": null,
            "grid_column": null,
            "grid_gap": null,
            "grid_row": null,
            "grid_template_areas": null,
            "grid_template_columns": null,
            "grid_template_rows": null,
            "height": null,
            "justify_content": null,
            "justify_items": null,
            "left": null,
            "margin": null,
            "max_height": null,
            "max_width": null,
            "min_height": null,
            "min_width": null,
            "object_fit": null,
            "object_position": null,
            "order": null,
            "overflow": null,
            "overflow_x": null,
            "overflow_y": null,
            "padding": null,
            "right": null,
            "top": null,
            "visibility": null,
            "width": null
          }
        },
        "f76159242afa494bb7835c053ea1eea1": {
          "model_module": "@jupyter-widgets/controls",
          "model_name": "ProgressStyleModel",
          "model_module_version": "1.5.0",
          "state": {
            "_model_module": "@jupyter-widgets/controls",
            "_model_module_version": "1.5.0",
            "_model_name": "ProgressStyleModel",
            "_view_count": null,
            "_view_module": "@jupyter-widgets/base",
            "_view_module_version": "1.2.0",
            "_view_name": "StyleView",
            "bar_color": null,
            "description_width": ""
          }
        },
        "9cfb38855f6d477fb7be75211340e1f1": {
          "model_module": "@jupyter-widgets/controls",
          "model_name": "VBoxModel",
          "model_module_version": "1.5.0",
          "state": {
            "_dom_classes": [],
            "_model_module": "@jupyter-widgets/controls",
            "_model_module_version": "1.5.0",
            "_model_name": "VBoxModel",
            "_view_count": null,
            "_view_module": "@jupyter-widgets/controls",
            "_view_module_version": "1.5.0",
            "_view_name": "VBoxView",
            "box_style": "",
            "children": [
              "IPY_MODEL_cb38fa7a97bd479ba7e486ad66f968ff",
              "IPY_MODEL_de7debf6bd5046d6a0bf075e9460f796"
            ],
            "layout": "IPY_MODEL_3fa89d3ac69e4607ae1c4b245252db90"
          }
        },
        "cb38fa7a97bd479ba7e486ad66f968ff": {
          "model_module": "@jupyter-widgets/controls",
          "model_name": "LabelModel",
          "model_module_version": "1.5.0",
          "state": {
            "_dom_classes": [],
            "_model_module": "@jupyter-widgets/controls",
            "_model_module_version": "1.5.0",
            "_model_name": "LabelModel",
            "_view_count": null,
            "_view_module": "@jupyter-widgets/controls",
            "_view_module_version": "1.5.0",
            "_view_name": "LabelView",
            "description": "",
            "description_tooltip": null,
            "layout": "IPY_MODEL_e00c8d40d2114e7b95a33f88d3077fea",
            "placeholder": "​",
            "style": "IPY_MODEL_e87a78a4fa8542b19bd411f9c204888b",
            "value": "0.016 MB of 0.016 MB uploaded\r"
          }
        },
        "de7debf6bd5046d6a0bf075e9460f796": {
          "model_module": "@jupyter-widgets/controls",
          "model_name": "FloatProgressModel",
          "model_module_version": "1.5.0",
          "state": {
            "_dom_classes": [],
            "_model_module": "@jupyter-widgets/controls",
            "_model_module_version": "1.5.0",
            "_model_name": "FloatProgressModel",
            "_view_count": null,
            "_view_module": "@jupyter-widgets/controls",
            "_view_module_version": "1.5.0",
            "_view_name": "ProgressView",
            "bar_style": "",
            "description": "",
            "description_tooltip": null,
            "layout": "IPY_MODEL_2d79e8ba49284e66bcd1184f96a0514a",
            "max": 1,
            "min": 0,
            "orientation": "horizontal",
            "style": "IPY_MODEL_c5f11be06831409785f3d47a39c0d4d0",
            "value": 1
          }
        },
        "3fa89d3ac69e4607ae1c4b245252db90": {
          "model_module": "@jupyter-widgets/base",
          "model_name": "LayoutModel",
          "model_module_version": "1.2.0",
          "state": {
            "_model_module": "@jupyter-widgets/base",
            "_model_module_version": "1.2.0",
            "_model_name": "LayoutModel",
            "_view_count": null,
            "_view_module": "@jupyter-widgets/base",
            "_view_module_version": "1.2.0",
            "_view_name": "LayoutView",
            "align_content": null,
            "align_items": null,
            "align_self": null,
            "border": null,
            "bottom": null,
            "display": null,
            "flex": null,
            "flex_flow": null,
            "grid_area": null,
            "grid_auto_columns": null,
            "grid_auto_flow": null,
            "grid_auto_rows": null,
            "grid_column": null,
            "grid_gap": null,
            "grid_row": null,
            "grid_template_areas": null,
            "grid_template_columns": null,
            "grid_template_rows": null,
            "height": null,
            "justify_content": null,
            "justify_items": null,
            "left": null,
            "margin": null,
            "max_height": null,
            "max_width": null,
            "min_height": null,
            "min_width": null,
            "object_fit": null,
            "object_position": null,
            "order": null,
            "overflow": null,
            "overflow_x": null,
            "overflow_y": null,
            "padding": null,
            "right": null,
            "top": null,
            "visibility": null,
            "width": null
          }
        },
        "e00c8d40d2114e7b95a33f88d3077fea": {
          "model_module": "@jupyter-widgets/base",
          "model_name": "LayoutModel",
          "model_module_version": "1.2.0",
          "state": {
            "_model_module": "@jupyter-widgets/base",
            "_model_module_version": "1.2.0",
            "_model_name": "LayoutModel",
            "_view_count": null,
            "_view_module": "@jupyter-widgets/base",
            "_view_module_version": "1.2.0",
            "_view_name": "LayoutView",
            "align_content": null,
            "align_items": null,
            "align_self": null,
            "border": null,
            "bottom": null,
            "display": null,
            "flex": null,
            "flex_flow": null,
            "grid_area": null,
            "grid_auto_columns": null,
            "grid_auto_flow": null,
            "grid_auto_rows": null,
            "grid_column": null,
            "grid_gap": null,
            "grid_row": null,
            "grid_template_areas": null,
            "grid_template_columns": null,
            "grid_template_rows": null,
            "height": null,
            "justify_content": null,
            "justify_items": null,
            "left": null,
            "margin": null,
            "max_height": null,
            "max_width": null,
            "min_height": null,
            "min_width": null,
            "object_fit": null,
            "object_position": null,
            "order": null,
            "overflow": null,
            "overflow_x": null,
            "overflow_y": null,
            "padding": null,
            "right": null,
            "top": null,
            "visibility": null,
            "width": null
          }
        },
        "e87a78a4fa8542b19bd411f9c204888b": {
          "model_module": "@jupyter-widgets/controls",
          "model_name": "DescriptionStyleModel",
          "model_module_version": "1.5.0",
          "state": {
            "_model_module": "@jupyter-widgets/controls",
            "_model_module_version": "1.5.0",
            "_model_name": "DescriptionStyleModel",
            "_view_count": null,
            "_view_module": "@jupyter-widgets/base",
            "_view_module_version": "1.2.0",
            "_view_name": "StyleView",
            "description_width": ""
          }
        },
        "2d79e8ba49284e66bcd1184f96a0514a": {
          "model_module": "@jupyter-widgets/base",
          "model_name": "LayoutModel",
          "model_module_version": "1.2.0",
          "state": {
            "_model_module": "@jupyter-widgets/base",
            "_model_module_version": "1.2.0",
            "_model_name": "LayoutModel",
            "_view_count": null,
            "_view_module": "@jupyter-widgets/base",
            "_view_module_version": "1.2.0",
            "_view_name": "LayoutView",
            "align_content": null,
            "align_items": null,
            "align_self": null,
            "border": null,
            "bottom": null,
            "display": null,
            "flex": null,
            "flex_flow": null,
            "grid_area": null,
            "grid_auto_columns": null,
            "grid_auto_flow": null,
            "grid_auto_rows": null,
            "grid_column": null,
            "grid_gap": null,
            "grid_row": null,
            "grid_template_areas": null,
            "grid_template_columns": null,
            "grid_template_rows": null,
            "height": null,
            "justify_content": null,
            "justify_items": null,
            "left": null,
            "margin": null,
            "max_height": null,
            "max_width": null,
            "min_height": null,
            "min_width": null,
            "object_fit": null,
            "object_position": null,
            "order": null,
            "overflow": null,
            "overflow_x": null,
            "overflow_y": null,
            "padding": null,
            "right": null,
            "top": null,
            "visibility": null,
            "width": null
          }
        },
        "c5f11be06831409785f3d47a39c0d4d0": {
          "model_module": "@jupyter-widgets/controls",
          "model_name": "ProgressStyleModel",
          "model_module_version": "1.5.0",
          "state": {
            "_model_module": "@jupyter-widgets/controls",
            "_model_module_version": "1.5.0",
            "_model_name": "ProgressStyleModel",
            "_view_count": null,
            "_view_module": "@jupyter-widgets/base",
            "_view_module_version": "1.2.0",
            "_view_name": "StyleView",
            "bar_color": null,
            "description_width": ""
          }
        },
        "ee9b81b5fb4a44c4954255bf5f478dbd": {
          "model_module": "@jupyter-widgets/controls",
          "model_name": "VBoxModel",
          "model_module_version": "1.5.0",
          "state": {
            "_dom_classes": [],
            "_model_module": "@jupyter-widgets/controls",
            "_model_module_version": "1.5.0",
            "_model_name": "VBoxModel",
            "_view_count": null,
            "_view_module": "@jupyter-widgets/controls",
            "_view_module_version": "1.5.0",
            "_view_name": "VBoxView",
            "box_style": "",
            "children": [
              "IPY_MODEL_d5d9ba9019dc4dd2aac05ac850e842de",
              "IPY_MODEL_30d737cc11334de5ab58e756f792832d"
            ],
            "layout": "IPY_MODEL_35e8011da0c545ae93cf6644e17c9757"
          }
        },
        "d5d9ba9019dc4dd2aac05ac850e842de": {
          "model_module": "@jupyter-widgets/controls",
          "model_name": "LabelModel",
          "model_module_version": "1.5.0",
          "state": {
            "_dom_classes": [],
            "_model_module": "@jupyter-widgets/controls",
            "_model_module_version": "1.5.0",
            "_model_name": "LabelModel",
            "_view_count": null,
            "_view_module": "@jupyter-widgets/controls",
            "_view_module_version": "1.5.0",
            "_view_name": "LabelView",
            "description": "",
            "description_tooltip": null,
            "layout": "IPY_MODEL_e05a4e729668474a829aab1f0a54244b",
            "placeholder": "​",
            "style": "IPY_MODEL_1ba11026ee804370b3ea182b2fd57a34",
            "value": "0.016 MB of 0.016 MB uploaded\r"
          }
        },
        "30d737cc11334de5ab58e756f792832d": {
          "model_module": "@jupyter-widgets/controls",
          "model_name": "FloatProgressModel",
          "model_module_version": "1.5.0",
          "state": {
            "_dom_classes": [],
            "_model_module": "@jupyter-widgets/controls",
            "_model_module_version": "1.5.0",
            "_model_name": "FloatProgressModel",
            "_view_count": null,
            "_view_module": "@jupyter-widgets/controls",
            "_view_module_version": "1.5.0",
            "_view_name": "ProgressView",
            "bar_style": "",
            "description": "",
            "description_tooltip": null,
            "layout": "IPY_MODEL_1c564d2385ef4eb09f30a131b37c6cf9",
            "max": 1,
            "min": 0,
            "orientation": "horizontal",
            "style": "IPY_MODEL_40528b89f2d64bcf8004b7ecbf1bf23c",
            "value": 1
          }
        },
        "35e8011da0c545ae93cf6644e17c9757": {
          "model_module": "@jupyter-widgets/base",
          "model_name": "LayoutModel",
          "model_module_version": "1.2.0",
          "state": {
            "_model_module": "@jupyter-widgets/base",
            "_model_module_version": "1.2.0",
            "_model_name": "LayoutModel",
            "_view_count": null,
            "_view_module": "@jupyter-widgets/base",
            "_view_module_version": "1.2.0",
            "_view_name": "LayoutView",
            "align_content": null,
            "align_items": null,
            "align_self": null,
            "border": null,
            "bottom": null,
            "display": null,
            "flex": null,
            "flex_flow": null,
            "grid_area": null,
            "grid_auto_columns": null,
            "grid_auto_flow": null,
            "grid_auto_rows": null,
            "grid_column": null,
            "grid_gap": null,
            "grid_row": null,
            "grid_template_areas": null,
            "grid_template_columns": null,
            "grid_template_rows": null,
            "height": null,
            "justify_content": null,
            "justify_items": null,
            "left": null,
            "margin": null,
            "max_height": null,
            "max_width": null,
            "min_height": null,
            "min_width": null,
            "object_fit": null,
            "object_position": null,
            "order": null,
            "overflow": null,
            "overflow_x": null,
            "overflow_y": null,
            "padding": null,
            "right": null,
            "top": null,
            "visibility": null,
            "width": null
          }
        },
        "e05a4e729668474a829aab1f0a54244b": {
          "model_module": "@jupyter-widgets/base",
          "model_name": "LayoutModel",
          "model_module_version": "1.2.0",
          "state": {
            "_model_module": "@jupyter-widgets/base",
            "_model_module_version": "1.2.0",
            "_model_name": "LayoutModel",
            "_view_count": null,
            "_view_module": "@jupyter-widgets/base",
            "_view_module_version": "1.2.0",
            "_view_name": "LayoutView",
            "align_content": null,
            "align_items": null,
            "align_self": null,
            "border": null,
            "bottom": null,
            "display": null,
            "flex": null,
            "flex_flow": null,
            "grid_area": null,
            "grid_auto_columns": null,
            "grid_auto_flow": null,
            "grid_auto_rows": null,
            "grid_column": null,
            "grid_gap": null,
            "grid_row": null,
            "grid_template_areas": null,
            "grid_template_columns": null,
            "grid_template_rows": null,
            "height": null,
            "justify_content": null,
            "justify_items": null,
            "left": null,
            "margin": null,
            "max_height": null,
            "max_width": null,
            "min_height": null,
            "min_width": null,
            "object_fit": null,
            "object_position": null,
            "order": null,
            "overflow": null,
            "overflow_x": null,
            "overflow_y": null,
            "padding": null,
            "right": null,
            "top": null,
            "visibility": null,
            "width": null
          }
        },
        "1ba11026ee804370b3ea182b2fd57a34": {
          "model_module": "@jupyter-widgets/controls",
          "model_name": "DescriptionStyleModel",
          "model_module_version": "1.5.0",
          "state": {
            "_model_module": "@jupyter-widgets/controls",
            "_model_module_version": "1.5.0",
            "_model_name": "DescriptionStyleModel",
            "_view_count": null,
            "_view_module": "@jupyter-widgets/base",
            "_view_module_version": "1.2.0",
            "_view_name": "StyleView",
            "description_width": ""
          }
        },
        "1c564d2385ef4eb09f30a131b37c6cf9": {
          "model_module": "@jupyter-widgets/base",
          "model_name": "LayoutModel",
          "model_module_version": "1.2.0",
          "state": {
            "_model_module": "@jupyter-widgets/base",
            "_model_module_version": "1.2.0",
            "_model_name": "LayoutModel",
            "_view_count": null,
            "_view_module": "@jupyter-widgets/base",
            "_view_module_version": "1.2.0",
            "_view_name": "LayoutView",
            "align_content": null,
            "align_items": null,
            "align_self": null,
            "border": null,
            "bottom": null,
            "display": null,
            "flex": null,
            "flex_flow": null,
            "grid_area": null,
            "grid_auto_columns": null,
            "grid_auto_flow": null,
            "grid_auto_rows": null,
            "grid_column": null,
            "grid_gap": null,
            "grid_row": null,
            "grid_template_areas": null,
            "grid_template_columns": null,
            "grid_template_rows": null,
            "height": null,
            "justify_content": null,
            "justify_items": null,
            "left": null,
            "margin": null,
            "max_height": null,
            "max_width": null,
            "min_height": null,
            "min_width": null,
            "object_fit": null,
            "object_position": null,
            "order": null,
            "overflow": null,
            "overflow_x": null,
            "overflow_y": null,
            "padding": null,
            "right": null,
            "top": null,
            "visibility": null,
            "width": null
          }
        },
        "40528b89f2d64bcf8004b7ecbf1bf23c": {
          "model_module": "@jupyter-widgets/controls",
          "model_name": "ProgressStyleModel",
          "model_module_version": "1.5.0",
          "state": {
            "_model_module": "@jupyter-widgets/controls",
            "_model_module_version": "1.5.0",
            "_model_name": "ProgressStyleModel",
            "_view_count": null,
            "_view_module": "@jupyter-widgets/base",
            "_view_module_version": "1.2.0",
            "_view_name": "StyleView",
            "bar_color": null,
            "description_width": ""
          }
        },
        "1abad6c3f12b4033acbb6bf8ea89695a": {
          "model_module": "@jupyter-widgets/controls",
          "model_name": "VBoxModel",
          "model_module_version": "1.5.0",
          "state": {
            "_dom_classes": [],
            "_model_module": "@jupyter-widgets/controls",
            "_model_module_version": "1.5.0",
            "_model_name": "VBoxModel",
            "_view_count": null,
            "_view_module": "@jupyter-widgets/controls",
            "_view_module_version": "1.5.0",
            "_view_name": "VBoxView",
            "box_style": "",
            "children": [
              "IPY_MODEL_2f534f0790034ed98008acd59a7e9333",
              "IPY_MODEL_6e065061b6bd43e1a0f7bb2eee844550"
            ],
            "layout": "IPY_MODEL_0180ba38e37e4a54a2066b2f74a267c0"
          }
        },
        "2f534f0790034ed98008acd59a7e9333": {
          "model_module": "@jupyter-widgets/controls",
          "model_name": "LabelModel",
          "model_module_version": "1.5.0",
          "state": {
            "_dom_classes": [],
            "_model_module": "@jupyter-widgets/controls",
            "_model_module_version": "1.5.0",
            "_model_name": "LabelModel",
            "_view_count": null,
            "_view_module": "@jupyter-widgets/controls",
            "_view_module_version": "1.5.0",
            "_view_name": "LabelView",
            "description": "",
            "description_tooltip": null,
            "layout": "IPY_MODEL_1fbf4fd472ae4451a6ad44d6d91dc08c",
            "placeholder": "​",
            "style": "IPY_MODEL_a0ddf64b45524ebebe3bd323e3077f02",
            "value": "0.015 MB of 0.015 MB uploaded\r"
          }
        },
        "6e065061b6bd43e1a0f7bb2eee844550": {
          "model_module": "@jupyter-widgets/controls",
          "model_name": "FloatProgressModel",
          "model_module_version": "1.5.0",
          "state": {
            "_dom_classes": [],
            "_model_module": "@jupyter-widgets/controls",
            "_model_module_version": "1.5.0",
            "_model_name": "FloatProgressModel",
            "_view_count": null,
            "_view_module": "@jupyter-widgets/controls",
            "_view_module_version": "1.5.0",
            "_view_name": "ProgressView",
            "bar_style": "",
            "description": "",
            "description_tooltip": null,
            "layout": "IPY_MODEL_932aa6041408429d91e9a86793156696",
            "max": 1,
            "min": 0,
            "orientation": "horizontal",
            "style": "IPY_MODEL_a1414956bd504dd5a06f3c40fed75c17",
            "value": 1
          }
        },
        "0180ba38e37e4a54a2066b2f74a267c0": {
          "model_module": "@jupyter-widgets/base",
          "model_name": "LayoutModel",
          "model_module_version": "1.2.0",
          "state": {
            "_model_module": "@jupyter-widgets/base",
            "_model_module_version": "1.2.0",
            "_model_name": "LayoutModel",
            "_view_count": null,
            "_view_module": "@jupyter-widgets/base",
            "_view_module_version": "1.2.0",
            "_view_name": "LayoutView",
            "align_content": null,
            "align_items": null,
            "align_self": null,
            "border": null,
            "bottom": null,
            "display": null,
            "flex": null,
            "flex_flow": null,
            "grid_area": null,
            "grid_auto_columns": null,
            "grid_auto_flow": null,
            "grid_auto_rows": null,
            "grid_column": null,
            "grid_gap": null,
            "grid_row": null,
            "grid_template_areas": null,
            "grid_template_columns": null,
            "grid_template_rows": null,
            "height": null,
            "justify_content": null,
            "justify_items": null,
            "left": null,
            "margin": null,
            "max_height": null,
            "max_width": null,
            "min_height": null,
            "min_width": null,
            "object_fit": null,
            "object_position": null,
            "order": null,
            "overflow": null,
            "overflow_x": null,
            "overflow_y": null,
            "padding": null,
            "right": null,
            "top": null,
            "visibility": null,
            "width": null
          }
        },
        "1fbf4fd472ae4451a6ad44d6d91dc08c": {
          "model_module": "@jupyter-widgets/base",
          "model_name": "LayoutModel",
          "model_module_version": "1.2.0",
          "state": {
            "_model_module": "@jupyter-widgets/base",
            "_model_module_version": "1.2.0",
            "_model_name": "LayoutModel",
            "_view_count": null,
            "_view_module": "@jupyter-widgets/base",
            "_view_module_version": "1.2.0",
            "_view_name": "LayoutView",
            "align_content": null,
            "align_items": null,
            "align_self": null,
            "border": null,
            "bottom": null,
            "display": null,
            "flex": null,
            "flex_flow": null,
            "grid_area": null,
            "grid_auto_columns": null,
            "grid_auto_flow": null,
            "grid_auto_rows": null,
            "grid_column": null,
            "grid_gap": null,
            "grid_row": null,
            "grid_template_areas": null,
            "grid_template_columns": null,
            "grid_template_rows": null,
            "height": null,
            "justify_content": null,
            "justify_items": null,
            "left": null,
            "margin": null,
            "max_height": null,
            "max_width": null,
            "min_height": null,
            "min_width": null,
            "object_fit": null,
            "object_position": null,
            "order": null,
            "overflow": null,
            "overflow_x": null,
            "overflow_y": null,
            "padding": null,
            "right": null,
            "top": null,
            "visibility": null,
            "width": null
          }
        },
        "a0ddf64b45524ebebe3bd323e3077f02": {
          "model_module": "@jupyter-widgets/controls",
          "model_name": "DescriptionStyleModel",
          "model_module_version": "1.5.0",
          "state": {
            "_model_module": "@jupyter-widgets/controls",
            "_model_module_version": "1.5.0",
            "_model_name": "DescriptionStyleModel",
            "_view_count": null,
            "_view_module": "@jupyter-widgets/base",
            "_view_module_version": "1.2.0",
            "_view_name": "StyleView",
            "description_width": ""
          }
        },
        "932aa6041408429d91e9a86793156696": {
          "model_module": "@jupyter-widgets/base",
          "model_name": "LayoutModel",
          "model_module_version": "1.2.0",
          "state": {
            "_model_module": "@jupyter-widgets/base",
            "_model_module_version": "1.2.0",
            "_model_name": "LayoutModel",
            "_view_count": null,
            "_view_module": "@jupyter-widgets/base",
            "_view_module_version": "1.2.0",
            "_view_name": "LayoutView",
            "align_content": null,
            "align_items": null,
            "align_self": null,
            "border": null,
            "bottom": null,
            "display": null,
            "flex": null,
            "flex_flow": null,
            "grid_area": null,
            "grid_auto_columns": null,
            "grid_auto_flow": null,
            "grid_auto_rows": null,
            "grid_column": null,
            "grid_gap": null,
            "grid_row": null,
            "grid_template_areas": null,
            "grid_template_columns": null,
            "grid_template_rows": null,
            "height": null,
            "justify_content": null,
            "justify_items": null,
            "left": null,
            "margin": null,
            "max_height": null,
            "max_width": null,
            "min_height": null,
            "min_width": null,
            "object_fit": null,
            "object_position": null,
            "order": null,
            "overflow": null,
            "overflow_x": null,
            "overflow_y": null,
            "padding": null,
            "right": null,
            "top": null,
            "visibility": null,
            "width": null
          }
        },
        "a1414956bd504dd5a06f3c40fed75c17": {
          "model_module": "@jupyter-widgets/controls",
          "model_name": "ProgressStyleModel",
          "model_module_version": "1.5.0",
          "state": {
            "_model_module": "@jupyter-widgets/controls",
            "_model_module_version": "1.5.0",
            "_model_name": "ProgressStyleModel",
            "_view_count": null,
            "_view_module": "@jupyter-widgets/base",
            "_view_module_version": "1.2.0",
            "_view_name": "StyleView",
            "bar_color": null,
            "description_width": ""
          }
        }
      }
    }
  },
  "cells": [
    {
      "cell_type": "markdown",
      "metadata": {
        "id": "view-in-github",
        "colab_type": "text"
      },
      "source": [
        "<a href=\"https://colab.research.google.com/github/DevAmbani/weights-biases/blob/main/Week4.ipynb\" target=\"_parent\"><img src=\"https://colab.research.google.com/assets/colab-badge.svg\" alt=\"Open In Colab\"/></a>"
      ]
    },
    {
      "cell_type": "markdown",
      "source": [
        "# Week 4 - Models and Experimentation\n",
        "\n",
        "## Step 1 Training a model\n",
        "\n",
        "For the purposes of this demo, we will be using this [adapted demo](https://www.datacamp.com/tutorial/xgboost-in-python) and training an XGBoost model, and then doing some experimentation and hyperparameter tuning.\n",
        "\n",
        "\n",
        "If running this notebook locally, use the following steps to create virtual environment:\n",
        "- Don't use past python 3.10\n",
        "- To create virtual environment use \"venv\"\n",
        "\n",
        "`python -m venv NAME`\n",
        "\n",
        "- Try to avoid anaconda, poetry or similar package management platforms\n",
        "- To install a package use pip\n",
        "\n",
        "`python -m pip install <package-name>`\n",
        "\n",
        "- once you are done working with this virtual environment, deactivate it with `deactivate`"
      ],
      "metadata": {
        "id": "WO_Pi9tQ99jR"
      }
    },
    {
      "cell_type": "code",
      "source": [
        "import sys\n",
        "print(sys.version)"
      ],
      "metadata": {
        "colab": {
          "base_uri": "https://localhost:8080/"
        },
        "id": "0n3Ixtu9Y6MW",
        "outputId": "cc60171d-ebb7-40f4-e991-f1fc42cbf8b4"
      },
      "execution_count": 1,
      "outputs": [
        {
          "output_type": "stream",
          "name": "stdout",
          "text": [
            "3.10.12 (main, Nov 20 2023, 15:14:05) [GCC 11.4.0]\n"
          ]
        }
      ]
    },
    {
      "cell_type": "code",
      "source": [
        "!apt install python3.10-venv\n",
        "!python -m venv Week4HW"
      ],
      "metadata": {
        "colab": {
          "base_uri": "https://localhost:8080/"
        },
        "id": "8Bl-Frl5ZMgQ",
        "outputId": "de2c5ad3-7d54-462f-a493-fddfdfdc624c"
      },
      "execution_count": 2,
      "outputs": [
        {
          "output_type": "stream",
          "name": "stdout",
          "text": [
            "Reading package lists... Done\n",
            "Building dependency tree... Done\n",
            "Reading state information... Done\n",
            "The following additional packages will be installed:\n",
            "  python3-pip-whl python3-setuptools-whl\n",
            "The following NEW packages will be installed:\n",
            "  python3-pip-whl python3-setuptools-whl python3.10-venv\n",
            "0 upgraded, 3 newly installed, 0 to remove and 45 not upgraded.\n",
            "Need to get 2,473 kB of archives.\n",
            "After this operation, 2,884 kB of additional disk space will be used.\n",
            "Get:1 http://archive.ubuntu.com/ubuntu jammy-updates/universe amd64 python3-pip-whl all 22.0.2+dfsg-1ubuntu0.4 [1,680 kB]\n",
            "Get:2 http://archive.ubuntu.com/ubuntu jammy-updates/universe amd64 python3-setuptools-whl all 59.6.0-1.2ubuntu0.22.04.1 [788 kB]\n",
            "Get:3 http://archive.ubuntu.com/ubuntu jammy-updates/universe amd64 python3.10-venv amd64 3.10.12-1~22.04.3 [5,716 B]\n",
            "Fetched 2,473 kB in 3s (867 kB/s)\n",
            "Selecting previously unselected package python3-pip-whl.\n",
            "(Reading database ... 121752 files and directories currently installed.)\n",
            "Preparing to unpack .../python3-pip-whl_22.0.2+dfsg-1ubuntu0.4_all.deb ...\n",
            "Unpacking python3-pip-whl (22.0.2+dfsg-1ubuntu0.4) ...\n",
            "Selecting previously unselected package python3-setuptools-whl.\n",
            "Preparing to unpack .../python3-setuptools-whl_59.6.0-1.2ubuntu0.22.04.1_all.deb ...\n",
            "Unpacking python3-setuptools-whl (59.6.0-1.2ubuntu0.22.04.1) ...\n",
            "Selecting previously unselected package python3.10-venv.\n",
            "Preparing to unpack .../python3.10-venv_3.10.12-1~22.04.3_amd64.deb ...\n",
            "Unpacking python3.10-venv (3.10.12-1~22.04.3) ...\n",
            "Setting up python3-setuptools-whl (59.6.0-1.2ubuntu0.22.04.1) ...\n",
            "Setting up python3-pip-whl (22.0.2+dfsg-1ubuntu0.4) ...\n",
            "Setting up python3.10-venv (3.10.12-1~22.04.3) ...\n"
          ]
        }
      ]
    },
    {
      "cell_type": "markdown",
      "source": [
        "### Install packages"
      ],
      "metadata": {
        "id": "9fdJQSzCB9QN"
      }
    },
    {
      "cell_type": "code",
      "execution_count": 3,
      "metadata": {
        "id": "OA27Hq8m9MUQ",
        "colab": {
          "base_uri": "https://localhost:8080/"
        },
        "outputId": "3652a247-c06c-418b-dff9-fd131cfb4fb1"
      },
      "outputs": [
        {
          "output_type": "stream",
          "name": "stdout",
          "text": [
            "\u001b[2K     \u001b[90m━━━━━━━━━━━━━━━━━━━━━━━━━━━━━━━━━━━━━━━━\u001b[0m \u001b[32m2.2/2.2 MB\u001b[0m \u001b[31m33.3 MB/s\u001b[0m eta \u001b[36m0:00:00\u001b[0m\n",
            "\u001b[2K     \u001b[90m━━━━━━━━━━━━━━━━━━━━━━━━━━━━━━━━━━━━━━━━\u001b[0m \u001b[32m207.3/207.3 kB\u001b[0m \u001b[31m16.8 MB/s\u001b[0m eta \u001b[36m0:00:00\u001b[0m\n",
            "\u001b[2K     \u001b[90m━━━━━━━━━━━━━━━━━━━━━━━━━━━━━━━━━━━━━━━━\u001b[0m \u001b[32m267.1/267.1 kB\u001b[0m \u001b[31m21.8 MB/s\u001b[0m eta \u001b[36m0:00:00\u001b[0m\n",
            "\u001b[2K     \u001b[90m━━━━━━━━━━━━━━━━━━━━━━━━━━━━━━━━━━━━━━━━\u001b[0m \u001b[32m62.7/62.7 kB\u001b[0m \u001b[31m7.7 MB/s\u001b[0m eta \u001b[36m0:00:00\u001b[0m\n",
            "\u001b[?25h"
          ]
        }
      ],
      "source": [
        "!pip install wandb -qU"
      ]
    },
    {
      "cell_type": "code",
      "source": [
        "import xgboost as xgb\n",
        "import pandas as pd\n",
        "import numpy as np\n",
        "import seaborn as sns\n",
        "import matplotlib.pyplot as plt\n",
        "from sklearn.model_selection import train_test_split\n",
        "from sklearn.metrics import mean_squared_error"
      ],
      "metadata": {
        "id": "nWPjdRWdCa_c"
      },
      "execution_count": 4,
      "outputs": []
    },
    {
      "cell_type": "markdown",
      "source": [
        "### Import data\n",
        "\n",
        "We will be using Diamonds dataset imported from Seaborn. It is also available on [Kaggle](https://www.kaggle.com/datasets/shivam2503/diamonds).\n",
        "\n",
        "Read about the features by following the link. We will be predicting the price of diamonds."
      ],
      "metadata": {
        "id": "pN3B41RPCjpk"
      }
    },
    {
      "cell_type": "code",
      "source": [
        "diamonds = sns.load_dataset('diamonds')\n",
        "diamonds.head()"
      ],
      "metadata": {
        "colab": {
          "base_uri": "https://localhost:8080/",
          "height": 206
        },
        "id": "xqi0nueWC9u1",
        "outputId": "17232c04-1184-401b-afdc-1a53f24125d9"
      },
      "execution_count": 5,
      "outputs": [
        {
          "output_type": "execute_result",
          "data": {
            "text/plain": [
              "   carat      cut color clarity  depth  table  price     x     y     z\n",
              "0   0.23    Ideal     E     SI2   61.5   55.0    326  3.95  3.98  2.43\n",
              "1   0.21  Premium     E     SI1   59.8   61.0    326  3.89  3.84  2.31\n",
              "2   0.23     Good     E     VS1   56.9   65.0    327  4.05  4.07  2.31\n",
              "3   0.29  Premium     I     VS2   62.4   58.0    334  4.20  4.23  2.63\n",
              "4   0.31     Good     J     SI2   63.3   58.0    335  4.34  4.35  2.75"
            ],
            "text/html": [
              "\n",
              "  <div id=\"df-cd5f43d5-e583-4dd0-89ca-76cd6a7c55cf\" class=\"colab-df-container\">\n",
              "    <div>\n",
              "<style scoped>\n",
              "    .dataframe tbody tr th:only-of-type {\n",
              "        vertical-align: middle;\n",
              "    }\n",
              "\n",
              "    .dataframe tbody tr th {\n",
              "        vertical-align: top;\n",
              "    }\n",
              "\n",
              "    .dataframe thead th {\n",
              "        text-align: right;\n",
              "    }\n",
              "</style>\n",
              "<table border=\"1\" class=\"dataframe\">\n",
              "  <thead>\n",
              "    <tr style=\"text-align: right;\">\n",
              "      <th></th>\n",
              "      <th>carat</th>\n",
              "      <th>cut</th>\n",
              "      <th>color</th>\n",
              "      <th>clarity</th>\n",
              "      <th>depth</th>\n",
              "      <th>table</th>\n",
              "      <th>price</th>\n",
              "      <th>x</th>\n",
              "      <th>y</th>\n",
              "      <th>z</th>\n",
              "    </tr>\n",
              "  </thead>\n",
              "  <tbody>\n",
              "    <tr>\n",
              "      <th>0</th>\n",
              "      <td>0.23</td>\n",
              "      <td>Ideal</td>\n",
              "      <td>E</td>\n",
              "      <td>SI2</td>\n",
              "      <td>61.5</td>\n",
              "      <td>55.0</td>\n",
              "      <td>326</td>\n",
              "      <td>3.95</td>\n",
              "      <td>3.98</td>\n",
              "      <td>2.43</td>\n",
              "    </tr>\n",
              "    <tr>\n",
              "      <th>1</th>\n",
              "      <td>0.21</td>\n",
              "      <td>Premium</td>\n",
              "      <td>E</td>\n",
              "      <td>SI1</td>\n",
              "      <td>59.8</td>\n",
              "      <td>61.0</td>\n",
              "      <td>326</td>\n",
              "      <td>3.89</td>\n",
              "      <td>3.84</td>\n",
              "      <td>2.31</td>\n",
              "    </tr>\n",
              "    <tr>\n",
              "      <th>2</th>\n",
              "      <td>0.23</td>\n",
              "      <td>Good</td>\n",
              "      <td>E</td>\n",
              "      <td>VS1</td>\n",
              "      <td>56.9</td>\n",
              "      <td>65.0</td>\n",
              "      <td>327</td>\n",
              "      <td>4.05</td>\n",
              "      <td>4.07</td>\n",
              "      <td>2.31</td>\n",
              "    </tr>\n",
              "    <tr>\n",
              "      <th>3</th>\n",
              "      <td>0.29</td>\n",
              "      <td>Premium</td>\n",
              "      <td>I</td>\n",
              "      <td>VS2</td>\n",
              "      <td>62.4</td>\n",
              "      <td>58.0</td>\n",
              "      <td>334</td>\n",
              "      <td>4.20</td>\n",
              "      <td>4.23</td>\n",
              "      <td>2.63</td>\n",
              "    </tr>\n",
              "    <tr>\n",
              "      <th>4</th>\n",
              "      <td>0.31</td>\n",
              "      <td>Good</td>\n",
              "      <td>J</td>\n",
              "      <td>SI2</td>\n",
              "      <td>63.3</td>\n",
              "      <td>58.0</td>\n",
              "      <td>335</td>\n",
              "      <td>4.34</td>\n",
              "      <td>4.35</td>\n",
              "      <td>2.75</td>\n",
              "    </tr>\n",
              "  </tbody>\n",
              "</table>\n",
              "</div>\n",
              "    <div class=\"colab-df-buttons\">\n",
              "\n",
              "  <div class=\"colab-df-container\">\n",
              "    <button class=\"colab-df-convert\" onclick=\"convertToInteractive('df-cd5f43d5-e583-4dd0-89ca-76cd6a7c55cf')\"\n",
              "            title=\"Convert this dataframe to an interactive table.\"\n",
              "            style=\"display:none;\">\n",
              "\n",
              "  <svg xmlns=\"http://www.w3.org/2000/svg\" height=\"24px\" viewBox=\"0 -960 960 960\">\n",
              "    <path d=\"M120-120v-720h720v720H120Zm60-500h600v-160H180v160Zm220 220h160v-160H400v160Zm0 220h160v-160H400v160ZM180-400h160v-160H180v160Zm440 0h160v-160H620v160ZM180-180h160v-160H180v160Zm440 0h160v-160H620v160Z\"/>\n",
              "  </svg>\n",
              "    </button>\n",
              "\n",
              "  <style>\n",
              "    .colab-df-container {\n",
              "      display:flex;\n",
              "      gap: 12px;\n",
              "    }\n",
              "\n",
              "    .colab-df-convert {\n",
              "      background-color: #E8F0FE;\n",
              "      border: none;\n",
              "      border-radius: 50%;\n",
              "      cursor: pointer;\n",
              "      display: none;\n",
              "      fill: #1967D2;\n",
              "      height: 32px;\n",
              "      padding: 0 0 0 0;\n",
              "      width: 32px;\n",
              "    }\n",
              "\n",
              "    .colab-df-convert:hover {\n",
              "      background-color: #E2EBFA;\n",
              "      box-shadow: 0px 1px 2px rgba(60, 64, 67, 0.3), 0px 1px 3px 1px rgba(60, 64, 67, 0.15);\n",
              "      fill: #174EA6;\n",
              "    }\n",
              "\n",
              "    .colab-df-buttons div {\n",
              "      margin-bottom: 4px;\n",
              "    }\n",
              "\n",
              "    [theme=dark] .colab-df-convert {\n",
              "      background-color: #3B4455;\n",
              "      fill: #D2E3FC;\n",
              "    }\n",
              "\n",
              "    [theme=dark] .colab-df-convert:hover {\n",
              "      background-color: #434B5C;\n",
              "      box-shadow: 0px 1px 3px 1px rgba(0, 0, 0, 0.15);\n",
              "      filter: drop-shadow(0px 1px 2px rgba(0, 0, 0, 0.3));\n",
              "      fill: #FFFFFF;\n",
              "    }\n",
              "  </style>\n",
              "\n",
              "    <script>\n",
              "      const buttonEl =\n",
              "        document.querySelector('#df-cd5f43d5-e583-4dd0-89ca-76cd6a7c55cf button.colab-df-convert');\n",
              "      buttonEl.style.display =\n",
              "        google.colab.kernel.accessAllowed ? 'block' : 'none';\n",
              "\n",
              "      async function convertToInteractive(key) {\n",
              "        const element = document.querySelector('#df-cd5f43d5-e583-4dd0-89ca-76cd6a7c55cf');\n",
              "        const dataTable =\n",
              "          await google.colab.kernel.invokeFunction('convertToInteractive',\n",
              "                                                    [key], {});\n",
              "        if (!dataTable) return;\n",
              "\n",
              "        const docLinkHtml = 'Like what you see? Visit the ' +\n",
              "          '<a target=\"_blank\" href=https://colab.research.google.com/notebooks/data_table.ipynb>data table notebook</a>'\n",
              "          + ' to learn more about interactive tables.';\n",
              "        element.innerHTML = '';\n",
              "        dataTable['output_type'] = 'display_data';\n",
              "        await google.colab.output.renderOutput(dataTable, element);\n",
              "        const docLink = document.createElement('div');\n",
              "        docLink.innerHTML = docLinkHtml;\n",
              "        element.appendChild(docLink);\n",
              "      }\n",
              "    </script>\n",
              "  </div>\n",
              "\n",
              "\n",
              "<div id=\"df-8bc2b405-489f-4061-b2b8-4c0acc044397\">\n",
              "  <button class=\"colab-df-quickchart\" onclick=\"quickchart('df-8bc2b405-489f-4061-b2b8-4c0acc044397')\"\n",
              "            title=\"Suggest charts\"\n",
              "            style=\"display:none;\">\n",
              "\n",
              "<svg xmlns=\"http://www.w3.org/2000/svg\" height=\"24px\"viewBox=\"0 0 24 24\"\n",
              "     width=\"24px\">\n",
              "    <g>\n",
              "        <path d=\"M19 3H5c-1.1 0-2 .9-2 2v14c0 1.1.9 2 2 2h14c1.1 0 2-.9 2-2V5c0-1.1-.9-2-2-2zM9 17H7v-7h2v7zm4 0h-2V7h2v10zm4 0h-2v-4h2v4z\"/>\n",
              "    </g>\n",
              "</svg>\n",
              "  </button>\n",
              "\n",
              "<style>\n",
              "  .colab-df-quickchart {\n",
              "      --bg-color: #E8F0FE;\n",
              "      --fill-color: #1967D2;\n",
              "      --hover-bg-color: #E2EBFA;\n",
              "      --hover-fill-color: #174EA6;\n",
              "      --disabled-fill-color: #AAA;\n",
              "      --disabled-bg-color: #DDD;\n",
              "  }\n",
              "\n",
              "  [theme=dark] .colab-df-quickchart {\n",
              "      --bg-color: #3B4455;\n",
              "      --fill-color: #D2E3FC;\n",
              "      --hover-bg-color: #434B5C;\n",
              "      --hover-fill-color: #FFFFFF;\n",
              "      --disabled-bg-color: #3B4455;\n",
              "      --disabled-fill-color: #666;\n",
              "  }\n",
              "\n",
              "  .colab-df-quickchart {\n",
              "    background-color: var(--bg-color);\n",
              "    border: none;\n",
              "    border-radius: 50%;\n",
              "    cursor: pointer;\n",
              "    display: none;\n",
              "    fill: var(--fill-color);\n",
              "    height: 32px;\n",
              "    padding: 0;\n",
              "    width: 32px;\n",
              "  }\n",
              "\n",
              "  .colab-df-quickchart:hover {\n",
              "    background-color: var(--hover-bg-color);\n",
              "    box-shadow: 0 1px 2px rgba(60, 64, 67, 0.3), 0 1px 3px 1px rgba(60, 64, 67, 0.15);\n",
              "    fill: var(--button-hover-fill-color);\n",
              "  }\n",
              "\n",
              "  .colab-df-quickchart-complete:disabled,\n",
              "  .colab-df-quickchart-complete:disabled:hover {\n",
              "    background-color: var(--disabled-bg-color);\n",
              "    fill: var(--disabled-fill-color);\n",
              "    box-shadow: none;\n",
              "  }\n",
              "\n",
              "  .colab-df-spinner {\n",
              "    border: 2px solid var(--fill-color);\n",
              "    border-color: transparent;\n",
              "    border-bottom-color: var(--fill-color);\n",
              "    animation:\n",
              "      spin 1s steps(1) infinite;\n",
              "  }\n",
              "\n",
              "  @keyframes spin {\n",
              "    0% {\n",
              "      border-color: transparent;\n",
              "      border-bottom-color: var(--fill-color);\n",
              "      border-left-color: var(--fill-color);\n",
              "    }\n",
              "    20% {\n",
              "      border-color: transparent;\n",
              "      border-left-color: var(--fill-color);\n",
              "      border-top-color: var(--fill-color);\n",
              "    }\n",
              "    30% {\n",
              "      border-color: transparent;\n",
              "      border-left-color: var(--fill-color);\n",
              "      border-top-color: var(--fill-color);\n",
              "      border-right-color: var(--fill-color);\n",
              "    }\n",
              "    40% {\n",
              "      border-color: transparent;\n",
              "      border-right-color: var(--fill-color);\n",
              "      border-top-color: var(--fill-color);\n",
              "    }\n",
              "    60% {\n",
              "      border-color: transparent;\n",
              "      border-right-color: var(--fill-color);\n",
              "    }\n",
              "    80% {\n",
              "      border-color: transparent;\n",
              "      border-right-color: var(--fill-color);\n",
              "      border-bottom-color: var(--fill-color);\n",
              "    }\n",
              "    90% {\n",
              "      border-color: transparent;\n",
              "      border-bottom-color: var(--fill-color);\n",
              "    }\n",
              "  }\n",
              "</style>\n",
              "\n",
              "  <script>\n",
              "    async function quickchart(key) {\n",
              "      const quickchartButtonEl =\n",
              "        document.querySelector('#' + key + ' button');\n",
              "      quickchartButtonEl.disabled = true;  // To prevent multiple clicks.\n",
              "      quickchartButtonEl.classList.add('colab-df-spinner');\n",
              "      try {\n",
              "        const charts = await google.colab.kernel.invokeFunction(\n",
              "            'suggestCharts', [key], {});\n",
              "      } catch (error) {\n",
              "        console.error('Error during call to suggestCharts:', error);\n",
              "      }\n",
              "      quickchartButtonEl.classList.remove('colab-df-spinner');\n",
              "      quickchartButtonEl.classList.add('colab-df-quickchart-complete');\n",
              "    }\n",
              "    (() => {\n",
              "      let quickchartButtonEl =\n",
              "        document.querySelector('#df-8bc2b405-489f-4061-b2b8-4c0acc044397 button');\n",
              "      quickchartButtonEl.style.display =\n",
              "        google.colab.kernel.accessAllowed ? 'block' : 'none';\n",
              "    })();\n",
              "  </script>\n",
              "</div>\n",
              "\n",
              "    </div>\n",
              "  </div>\n"
            ],
            "application/vnd.google.colaboratory.intrinsic+json": {
              "type": "dataframe",
              "variable_name": "diamonds",
              "summary": "{\n  \"name\": \"diamonds\",\n  \"rows\": 53940,\n  \"fields\": [\n    {\n      \"column\": \"carat\",\n      \"properties\": {\n        \"dtype\": \"number\",\n        \"std\": 0.4740112444054184,\n        \"min\": 0.2,\n        \"max\": 5.01,\n        \"num_unique_values\": 273,\n        \"samples\": [\n          0.77,\n          1.58,\n          0.65\n        ],\n        \"semantic_type\": \"\",\n        \"description\": \"\"\n      }\n    },\n    {\n      \"column\": \"cut\",\n      \"properties\": {\n        \"dtype\": \"category\",\n        \"num_unique_values\": 5,\n        \"samples\": [\n          \"Premium\",\n          \"Fair\",\n          \"Good\"\n        ],\n        \"semantic_type\": \"\",\n        \"description\": \"\"\n      }\n    },\n    {\n      \"column\": \"color\",\n      \"properties\": {\n        \"dtype\": \"category\",\n        \"num_unique_values\": 7,\n        \"samples\": [\n          \"E\",\n          \"I\",\n          \"G\"\n        ],\n        \"semantic_type\": \"\",\n        \"description\": \"\"\n      }\n    },\n    {\n      \"column\": \"clarity\",\n      \"properties\": {\n        \"dtype\": \"category\",\n        \"num_unique_values\": 8,\n        \"samples\": [\n          \"SI1\",\n          \"VVS1\",\n          \"SI2\"\n        ],\n        \"semantic_type\": \"\",\n        \"description\": \"\"\n      }\n    },\n    {\n      \"column\": \"depth\",\n      \"properties\": {\n        \"dtype\": \"number\",\n        \"std\": 1.432621318833661,\n        \"min\": 43.0,\n        \"max\": 79.0,\n        \"num_unique_values\": 184,\n        \"samples\": [\n          61.0,\n          62.9,\n          70.2\n        ],\n        \"semantic_type\": \"\",\n        \"description\": \"\"\n      }\n    },\n    {\n      \"column\": \"table\",\n      \"properties\": {\n        \"dtype\": \"number\",\n        \"std\": 2.2344905628213225,\n        \"min\": 43.0,\n        \"max\": 95.0,\n        \"num_unique_values\": 127,\n        \"samples\": [\n          54.8,\n          61.5,\n          57.6\n        ],\n        \"semantic_type\": \"\",\n        \"description\": \"\"\n      }\n    },\n    {\n      \"column\": \"price\",\n      \"properties\": {\n        \"dtype\": \"number\",\n        \"std\": 3989,\n        \"min\": 326,\n        \"max\": 18823,\n        \"num_unique_values\": 11602,\n        \"samples\": [\n          16368,\n          895,\n          748\n        ],\n        \"semantic_type\": \"\",\n        \"description\": \"\"\n      }\n    },\n    {\n      \"column\": \"x\",\n      \"properties\": {\n        \"dtype\": \"number\",\n        \"std\": 1.1217607467924928,\n        \"min\": 0.0,\n        \"max\": 10.74,\n        \"num_unique_values\": 554,\n        \"samples\": [\n          5.88,\n          5.69,\n          4.61\n        ],\n        \"semantic_type\": \"\",\n        \"description\": \"\"\n      }\n    },\n    {\n      \"column\": \"y\",\n      \"properties\": {\n        \"dtype\": \"number\",\n        \"std\": 1.1421346741235552,\n        \"min\": 0.0,\n        \"max\": 58.9,\n        \"num_unique_values\": 552,\n        \"samples\": [\n          5.33,\n          5.61,\n          5.25\n        ],\n        \"semantic_type\": \"\",\n        \"description\": \"\"\n      }\n    },\n    {\n      \"column\": \"z\",\n      \"properties\": {\n        \"dtype\": \"number\",\n        \"std\": 0.7056988469499941,\n        \"min\": 0.0,\n        \"max\": 31.8,\n        \"num_unique_values\": 375,\n        \"samples\": [\n          3.36,\n          2.45,\n          2.7\n        ],\n        \"semantic_type\": \"\",\n        \"description\": \"\"\n      }\n    }\n  ]\n}"
            }
          },
          "metadata": {},
          "execution_count": 5
        }
      ]
    },
    {
      "cell_type": "code",
      "source": [
        "diamonds.info()"
      ],
      "metadata": {
        "colab": {
          "base_uri": "https://localhost:8080/"
        },
        "id": "9eXufssNFjwj",
        "outputId": "2c2008df-204c-4b4c-dd56-34a98a2a23c3"
      },
      "execution_count": 6,
      "outputs": [
        {
          "output_type": "stream",
          "name": "stdout",
          "text": [
            "<class 'pandas.core.frame.DataFrame'>\n",
            "RangeIndex: 53940 entries, 0 to 53939\n",
            "Data columns (total 10 columns):\n",
            " #   Column   Non-Null Count  Dtype   \n",
            "---  ------   --------------  -----   \n",
            " 0   carat    53940 non-null  float64 \n",
            " 1   cut      53940 non-null  category\n",
            " 2   color    53940 non-null  category\n",
            " 3   clarity  53940 non-null  category\n",
            " 4   depth    53940 non-null  float64 \n",
            " 5   table    53940 non-null  float64 \n",
            " 6   price    53940 non-null  int64   \n",
            " 7   x        53940 non-null  float64 \n",
            " 8   y        53940 non-null  float64 \n",
            " 9   z        53940 non-null  float64 \n",
            "dtypes: category(3), float64(6), int64(1)\n",
            "memory usage: 3.0 MB\n"
          ]
        }
      ]
    },
    {
      "cell_type": "code",
      "source": [
        "diamonds.shape"
      ],
      "metadata": {
        "colab": {
          "base_uri": "https://localhost:8080/"
        },
        "id": "Cgzl6cOMFl1i",
        "outputId": "3c242138-31f5-4db1-e5c2-4701f76a80c3"
      },
      "execution_count": 7,
      "outputs": [
        {
          "output_type": "execute_result",
          "data": {
            "text/plain": [
              "(53940, 10)"
            ]
          },
          "metadata": {},
          "execution_count": 7
        }
      ]
    },
    {
      "cell_type": "code",
      "source": [
        "X,y = diamonds.drop('price', axis=1), diamonds[['price']]\n",
        "\n",
        "# For the cut, color and clarity use pandas category to enable XGBoost ability to deal with categorical data.\n",
        "\n",
        "X['cut'] = X['cut'].astype('category')\n",
        "X['color'] = X['color'].astype('category')\n",
        "X['clarity'] = X['clarity'].astype('category')"
      ],
      "metadata": {
        "id": "58GvwvXAFnfE"
      },
      "execution_count": 8,
      "outputs": []
    },
    {
      "cell_type": "markdown",
      "source": [
        "### Split the data and train a model"
      ],
      "metadata": {
        "id": "jdvS36e5NC77"
      }
    },
    {
      "cell_type": "code",
      "source": [
        "# Split the data\n",
        "X_train, X_test, y_train, y_test = train_test_split(X, y, test_size=0.2, random_state=42)\n",
        "\n",
        "# Create DMatrix\n",
        "dtrain = xgb.DMatrix(X_train, label=y_train, enable_categorical=True)\n",
        "dtest = xgb.DMatrix(X_test, label=y_test, enable_categorical=True)"
      ],
      "metadata": {
        "id": "eviT-vNcG4Ed"
      },
      "execution_count": 9,
      "outputs": []
    },
    {
      "cell_type": "code",
      "source": [
        "# Define hyperparameters\n",
        "params = {\"objective\": \"reg:squarederror\", \"tree_method\": \"gpu_hist\"}\n",
        "\n",
        "n = 100\n",
        "model = xgb.train(\n",
        "   params=params,\n",
        "   dtrain=dtrain,\n",
        "   num_boost_round=n,\n",
        ")"
      ],
      "metadata": {
        "colab": {
          "base_uri": "https://localhost:8080/"
        },
        "id": "5nHCXUzNHxhQ",
        "outputId": "0b79bd64-1bb4-439b-89b8-ccc1de35147c"
      },
      "execution_count": 10,
      "outputs": [
        {
          "output_type": "stream",
          "name": "stderr",
          "text": [
            "/usr/local/lib/python3.10/dist-packages/xgboost/core.py:160: UserWarning: [02:37:18] WARNING: /workspace/src/common/error_msg.cc:27: The tree method `gpu_hist` is deprecated since 2.0.0. To use GPU training, set the `device` parameter to CUDA instead.\n",
            "\n",
            "    E.g. tree_method = \"hist\", device = \"cuda\"\n",
            "\n",
            "  warnings.warn(smsg, UserWarning)\n"
          ]
        }
      ]
    },
    {
      "cell_type": "code",
      "source": [
        "# Define evaluation metrics - Root Mean Squared Error\n",
        "\n",
        "predictions = model.predict(dtest)\n",
        "rmse = mean_squared_error(y_test, predictions, squared=False)\n",
        "print(f\"RMSE: {rmse}\")"
      ],
      "metadata": {
        "id": "w26fYyTmHbxT",
        "colab": {
          "base_uri": "https://localhost:8080/"
        },
        "outputId": "d9a7434f-785a-4583-cd64-6dd2fc0bebab"
      },
      "execution_count": 11,
      "outputs": [
        {
          "output_type": "stream",
          "name": "stdout",
          "text": [
            "RMSE: 532.8838153117543\n"
          ]
        },
        {
          "output_type": "stream",
          "name": "stderr",
          "text": [
            "/usr/local/lib/python3.10/dist-packages/xgboost/core.py:160: UserWarning: [02:37:19] WARNING: /workspace/src/common/error_msg.cc:27: The tree method `gpu_hist` is deprecated since 2.0.0. To use GPU training, set the `device` parameter to CUDA instead.\n",
            "\n",
            "    E.g. tree_method = \"hist\", device = \"cuda\"\n",
            "\n",
            "  warnings.warn(smsg, UserWarning)\n"
          ]
        }
      ]
    },
    {
      "cell_type": "markdown",
      "source": [
        "### Incorporate validation"
      ],
      "metadata": {
        "id": "OfqyuB7qNIQZ"
      }
    },
    {
      "cell_type": "code",
      "source": [
        "params = {\"objective\": \"reg:squarederror\", \"tree_method\": \"gpu_hist\"}\n",
        "n = 100\n",
        "\n",
        "# Create the validation set\n",
        "evals = [(dtrain, \"train\"), (dtest, \"validation\")]"
      ],
      "metadata": {
        "id": "1onp1yEfM9cg"
      },
      "execution_count": 12,
      "outputs": []
    },
    {
      "cell_type": "code",
      "source": [
        "evals = [(dtrain, \"train\"), (dtest, \"validation\")]\n",
        "\n",
        "model = xgb.train(\n",
        "   params=params,\n",
        "   dtrain=dtrain,\n",
        "   num_boost_round=n,\n",
        "   evals=evals,\n",
        "   verbose_eval=10,\n",
        ")"
      ],
      "metadata": {
        "colab": {
          "base_uri": "https://localhost:8080/"
        },
        "id": "9btf-kzwNfZT",
        "outputId": "2f5b579f-f994-4aeb-f0d9-704f9ca33d09"
      },
      "execution_count": 13,
      "outputs": [
        {
          "output_type": "stream",
          "name": "stdout",
          "text": [
            "[0]\ttrain-rmse:2859.49097\tvalidation-rmse:2851.62630\n",
            "[10]\ttrain-rmse:550.99470\tvalidation-rmse:571.16640\n",
            "[20]\ttrain-rmse:491.51435\tvalidation-rmse:544.08058\n"
          ]
        },
        {
          "output_type": "stream",
          "name": "stderr",
          "text": [
            "/usr/local/lib/python3.10/dist-packages/xgboost/core.py:160: UserWarning: [02:37:19] WARNING: /workspace/src/common/error_msg.cc:27: The tree method `gpu_hist` is deprecated since 2.0.0. To use GPU training, set the `device` parameter to CUDA instead.\n",
            "\n",
            "    E.g. tree_method = \"hist\", device = \"cuda\"\n",
            "\n",
            "  warnings.warn(smsg, UserWarning)\n"
          ]
        },
        {
          "output_type": "stream",
          "name": "stdout",
          "text": [
            "[30]\ttrain-rmse:464.38845\tvalidation-rmse:537.01895\n",
            "[40]\ttrain-rmse:445.99106\tvalidation-rmse:533.85127\n",
            "[50]\ttrain-rmse:430.36010\tvalidation-rmse:532.90320\n",
            "[60]\ttrain-rmse:418.87898\tvalidation-rmse:533.04629\n",
            "[70]\ttrain-rmse:409.66247\tvalidation-rmse:533.58046\n",
            "[80]\ttrain-rmse:397.34048\tvalidation-rmse:534.31963\n",
            "[90]\ttrain-rmse:389.94294\tvalidation-rmse:532.61946\n",
            "[99]\ttrain-rmse:377.70831\tvalidation-rmse:532.88383\n"
          ]
        }
      ]
    },
    {
      "cell_type": "code",
      "source": [
        "# Incorporate early stopping\n",
        "n = 10000\n",
        "\n",
        "\n",
        "model = xgb.train(\n",
        "   params=params,\n",
        "   dtrain=dtrain,\n",
        "   num_boost_round=n,\n",
        "   evals=evals,\n",
        "   verbose_eval=50,\n",
        "   # Activate early stopping\n",
        "   early_stopping_rounds=50\n",
        ")"
      ],
      "metadata": {
        "colab": {
          "base_uri": "https://localhost:8080/"
        },
        "id": "a2fGIQRPN4Bg",
        "outputId": "2054866c-9d2f-4d9a-aa46-1c65cd8f8823"
      },
      "execution_count": 14,
      "outputs": [
        {
          "output_type": "stream",
          "name": "stdout",
          "text": [
            "[0]\ttrain-rmse:2859.49097\tvalidation-rmse:2851.62630\n"
          ]
        },
        {
          "output_type": "stream",
          "name": "stderr",
          "text": [
            "/usr/local/lib/python3.10/dist-packages/xgboost/core.py:160: UserWarning: [02:37:20] WARNING: /workspace/src/common/error_msg.cc:27: The tree method `gpu_hist` is deprecated since 2.0.0. To use GPU training, set the `device` parameter to CUDA instead.\n",
            "\n",
            "    E.g. tree_method = \"hist\", device = \"cuda\"\n",
            "\n",
            "  warnings.warn(smsg, UserWarning)\n"
          ]
        },
        {
          "output_type": "stream",
          "name": "stdout",
          "text": [
            "[50]\ttrain-rmse:430.36010\tvalidation-rmse:532.90320\n",
            "[100]\ttrain-rmse:377.56825\tvalidation-rmse:532.79980\n",
            "[103]\ttrain-rmse:375.44970\tvalidation-rmse:532.50220\n"
          ]
        }
      ]
    },
    {
      "cell_type": "code",
      "source": [
        "# Cross-validation\n",
        "\n",
        "params = {\"objective\": \"reg:squarederror\", \"tree_method\": \"gpu_hist\"}\n",
        "n = 1000\n",
        "\n",
        "results = xgb.cv(\n",
        "   params, dtrain,\n",
        "   num_boost_round=n,\n",
        "   nfold=5,\n",
        "   early_stopping_rounds=20\n",
        ")\n"
      ],
      "metadata": {
        "id": "FmPP6YI7OMq7"
      },
      "execution_count": 15,
      "outputs": []
    },
    {
      "cell_type": "code",
      "source": [
        "results.head()"
      ],
      "metadata": {
        "colab": {
          "base_uri": "https://localhost:8080/",
          "height": 206
        },
        "id": "dhppagDVOWZ0",
        "outputId": "8b756c01-79cd-4719-e94f-224b355ed899"
      },
      "execution_count": 16,
      "outputs": [
        {
          "output_type": "execute_result",
          "data": {
            "text/plain": [
              "   train-rmse-mean  train-rmse-std  test-rmse-mean  test-rmse-std\n",
              "0      2861.153015        8.266765     2861.773555      36.937516\n",
              "1      2081.378004        5.534608     2084.973481      32.064109\n",
              "2      1545.361682        3.287745     1553.681211      31.059209\n",
              "3      1182.364236        3.585787     1192.464771      26.157805\n",
              "4       941.828819        2.971779      958.467497      23.613538"
            ],
            "text/html": [
              "\n",
              "  <div id=\"df-f7458339-7033-4cfe-8207-855133935545\" class=\"colab-df-container\">\n",
              "    <div>\n",
              "<style scoped>\n",
              "    .dataframe tbody tr th:only-of-type {\n",
              "        vertical-align: middle;\n",
              "    }\n",
              "\n",
              "    .dataframe tbody tr th {\n",
              "        vertical-align: top;\n",
              "    }\n",
              "\n",
              "    .dataframe thead th {\n",
              "        text-align: right;\n",
              "    }\n",
              "</style>\n",
              "<table border=\"1\" class=\"dataframe\">\n",
              "  <thead>\n",
              "    <tr style=\"text-align: right;\">\n",
              "      <th></th>\n",
              "      <th>train-rmse-mean</th>\n",
              "      <th>train-rmse-std</th>\n",
              "      <th>test-rmse-mean</th>\n",
              "      <th>test-rmse-std</th>\n",
              "    </tr>\n",
              "  </thead>\n",
              "  <tbody>\n",
              "    <tr>\n",
              "      <th>0</th>\n",
              "      <td>2861.153015</td>\n",
              "      <td>8.266765</td>\n",
              "      <td>2861.773555</td>\n",
              "      <td>36.937516</td>\n",
              "    </tr>\n",
              "    <tr>\n",
              "      <th>1</th>\n",
              "      <td>2081.378004</td>\n",
              "      <td>5.534608</td>\n",
              "      <td>2084.973481</td>\n",
              "      <td>32.064109</td>\n",
              "    </tr>\n",
              "    <tr>\n",
              "      <th>2</th>\n",
              "      <td>1545.361682</td>\n",
              "      <td>3.287745</td>\n",
              "      <td>1553.681211</td>\n",
              "      <td>31.059209</td>\n",
              "    </tr>\n",
              "    <tr>\n",
              "      <th>3</th>\n",
              "      <td>1182.364236</td>\n",
              "      <td>3.585787</td>\n",
              "      <td>1192.464771</td>\n",
              "      <td>26.157805</td>\n",
              "    </tr>\n",
              "    <tr>\n",
              "      <th>4</th>\n",
              "      <td>941.828819</td>\n",
              "      <td>2.971779</td>\n",
              "      <td>958.467497</td>\n",
              "      <td>23.613538</td>\n",
              "    </tr>\n",
              "  </tbody>\n",
              "</table>\n",
              "</div>\n",
              "    <div class=\"colab-df-buttons\">\n",
              "\n",
              "  <div class=\"colab-df-container\">\n",
              "    <button class=\"colab-df-convert\" onclick=\"convertToInteractive('df-f7458339-7033-4cfe-8207-855133935545')\"\n",
              "            title=\"Convert this dataframe to an interactive table.\"\n",
              "            style=\"display:none;\">\n",
              "\n",
              "  <svg xmlns=\"http://www.w3.org/2000/svg\" height=\"24px\" viewBox=\"0 -960 960 960\">\n",
              "    <path d=\"M120-120v-720h720v720H120Zm60-500h600v-160H180v160Zm220 220h160v-160H400v160Zm0 220h160v-160H400v160ZM180-400h160v-160H180v160Zm440 0h160v-160H620v160ZM180-180h160v-160H180v160Zm440 0h160v-160H620v160Z\"/>\n",
              "  </svg>\n",
              "    </button>\n",
              "\n",
              "  <style>\n",
              "    .colab-df-container {\n",
              "      display:flex;\n",
              "      gap: 12px;\n",
              "    }\n",
              "\n",
              "    .colab-df-convert {\n",
              "      background-color: #E8F0FE;\n",
              "      border: none;\n",
              "      border-radius: 50%;\n",
              "      cursor: pointer;\n",
              "      display: none;\n",
              "      fill: #1967D2;\n",
              "      height: 32px;\n",
              "      padding: 0 0 0 0;\n",
              "      width: 32px;\n",
              "    }\n",
              "\n",
              "    .colab-df-convert:hover {\n",
              "      background-color: #E2EBFA;\n",
              "      box-shadow: 0px 1px 2px rgba(60, 64, 67, 0.3), 0px 1px 3px 1px rgba(60, 64, 67, 0.15);\n",
              "      fill: #174EA6;\n",
              "    }\n",
              "\n",
              "    .colab-df-buttons div {\n",
              "      margin-bottom: 4px;\n",
              "    }\n",
              "\n",
              "    [theme=dark] .colab-df-convert {\n",
              "      background-color: #3B4455;\n",
              "      fill: #D2E3FC;\n",
              "    }\n",
              "\n",
              "    [theme=dark] .colab-df-convert:hover {\n",
              "      background-color: #434B5C;\n",
              "      box-shadow: 0px 1px 3px 1px rgba(0, 0, 0, 0.15);\n",
              "      filter: drop-shadow(0px 1px 2px rgba(0, 0, 0, 0.3));\n",
              "      fill: #FFFFFF;\n",
              "    }\n",
              "  </style>\n",
              "\n",
              "    <script>\n",
              "      const buttonEl =\n",
              "        document.querySelector('#df-f7458339-7033-4cfe-8207-855133935545 button.colab-df-convert');\n",
              "      buttonEl.style.display =\n",
              "        google.colab.kernel.accessAllowed ? 'block' : 'none';\n",
              "\n",
              "      async function convertToInteractive(key) {\n",
              "        const element = document.querySelector('#df-f7458339-7033-4cfe-8207-855133935545');\n",
              "        const dataTable =\n",
              "          await google.colab.kernel.invokeFunction('convertToInteractive',\n",
              "                                                    [key], {});\n",
              "        if (!dataTable) return;\n",
              "\n",
              "        const docLinkHtml = 'Like what you see? Visit the ' +\n",
              "          '<a target=\"_blank\" href=https://colab.research.google.com/notebooks/data_table.ipynb>data table notebook</a>'\n",
              "          + ' to learn more about interactive tables.';\n",
              "        element.innerHTML = '';\n",
              "        dataTable['output_type'] = 'display_data';\n",
              "        await google.colab.output.renderOutput(dataTable, element);\n",
              "        const docLink = document.createElement('div');\n",
              "        docLink.innerHTML = docLinkHtml;\n",
              "        element.appendChild(docLink);\n",
              "      }\n",
              "    </script>\n",
              "  </div>\n",
              "\n",
              "\n",
              "<div id=\"df-9401c80a-fa7b-41e6-901b-45b4ca8eb91c\">\n",
              "  <button class=\"colab-df-quickchart\" onclick=\"quickchart('df-9401c80a-fa7b-41e6-901b-45b4ca8eb91c')\"\n",
              "            title=\"Suggest charts\"\n",
              "            style=\"display:none;\">\n",
              "\n",
              "<svg xmlns=\"http://www.w3.org/2000/svg\" height=\"24px\"viewBox=\"0 0 24 24\"\n",
              "     width=\"24px\">\n",
              "    <g>\n",
              "        <path d=\"M19 3H5c-1.1 0-2 .9-2 2v14c0 1.1.9 2 2 2h14c1.1 0 2-.9 2-2V5c0-1.1-.9-2-2-2zM9 17H7v-7h2v7zm4 0h-2V7h2v10zm4 0h-2v-4h2v4z\"/>\n",
              "    </g>\n",
              "</svg>\n",
              "  </button>\n",
              "\n",
              "<style>\n",
              "  .colab-df-quickchart {\n",
              "      --bg-color: #E8F0FE;\n",
              "      --fill-color: #1967D2;\n",
              "      --hover-bg-color: #E2EBFA;\n",
              "      --hover-fill-color: #174EA6;\n",
              "      --disabled-fill-color: #AAA;\n",
              "      --disabled-bg-color: #DDD;\n",
              "  }\n",
              "\n",
              "  [theme=dark] .colab-df-quickchart {\n",
              "      --bg-color: #3B4455;\n",
              "      --fill-color: #D2E3FC;\n",
              "      --hover-bg-color: #434B5C;\n",
              "      --hover-fill-color: #FFFFFF;\n",
              "      --disabled-bg-color: #3B4455;\n",
              "      --disabled-fill-color: #666;\n",
              "  }\n",
              "\n",
              "  .colab-df-quickchart {\n",
              "    background-color: var(--bg-color);\n",
              "    border: none;\n",
              "    border-radius: 50%;\n",
              "    cursor: pointer;\n",
              "    display: none;\n",
              "    fill: var(--fill-color);\n",
              "    height: 32px;\n",
              "    padding: 0;\n",
              "    width: 32px;\n",
              "  }\n",
              "\n",
              "  .colab-df-quickchart:hover {\n",
              "    background-color: var(--hover-bg-color);\n",
              "    box-shadow: 0 1px 2px rgba(60, 64, 67, 0.3), 0 1px 3px 1px rgba(60, 64, 67, 0.15);\n",
              "    fill: var(--button-hover-fill-color);\n",
              "  }\n",
              "\n",
              "  .colab-df-quickchart-complete:disabled,\n",
              "  .colab-df-quickchart-complete:disabled:hover {\n",
              "    background-color: var(--disabled-bg-color);\n",
              "    fill: var(--disabled-fill-color);\n",
              "    box-shadow: none;\n",
              "  }\n",
              "\n",
              "  .colab-df-spinner {\n",
              "    border: 2px solid var(--fill-color);\n",
              "    border-color: transparent;\n",
              "    border-bottom-color: var(--fill-color);\n",
              "    animation:\n",
              "      spin 1s steps(1) infinite;\n",
              "  }\n",
              "\n",
              "  @keyframes spin {\n",
              "    0% {\n",
              "      border-color: transparent;\n",
              "      border-bottom-color: var(--fill-color);\n",
              "      border-left-color: var(--fill-color);\n",
              "    }\n",
              "    20% {\n",
              "      border-color: transparent;\n",
              "      border-left-color: var(--fill-color);\n",
              "      border-top-color: var(--fill-color);\n",
              "    }\n",
              "    30% {\n",
              "      border-color: transparent;\n",
              "      border-left-color: var(--fill-color);\n",
              "      border-top-color: var(--fill-color);\n",
              "      border-right-color: var(--fill-color);\n",
              "    }\n",
              "    40% {\n",
              "      border-color: transparent;\n",
              "      border-right-color: var(--fill-color);\n",
              "      border-top-color: var(--fill-color);\n",
              "    }\n",
              "    60% {\n",
              "      border-color: transparent;\n",
              "      border-right-color: var(--fill-color);\n",
              "    }\n",
              "    80% {\n",
              "      border-color: transparent;\n",
              "      border-right-color: var(--fill-color);\n",
              "      border-bottom-color: var(--fill-color);\n",
              "    }\n",
              "    90% {\n",
              "      border-color: transparent;\n",
              "      border-bottom-color: var(--fill-color);\n",
              "    }\n",
              "  }\n",
              "</style>\n",
              "\n",
              "  <script>\n",
              "    async function quickchart(key) {\n",
              "      const quickchartButtonEl =\n",
              "        document.querySelector('#' + key + ' button');\n",
              "      quickchartButtonEl.disabled = true;  // To prevent multiple clicks.\n",
              "      quickchartButtonEl.classList.add('colab-df-spinner');\n",
              "      try {\n",
              "        const charts = await google.colab.kernel.invokeFunction(\n",
              "            'suggestCharts', [key], {});\n",
              "      } catch (error) {\n",
              "        console.error('Error during call to suggestCharts:', error);\n",
              "      }\n",
              "      quickchartButtonEl.classList.remove('colab-df-spinner');\n",
              "      quickchartButtonEl.classList.add('colab-df-quickchart-complete');\n",
              "    }\n",
              "    (() => {\n",
              "      let quickchartButtonEl =\n",
              "        document.querySelector('#df-9401c80a-fa7b-41e6-901b-45b4ca8eb91c button');\n",
              "      quickchartButtonEl.style.display =\n",
              "        google.colab.kernel.accessAllowed ? 'block' : 'none';\n",
              "    })();\n",
              "  </script>\n",
              "</div>\n",
              "\n",
              "    </div>\n",
              "  </div>\n"
            ],
            "application/vnd.google.colaboratory.intrinsic+json": {
              "type": "dataframe",
              "variable_name": "results",
              "summary": "{\n  \"name\": \"results\",\n  \"rows\": 53,\n  \"fields\": [\n    {\n      \"column\": \"train-rmse-mean\",\n      \"properties\": {\n        \"dtype\": \"number\",\n        \"std\": 429.7694081635209,\n        \"min\": 414.1361991658161,\n        \"max\": 2861.15301527067,\n        \"num_unique_values\": 53,\n        \"samples\": [\n          484.62573131246154,\n          433.97153637803405,\n          422.3168224812395\n        ],\n        \"semantic_type\": \"\",\n        \"description\": \"\"\n      }\n    },\n    {\n      \"column\": \"train-rmse-std\",\n      \"properties\": {\n        \"dtype\": \"number\",\n        \"std\": 1.0133113236330542,\n        \"min\": 1.8581036501569677,\n        \"max\": 8.266764717645227,\n        \"num_unique_values\": 53,\n        \"samples\": [\n          2.2293967980471145,\n          3.9505540817264166,\n          3.822599967591308\n        ],\n        \"semantic_type\": \"\",\n        \"description\": \"\"\n      }\n    },\n    {\n      \"column\": \"test-rmse-mean\",\n      \"properties\": {\n        \"dtype\": \"number\",\n        \"std\": 405.2548400212808,\n        \"min\": 549.1039652582465,\n        \"max\": 2861.7735547844964,\n        \"num_unique_values\": 53,\n        \"samples\": [\n          556.4872914846262,\n          551.1895685961096,\n          550.2180180875431\n        ],\n        \"semantic_type\": \"\",\n        \"description\": \"\"\n      }\n    },\n    {\n      \"column\": \"test-rmse-std\",\n      \"properties\": {\n        \"dtype\": \"number\",\n        \"std\": 4.686942459809015,\n        \"min\": 14.422038529767345,\n        \"max\": 36.93751579177745,\n        \"num_unique_values\": 53,\n        \"samples\": [\n          15.171151275590141,\n          14.921685539842414,\n          14.924656542067693\n        ],\n        \"semantic_type\": \"\",\n        \"description\": \"\"\n      }\n    }\n  ]\n}"
            }
          },
          "metadata": {},
          "execution_count": 16
        }
      ]
    },
    {
      "cell_type": "code",
      "source": [
        "best_rmse = results['test-rmse-mean'].min()\n",
        "\n",
        "best_rmse"
      ],
      "metadata": {
        "colab": {
          "base_uri": "https://localhost:8080/"
        },
        "id": "COZyldTfOaWI",
        "outputId": "d3e43fce-9917-468d-f8cc-c617e8e38389"
      },
      "execution_count": 17,
      "outputs": [
        {
          "output_type": "execute_result",
          "data": {
            "text/plain": [
              "549.1039652582465"
            ]
          },
          "metadata": {},
          "execution_count": 17
        }
      ]
    },
    {
      "cell_type": "markdown",
      "source": [
        "## Start W&B\n",
        "\n",
        "\n",
        "- Login into your W&B profile using the code below\n",
        "- Alternatively you can set environment variables. There are several env variables which you can set to change the behavior of W&B logging. The most important are:\n",
        "    - WANDB_API_KEY - find this in your \"Settings\" section under your profile\n",
        "    - WANDB_BASE_URL - this is the url of the W&B server\n",
        "\n",
        "- Find your API Token in \"Profile\" -> \"Setttings\" in the W&B App\n",
        "\n"
      ],
      "metadata": {
        "id": "VQNEcz4kF2ng"
      }
    },
    {
      "cell_type": "code",
      "source": [
        "# Log in to your W&B account\n",
        "import wandb\n",
        "\n",
        "wandb.login()"
      ],
      "metadata": {
        "id": "ftmEQ-keSZ87",
        "colab": {
          "base_uri": "https://localhost:8080/",
          "height": 121
        },
        "outputId": "1b37b95b-c202-4f99-b3fa-169482bcaaf8"
      },
      "execution_count": 18,
      "outputs": [
        {
          "output_type": "display_data",
          "data": {
            "text/plain": [
              "<IPython.core.display.Javascript object>"
            ],
            "application/javascript": [
              "\n",
              "        window._wandbApiKey = new Promise((resolve, reject) => {\n",
              "            function loadScript(url) {\n",
              "            return new Promise(function(resolve, reject) {\n",
              "                let newScript = document.createElement(\"script\");\n",
              "                newScript.onerror = reject;\n",
              "                newScript.onload = resolve;\n",
              "                document.body.appendChild(newScript);\n",
              "                newScript.src = url;\n",
              "            });\n",
              "            }\n",
              "            loadScript(\"https://cdn.jsdelivr.net/npm/postmate/build/postmate.min.js\").then(() => {\n",
              "            const iframe = document.createElement('iframe')\n",
              "            iframe.style.cssText = \"width:0;height:0;border:none\"\n",
              "            document.body.appendChild(iframe)\n",
              "            const handshake = new Postmate({\n",
              "                container: iframe,\n",
              "                url: 'https://wandb.ai/authorize'\n",
              "            });\n",
              "            const timeout = setTimeout(() => reject(\"Couldn't auto authenticate\"), 5000)\n",
              "            handshake.then(function(child) {\n",
              "                child.on('authorize', data => {\n",
              "                    clearTimeout(timeout)\n",
              "                    resolve(data)\n",
              "                });\n",
              "            });\n",
              "            })\n",
              "        });\n",
              "    "
            ]
          },
          "metadata": {}
        },
        {
          "output_type": "stream",
          "name": "stderr",
          "text": [
            "\u001b[34m\u001b[1mwandb\u001b[0m: Logging into wandb.ai. (Learn how to deploy a W&B server locally: https://wandb.me/wandb-server)\n",
            "\u001b[34m\u001b[1mwandb\u001b[0m: You can find your API key in your browser here: https://wandb.ai/authorize\n",
            "wandb: Paste an API key from your profile and hit enter, or press ctrl+c to quit:"
          ]
        },
        {
          "name": "stdout",
          "output_type": "stream",
          "text": [
            " ··········\n"
          ]
        },
        {
          "output_type": "stream",
          "name": "stderr",
          "text": [
            "\u001b[34m\u001b[1mwandb\u001b[0m: Appending key for api.wandb.ai to your netrc file: /root/.netrc\n"
          ]
        },
        {
          "output_type": "execute_result",
          "data": {
            "text/plain": [
              "True"
            ]
          },
          "metadata": {},
          "execution_count": 18
        }
      ]
    },
    {
      "cell_type": "code",
      "source": [
        "sweep_config = {\n",
        "    'method': 'random',  # Can be 'grid', 'random', 'bayesian'\n",
        "    'metric': {\n",
        "        'name': 'rmse',\n",
        "        'goal': 'minimize'\n",
        "    },\n",
        "    'parameters': {\n",
        "        'learning_rate': {\n",
        "            'min': 0.01,\n",
        "            'max': 0.2\n",
        "        },\n",
        "        'max_depth': {\n",
        "            'values': [3, 5, 7, 9]\n",
        "        },\n",
        "        'subsample': {\n",
        "            'min': 0.6,\n",
        "            'max': 0.9\n",
        "        },\n",
        "        'colsample_bytree': {\n",
        "            'min': 0.6,\n",
        "            'max': 0.9\n",
        "        },\n",
        "        'n_estimators': {\n",
        "            'values': [50, 100, 150, 200]\n",
        "        }\n",
        "    }\n",
        "}"
      ],
      "metadata": {
        "id": "4nVR-Te2ZdXi"
      },
      "execution_count": 20,
      "outputs": []
    },
    {
      "cell_type": "code",
      "source": [
        "sweep_id = wandb.sweep(sweep_config, project=\"xgboost_diamonds_sweep_experiments\", entity='devambani')"
      ],
      "metadata": {
        "colab": {
          "base_uri": "https://localhost:8080/"
        },
        "id": "6fWcerXY0jlx",
        "outputId": "189b967b-74d7-4165-d003-b8bc61f82bcf"
      },
      "execution_count": 21,
      "outputs": [
        {
          "output_type": "stream",
          "name": "stdout",
          "text": [
            "Create sweep with ID: y3o2ro2k\n",
            "Sweep URL: https://wandb.ai/devambani/xgboost_diamonds_sweep_experiments/sweeps/y3o2ro2k\n"
          ]
        }
      ]
    },
    {
      "cell_type": "code",
      "source": [
        "def train():\n",
        "    with wandb.init() as run:\n",
        "        config = wandb.config\n",
        "\n",
        "        params = {\n",
        "            'objective': 'reg:squarederror',\n",
        "            'learning_rate': config.learning_rate,\n",
        "            'max_depth': int(config.max_depth),\n",
        "            'subsample': config.subsample,\n",
        "            'colsample_bytree': config.colsample_bytree,\n",
        "            'eval_metric': 'rmse'\n",
        "        }\n",
        "\n",
        "        evals = [(dtrain, 'train'), (dtest, 'test')]\n",
        "        model = xgb.train(params, dtrain, num_boost_round=100,\n",
        "                          evals=evals, early_stopping_rounds=10)\n",
        "\n",
        "        predictions = model.predict(dtest)\n",
        "        rmse = np.sqrt(mean_squared_error(y_test, predictions))\n",
        "        wandb.log({'rmse': rmse})"
      ],
      "metadata": {
        "id": "x7-kuEsa4Vwq"
      },
      "execution_count": 25,
      "outputs": []
    },
    {
      "cell_type": "code",
      "source": [
        "wandb.agent(sweep_id, train)"
      ],
      "metadata": {
        "colab": {
          "base_uri": "https://localhost:8080/",
          "height": 1000,
          "referenced_widgets": [
            "88570fbf1389469ba0541ef3212cf9b1",
            "c087509bc6d94ec5948a7f959f49f34a",
            "8fcb53c5619d420096f5e029d3c0535d",
            "d38700ac56e449dc9739661439c4542a",
            "b05a9ba97416463889f1bbf4e8d2bdf4",
            "91c9a63d58884f3ab046e33ec06d5165",
            "3835019029a748939a7f2a914f3c24e6",
            "919b8091bb024867bd77ba7421437f50",
            "331271b5f91e4706bb13a342e2480b03",
            "8790995c624b4c2fa837e84b5c19ecee",
            "f07cdccdc1e94485991b6e63e7418d26",
            "7cb73338f48945d58bfded0f577a0145",
            "035edef4f8cf4861a71bbc7db46969b5",
            "a9f333e842d2404bb327280b9e4e6c64",
            "0ff12ade920e4705a60beb9bb9821aba",
            "56490209a1d24c3d9695fb6c4b27ec46",
            "fee022e68ffc46f5b8837dca4b10f86c",
            "dc8a83cb051a41f68cd2d5d5f4216b74",
            "9fddc3b3a2f6409bafda3473c3d07bcc",
            "b70e427543f1406387d446fcd82e7765",
            "b9e6fbcfb3324d99ba3b9072eca96037",
            "04ed4357b79c40a9b6a2940c46f31edd",
            "e4a9d3d5700d481f8c8be549360203f0",
            "37eb66de0219460d8f833110fd49599a",
            "d4e89153834248578b668776d825e469",
            "df93c3c1faa94d94a32fc5c44c3d31a0",
            "f5b6b070ac9841c5aad5ccea58ebbc7d",
            "7c0aa5b090ed498f8e3838d8f33f00d9",
            "3337662da0b746909b065da4fc5d3276",
            "846bfa74343e4d158d5ab53fecb342ed",
            "c6c198b0a30844ef90351ad585bd3b32",
            "a90c7113cce54b599cd7bf96e6911330",
            "b179de45aacf4489a79eab9f0d8ad1a3",
            "2e65b7f481424a24b53fe7aa119ce402",
            "df9fe07bf7d94f269ab8b3643022ebf7",
            "b77798a469824843844cbd68fea6bba7",
            "e702eed020014861a9ce182c7c55531c",
            "1eba8f8b7a0645038d9c14319fc23df5",
            "0da6f572b49c4354924ccd9a292f1623",
            "83b1b3c2a09e4ff2a6c170c924d2f600",
            "ee2f7e27760c464db92f972c18c8bb85",
            "3a002df192e94fe0b974fbe658bd235b",
            "1379a60353db4f7cba9d780dccf1f5bd",
            "f9caafce80504931a8fc95f0c062c890",
            "b581de4bcb2f45daa139ea10077cc7cd",
            "49fb1e8032bc41bc9572059fec4e8ab0",
            "13520d77e893401a801976d3296f4a93",
            "085bbf87b59842789044abfcb6e51575",
            "1db0bb84d3794c0e9aa6544abf688202",
            "17824e3ec22446fcbec9e03a9a1008c0",
            "74cbbfbe921f481a877eed16a3a4ce52",
            "8caca10e169943359c64e1d928702157",
            "4066ebe03f004a858631f370b4bc8acf",
            "a600bac795604ec58fa5b59db7aa1132",
            "1dcd46e87aeb4c14b309b9bff76578e2",
            "dced75fe5bbe48f6b3148f3a395d573e",
            "124a512cebf24391a0743aa42476b12c",
            "67887675947a4eb796f2048ef1e3c008",
            "b51863cf73b04d96886343799ed650f2",
            "bfd5d4f3dd834ec1a090725c484dde6b",
            "0bbfc34dc39940e39e782778872b51b2",
            "166cf98ff3d94324a984a325eccd490c",
            "609bee36d1174952ad8715cd29c87e6c",
            "773357747040485c8be70f7f10133565",
            "0363a04f3f1d493cad7b5c7b09d91620",
            "3c868ac7bd6e4edd8de291b5d4f78414",
            "e93c5730d3654866afa57ed0b833923a",
            "88f862e9d8cb48999a11a80e2f3b3a5f",
            "f8f8328e0c774c79b4a6f223da2bc484",
            "7b08fcf1d7044132a120ff4db32f5d23",
            "c296aebe311641868daa86a19025ae45",
            "8a544ba786994d60bfd7dde4a2ef8f5e",
            "6c0a25ca5eba44e4a404984bc26b5ddb",
            "ac36b86694ce46169523979f9496004f",
            "ab25fc27fa85425f8b1970aa75156974",
            "c1e3f896325f46fb91e9ffc16e9cd5e4",
            "a74235b71b4c4b4c91a351607421c79b",
            "f8a79260835c4e009643c7f71cf044ec",
            "cf19dabccea841a7ae401d00afd46e98",
            "f735143f5c6643758f12951c5db2dec5",
            "022bfceb400a465fa90a23a2f7865fc4",
            "393625ed55de4c1abdbb0810cc63b856",
            "ab85f4e77eb1424f85b758f21700ae19",
            "71f55e9ee7644b9bab4a3f14e0519508",
            "b1604ffd61da4b9ebc0a10fc2bbd41d6",
            "0656301b70c34d1ebed5ed0a0fe11793",
            "0438e2a9175c4f8fa560fae46552230a",
            "f76159242afa494bb7835c053ea1eea1",
            "9cfb38855f6d477fb7be75211340e1f1",
            "cb38fa7a97bd479ba7e486ad66f968ff",
            "de7debf6bd5046d6a0bf075e9460f796",
            "3fa89d3ac69e4607ae1c4b245252db90",
            "e00c8d40d2114e7b95a33f88d3077fea",
            "e87a78a4fa8542b19bd411f9c204888b",
            "2d79e8ba49284e66bcd1184f96a0514a",
            "c5f11be06831409785f3d47a39c0d4d0",
            "ee9b81b5fb4a44c4954255bf5f478dbd",
            "d5d9ba9019dc4dd2aac05ac850e842de",
            "30d737cc11334de5ab58e756f792832d",
            "35e8011da0c545ae93cf6644e17c9757",
            "e05a4e729668474a829aab1f0a54244b",
            "1ba11026ee804370b3ea182b2fd57a34",
            "1c564d2385ef4eb09f30a131b37c6cf9",
            "40528b89f2d64bcf8004b7ecbf1bf23c",
            "1abad6c3f12b4033acbb6bf8ea89695a",
            "2f534f0790034ed98008acd59a7e9333",
            "6e065061b6bd43e1a0f7bb2eee844550",
            "0180ba38e37e4a54a2066b2f74a267c0",
            "1fbf4fd472ae4451a6ad44d6d91dc08c",
            "a0ddf64b45524ebebe3bd323e3077f02",
            "932aa6041408429d91e9a86793156696",
            "a1414956bd504dd5a06f3c40fed75c17"
          ]
        },
        "id": "84MZS6Yo0sbX",
        "outputId": "a2de9051-7261-48a0-cf43-81a3c5dcf0b6"
      },
      "execution_count": 26,
      "outputs": [
        {
          "output_type": "stream",
          "name": "stderr",
          "text": [
            "\u001b[34m\u001b[1mwandb\u001b[0m: Agent Starting Run: epsyyfgd with config:\n",
            "\u001b[34m\u001b[1mwandb\u001b[0m: \tcolsample_bytree: 0.7470157333200191\n",
            "\u001b[34m\u001b[1mwandb\u001b[0m: \tlearning_rate: 0.0931057403433692\n",
            "\u001b[34m\u001b[1mwandb\u001b[0m: \tmax_depth: 9\n",
            "\u001b[34m\u001b[1mwandb\u001b[0m: \tn_estimators: 100\n",
            "\u001b[34m\u001b[1mwandb\u001b[0m: \tsubsample: 0.6197332048089546\n"
          ]
        },
        {
          "output_type": "display_data",
          "data": {
            "text/plain": [
              "<IPython.core.display.HTML object>"
            ],
            "text/html": [
              "Tracking run with wandb version 0.16.6"
            ]
          },
          "metadata": {}
        },
        {
          "output_type": "display_data",
          "data": {
            "text/plain": [
              "<IPython.core.display.HTML object>"
            ],
            "text/html": [
              "Run data is saved locally in <code>/content/wandb/run-20240423_025634-epsyyfgd</code>"
            ]
          },
          "metadata": {}
        },
        {
          "output_type": "display_data",
          "data": {
            "text/plain": [
              "<IPython.core.display.HTML object>"
            ],
            "text/html": [
              "Syncing run <strong><a href='https://wandb.ai/devambani/xgboost_diamonds_sweep_experiments/runs/epsyyfgd' target=\"_blank\">pleasant-sweep-42</a></strong> to <a href='https://wandb.ai/devambani/xgboost_diamonds_sweep_experiments' target=\"_blank\">Weights & Biases</a> (<a href='https://wandb.me/run' target=\"_blank\">docs</a>)<br/>Sweep page: <a href='https://wandb.ai/devambani/xgboost_diamonds_sweep_experiments/sweeps/y3o2ro2k' target=\"_blank\">https://wandb.ai/devambani/xgboost_diamonds_sweep_experiments/sweeps/y3o2ro2k</a>"
            ]
          },
          "metadata": {}
        },
        {
          "output_type": "display_data",
          "data": {
            "text/plain": [
              "<IPython.core.display.HTML object>"
            ],
            "text/html": [
              " View project at <a href='https://wandb.ai/devambani/xgboost_diamonds_sweep_experiments' target=\"_blank\">https://wandb.ai/devambani/xgboost_diamonds_sweep_experiments</a>"
            ]
          },
          "metadata": {}
        },
        {
          "output_type": "display_data",
          "data": {
            "text/plain": [
              "<IPython.core.display.HTML object>"
            ],
            "text/html": [
              " View sweep at <a href='https://wandb.ai/devambani/xgboost_diamonds_sweep_experiments/sweeps/y3o2ro2k' target=\"_blank\">https://wandb.ai/devambani/xgboost_diamonds_sweep_experiments/sweeps/y3o2ro2k</a>"
            ]
          },
          "metadata": {}
        },
        {
          "output_type": "display_data",
          "data": {
            "text/plain": [
              "<IPython.core.display.HTML object>"
            ],
            "text/html": [
              " View run at <a href='https://wandb.ai/devambani/xgboost_diamonds_sweep_experiments/runs/epsyyfgd' target=\"_blank\">https://wandb.ai/devambani/xgboost_diamonds_sweep_experiments/runs/epsyyfgd</a>"
            ]
          },
          "metadata": {}
        },
        {
          "output_type": "stream",
          "name": "stdout",
          "text": [
            "[0]\ttrain-rmse:3663.79090\ttest-rmse:3659.13685\n",
            "[1]\ttrain-rmse:3349.38124\ttest-rmse:3344.38568\n",
            "[2]\ttrain-rmse:3066.36419\ttest-rmse:3061.30027\n",
            "[3]\ttrain-rmse:2816.88964\ttest-rmse:2811.37631\n",
            "[4]\ttrain-rmse:2603.99160\ttest-rmse:2599.50343\n",
            "[5]\ttrain-rmse:2394.21937\ttest-rmse:2391.97171\n",
            "[6]\ttrain-rmse:2223.30560\ttest-rmse:2222.55851\n",
            "[7]\ttrain-rmse:2055.83091\ttest-rmse:2056.82411\n",
            "[8]\ttrain-rmse:1882.25070\ttest-rmse:1884.63026\n",
            "[9]\ttrain-rmse:1741.47085\ttest-rmse:1746.49423\n",
            "[10]\ttrain-rmse:1632.98443\ttest-rmse:1641.26245\n",
            "[11]\ttrain-rmse:1500.26918\ttest-rmse:1510.64309\n",
            "[12]\ttrain-rmse:1382.55979\ttest-rmse:1395.45621\n",
            "[13]\ttrain-rmse:1275.92926\ttest-rmse:1291.39048\n",
            "[14]\ttrain-rmse:1205.84845\ttest-rmse:1224.89446\n",
            "[15]\ttrain-rmse:1116.79660\ttest-rmse:1138.26182\n",
            "[16]\ttrain-rmse:1052.52003\ttest-rmse:1077.10278\n",
            "[17]\ttrain-rmse:979.19071\ttest-rmse:1006.86589\n",
            "[18]\ttrain-rmse:914.34962\ttest-rmse:944.79823\n",
            "[19]\ttrain-rmse:856.90899\ttest-rmse:891.19205\n",
            "[20]\ttrain-rmse:816.36677\ttest-rmse:854.34870\n",
            "[21]\ttrain-rmse:776.75493\ttest-rmse:819.61395\n",
            "[22]\ttrain-rmse:742.05182\ttest-rmse:789.24306\n",
            "[23]\ttrain-rmse:703.86936\ttest-rmse:755.38447\n",
            "[24]\ttrain-rmse:670.17834\ttest-rmse:726.00179\n",
            "[25]\ttrain-rmse:640.14753\ttest-rmse:699.02064\n",
            "[26]\ttrain-rmse:613.85144\ttest-rmse:676.79134\n",
            "[27]\ttrain-rmse:596.50636\ttest-rmse:662.96096\n",
            "[28]\ttrain-rmse:580.29317\ttest-rmse:650.04137\n",
            "[29]\ttrain-rmse:561.04487\ttest-rmse:634.32316\n",
            "[30]\ttrain-rmse:548.50569\ttest-rmse:625.70592\n",
            "[31]\ttrain-rmse:533.21613\ttest-rmse:613.85626\n",
            "[32]\ttrain-rmse:520.01553\ttest-rmse:603.88993\n",
            "[33]\ttrain-rmse:510.56873\ttest-rmse:597.93915\n",
            "[34]\ttrain-rmse:500.27558\ttest-rmse:590.01850\n",
            "[35]\ttrain-rmse:491.49139\ttest-rmse:583.55860\n",
            "[36]\ttrain-rmse:483.31447\ttest-rmse:578.30953\n",
            "[37]\ttrain-rmse:477.64001\ttest-rmse:575.31714\n",
            "[38]\ttrain-rmse:472.02771\ttest-rmse:572.67385\n",
            "[39]\ttrain-rmse:466.82112\ttest-rmse:570.44534\n",
            "[40]\ttrain-rmse:462.19288\ttest-rmse:567.88063\n",
            "[41]\ttrain-rmse:456.16163\ttest-rmse:564.85196\n",
            "[42]\ttrain-rmse:452.66386\ttest-rmse:563.58268\n",
            "[43]\ttrain-rmse:447.58666\ttest-rmse:561.54404\n",
            "[44]\ttrain-rmse:444.06575\ttest-rmse:560.41730\n",
            "[45]\ttrain-rmse:440.65074\ttest-rmse:559.66893\n",
            "[46]\ttrain-rmse:437.79210\ttest-rmse:559.08601\n",
            "[47]\ttrain-rmse:433.73033\ttest-rmse:556.80432\n",
            "[48]\ttrain-rmse:431.72208\ttest-rmse:557.37674\n",
            "[49]\ttrain-rmse:428.35452\ttest-rmse:555.28258\n",
            "[50]\ttrain-rmse:425.76792\ttest-rmse:554.91084\n",
            "[51]\ttrain-rmse:422.94104\ttest-rmse:553.79916\n",
            "[52]\ttrain-rmse:420.09953\ttest-rmse:552.22859\n",
            "[53]\ttrain-rmse:417.77961\ttest-rmse:551.13729\n",
            "[54]\ttrain-rmse:415.92930\ttest-rmse:551.06354\n",
            "[55]\ttrain-rmse:413.71686\ttest-rmse:550.33243\n",
            "[56]\ttrain-rmse:410.80621\ttest-rmse:549.63849\n",
            "[57]\ttrain-rmse:408.09589\ttest-rmse:548.98768\n",
            "[58]\ttrain-rmse:405.73217\ttest-rmse:548.32933\n",
            "[59]\ttrain-rmse:403.66932\ttest-rmse:547.56372\n",
            "[60]\ttrain-rmse:401.57110\ttest-rmse:547.77771\n",
            "[61]\ttrain-rmse:399.34646\ttest-rmse:547.27165\n",
            "[62]\ttrain-rmse:398.33236\ttest-rmse:547.03988\n",
            "[63]\ttrain-rmse:396.25222\ttest-rmse:546.71854\n",
            "[64]\ttrain-rmse:395.14878\ttest-rmse:546.86548\n",
            "[65]\ttrain-rmse:393.43058\ttest-rmse:546.75797\n",
            "[66]\ttrain-rmse:391.87736\ttest-rmse:546.96824\n",
            "[67]\ttrain-rmse:389.97679\ttest-rmse:547.03629\n",
            "[68]\ttrain-rmse:388.12206\ttest-rmse:546.91745\n",
            "[69]\ttrain-rmse:386.52709\ttest-rmse:546.13356\n",
            "[70]\ttrain-rmse:385.03132\ttest-rmse:545.64262\n",
            "[71]\ttrain-rmse:383.16529\ttest-rmse:545.34711\n",
            "[72]\ttrain-rmse:382.14822\ttest-rmse:545.54541\n",
            "[73]\ttrain-rmse:380.42150\ttest-rmse:545.33883\n",
            "[74]\ttrain-rmse:378.22327\ttest-rmse:545.03630\n",
            "[75]\ttrain-rmse:376.69644\ttest-rmse:544.84788\n",
            "[76]\ttrain-rmse:374.79280\ttest-rmse:544.61764\n",
            "[77]\ttrain-rmse:373.33902\ttest-rmse:544.16624\n",
            "[78]\ttrain-rmse:371.49638\ttest-rmse:543.85014\n",
            "[79]\ttrain-rmse:370.43916\ttest-rmse:544.00971\n",
            "[80]\ttrain-rmse:368.41518\ttest-rmse:544.49874\n",
            "[81]\ttrain-rmse:367.26213\ttest-rmse:544.38321\n",
            "[82]\ttrain-rmse:365.98266\ttest-rmse:544.35424\n",
            "[83]\ttrain-rmse:364.58683\ttest-rmse:544.31282\n",
            "[84]\ttrain-rmse:362.66666\ttest-rmse:544.48534\n",
            "[85]\ttrain-rmse:361.93656\ttest-rmse:544.29046\n",
            "[86]\ttrain-rmse:360.84029\ttest-rmse:544.64500\n",
            "[87]\ttrain-rmse:359.38678\ttest-rmse:544.30775\n",
            "[88]\ttrain-rmse:358.09987\ttest-rmse:544.30118\n"
          ]
        },
        {
          "output_type": "display_data",
          "data": {
            "text/plain": [
              "VBox(children=(Label(value='0.002 MB of 0.002 MB uploaded\\r'), FloatProgress(value=1.0, max=1.0)))"
            ],
            "application/vnd.jupyter.widget-view+json": {
              "version_major": 2,
              "version_minor": 0,
              "model_id": "88570fbf1389469ba0541ef3212cf9b1"
            }
          },
          "metadata": {}
        },
        {
          "output_type": "display_data",
          "data": {
            "text/plain": [
              "<IPython.core.display.HTML object>"
            ],
            "text/html": [
              "<style>\n",
              "    table.wandb td:nth-child(1) { padding: 0 10px; text-align: left ; width: auto;} td:nth-child(2) {text-align: left ; width: 100%}\n",
              "    .wandb-row { display: flex; flex-direction: row; flex-wrap: wrap; justify-content: flex-start; width: 100% }\n",
              "    .wandb-col { display: flex; flex-direction: column; flex-basis: 100%; flex: 1; padding: 10px; }\n",
              "    </style>\n",
              "<div class=\"wandb-row\"><div class=\"wandb-col\"><h3>Run history:</h3><br/><table class=\"wandb\"><tr><td>rmse</td><td>▁</td></tr></table><br/></div><div class=\"wandb-col\"><h3>Run summary:</h3><br/><table class=\"wandb\"><tr><td>rmse</td><td>544.30118</td></tr></table><br/></div></div>"
            ]
          },
          "metadata": {}
        },
        {
          "output_type": "display_data",
          "data": {
            "text/plain": [
              "<IPython.core.display.HTML object>"
            ],
            "text/html": [
              " View run <strong style=\"color:#cdcd00\">pleasant-sweep-42</strong> at: <a href='https://wandb.ai/devambani/xgboost_diamonds_sweep_experiments/runs/epsyyfgd' target=\"_blank\">https://wandb.ai/devambani/xgboost_diamonds_sweep_experiments/runs/epsyyfgd</a><br/> View project at: <a href='https://wandb.ai/devambani/xgboost_diamonds_sweep_experiments' target=\"_blank\">https://wandb.ai/devambani/xgboost_diamonds_sweep_experiments</a><br/>Synced 5 W&B file(s), 0 media file(s), 0 artifact file(s) and 0 other file(s)"
            ]
          },
          "metadata": {}
        },
        {
          "output_type": "display_data",
          "data": {
            "text/plain": [
              "<IPython.core.display.HTML object>"
            ],
            "text/html": [
              "Find logs at: <code>./wandb/run-20240423_025634-epsyyfgd/logs</code>"
            ]
          },
          "metadata": {}
        },
        {
          "output_type": "stream",
          "name": "stderr",
          "text": [
            "\u001b[34m\u001b[1mwandb\u001b[0m: Sweep Agent: Waiting for job.\n",
            "\u001b[34m\u001b[1mwandb\u001b[0m: Job received.\n",
            "\u001b[34m\u001b[1mwandb\u001b[0m: Agent Starting Run: 8tkbgeto with config:\n",
            "\u001b[34m\u001b[1mwandb\u001b[0m: \tcolsample_bytree: 0.8382655303390566\n",
            "\u001b[34m\u001b[1mwandb\u001b[0m: \tlearning_rate: 0.06780090209968762\n",
            "\u001b[34m\u001b[1mwandb\u001b[0m: \tmax_depth: 9\n",
            "\u001b[34m\u001b[1mwandb\u001b[0m: \tn_estimators: 50\n",
            "\u001b[34m\u001b[1mwandb\u001b[0m: \tsubsample: 0.7989327556372321\n"
          ]
        },
        {
          "output_type": "display_data",
          "data": {
            "text/plain": [
              "<IPython.core.display.HTML object>"
            ],
            "text/html": [
              "Tracking run with wandb version 0.16.6"
            ]
          },
          "metadata": {}
        },
        {
          "output_type": "display_data",
          "data": {
            "text/plain": [
              "<IPython.core.display.HTML object>"
            ],
            "text/html": [
              "Run data is saved locally in <code>/content/wandb/run-20240423_025655-8tkbgeto</code>"
            ]
          },
          "metadata": {}
        },
        {
          "output_type": "display_data",
          "data": {
            "text/plain": [
              "<IPython.core.display.HTML object>"
            ],
            "text/html": [
              "Syncing run <strong><a href='https://wandb.ai/devambani/xgboost_diamonds_sweep_experiments/runs/8tkbgeto' target=\"_blank\">misty-sweep-43</a></strong> to <a href='https://wandb.ai/devambani/xgboost_diamonds_sweep_experiments' target=\"_blank\">Weights & Biases</a> (<a href='https://wandb.me/run' target=\"_blank\">docs</a>)<br/>Sweep page: <a href='https://wandb.ai/devambani/xgboost_diamonds_sweep_experiments/sweeps/y3o2ro2k' target=\"_blank\">https://wandb.ai/devambani/xgboost_diamonds_sweep_experiments/sweeps/y3o2ro2k</a>"
            ]
          },
          "metadata": {}
        },
        {
          "output_type": "display_data",
          "data": {
            "text/plain": [
              "<IPython.core.display.HTML object>"
            ],
            "text/html": [
              " View project at <a href='https://wandb.ai/devambani/xgboost_diamonds_sweep_experiments' target=\"_blank\">https://wandb.ai/devambani/xgboost_diamonds_sweep_experiments</a>"
            ]
          },
          "metadata": {}
        },
        {
          "output_type": "display_data",
          "data": {
            "text/plain": [
              "<IPython.core.display.HTML object>"
            ],
            "text/html": [
              " View sweep at <a href='https://wandb.ai/devambani/xgboost_diamonds_sweep_experiments/sweeps/y3o2ro2k' target=\"_blank\">https://wandb.ai/devambani/xgboost_diamonds_sweep_experiments/sweeps/y3o2ro2k</a>"
            ]
          },
          "metadata": {}
        },
        {
          "output_type": "display_data",
          "data": {
            "text/plain": [
              "<IPython.core.display.HTML object>"
            ],
            "text/html": [
              " View run at <a href='https://wandb.ai/devambani/xgboost_diamonds_sweep_experiments/runs/8tkbgeto' target=\"_blank\">https://wandb.ai/devambani/xgboost_diamonds_sweep_experiments/runs/8tkbgeto</a>"
            ]
          },
          "metadata": {}
        },
        {
          "output_type": "stream",
          "name": "stdout",
          "text": [
            "[0]\ttrain-rmse:3743.83083\ttest-rmse:3740.80294\n",
            "[1]\ttrain-rmse:3507.78901\ttest-rmse:3504.47497\n",
            "[2]\ttrain-rmse:3288.45864\ttest-rmse:3284.89117\n",
            "[3]\ttrain-rmse:3075.36175\ttest-rmse:3072.13196\n",
            "[4]\ttrain-rmse:2885.22407\ttest-rmse:2882.41024\n",
            "[5]\ttrain-rmse:2700.20276\ttest-rmse:2697.89538\n",
            "[6]\ttrain-rmse:2546.36484\ttest-rmse:2543.91019\n",
            "[7]\ttrain-rmse:2384.58762\ttest-rmse:2382.89670\n",
            "[8]\ttrain-rmse:2234.30032\ttest-rmse:2233.26862\n",
            "[9]\ttrain-rmse:2094.57074\ttest-rmse:2093.86309\n",
            "[10]\ttrain-rmse:1974.92406\ttest-rmse:1975.04059\n",
            "[11]\ttrain-rmse:1852.66844\ttest-rmse:1854.40146\n",
            "[12]\ttrain-rmse:1739.56780\ttest-rmse:1742.63415\n",
            "[13]\ttrain-rmse:1634.89070\ttest-rmse:1639.23659\n",
            "[14]\ttrain-rmse:1550.35754\ttest-rmse:1556.49487\n",
            "[15]\ttrain-rmse:1458.81826\ttest-rmse:1466.63244\n",
            "[16]\ttrain-rmse:1374.07394\ttest-rmse:1382.98343\n",
            "[17]\ttrain-rmse:1295.63101\ttest-rmse:1306.71889\n",
            "[18]\ttrain-rmse:1222.94397\ttest-rmse:1235.38895\n",
            "[19]\ttrain-rmse:1155.86146\ttest-rmse:1170.55865\n",
            "[20]\ttrain-rmse:1099.33440\ttest-rmse:1115.81298\n",
            "[21]\ttrain-rmse:1045.63666\ttest-rmse:1064.84683\n",
            "[22]\ttrain-rmse:995.84630\ttest-rmse:1017.49963\n",
            "[23]\ttrain-rmse:946.01948\ttest-rmse:969.73285\n",
            "[24]\ttrain-rmse:900.28250\ttest-rmse:926.00702\n",
            "[25]\ttrain-rmse:857.62131\ttest-rmse:886.27010\n",
            "[26]\ttrain-rmse:819.02225\ttest-rmse:849.72724\n",
            "[27]\ttrain-rmse:787.51319\ttest-rmse:820.89165\n",
            "[28]\ttrain-rmse:757.72315\ttest-rmse:794.24729\n",
            "[29]\ttrain-rmse:727.47524\ttest-rmse:766.97740\n",
            "[30]\ttrain-rmse:702.60660\ttest-rmse:744.96054\n",
            "[31]\ttrain-rmse:676.46636\ttest-rmse:721.85875\n",
            "[32]\ttrain-rmse:653.18197\ttest-rmse:701.72994\n",
            "[33]\ttrain-rmse:631.64299\ttest-rmse:682.92077\n",
            "[34]\ttrain-rmse:612.04693\ttest-rmse:665.72422\n",
            "[35]\ttrain-rmse:594.54051\ttest-rmse:651.15845\n",
            "[36]\ttrain-rmse:578.26436\ttest-rmse:637.85964\n",
            "[37]\ttrain-rmse:565.34421\ttest-rmse:628.44768\n",
            "[38]\ttrain-rmse:553.31140\ttest-rmse:619.41348\n",
            "[39]\ttrain-rmse:542.02046\ttest-rmse:611.08593\n",
            "[40]\ttrain-rmse:530.21930\ttest-rmse:602.16135\n",
            "[41]\ttrain-rmse:519.70279\ttest-rmse:594.30054\n",
            "[42]\ttrain-rmse:511.43523\ttest-rmse:588.82694\n",
            "[43]\ttrain-rmse:502.30865\ttest-rmse:582.56566\n",
            "[44]\ttrain-rmse:493.59832\ttest-rmse:576.55843\n",
            "[45]\ttrain-rmse:486.97193\ttest-rmse:572.46204\n",
            "[46]\ttrain-rmse:480.25249\ttest-rmse:567.54840\n",
            "[47]\ttrain-rmse:473.68232\ttest-rmse:563.86352\n",
            "[48]\ttrain-rmse:468.59060\ttest-rmse:561.75102\n",
            "[49]\ttrain-rmse:462.87259\ttest-rmse:558.48134\n",
            "[50]\ttrain-rmse:458.30887\ttest-rmse:556.45303\n",
            "[51]\ttrain-rmse:453.40298\ttest-rmse:553.53946\n",
            "[52]\ttrain-rmse:449.43174\ttest-rmse:550.97387\n",
            "[53]\ttrain-rmse:445.19702\ttest-rmse:548.65855\n",
            "[54]\ttrain-rmse:441.73107\ttest-rmse:547.46279\n",
            "[55]\ttrain-rmse:438.46579\ttest-rmse:545.96794\n",
            "[56]\ttrain-rmse:435.01601\ttest-rmse:544.83125\n",
            "[57]\ttrain-rmse:432.03524\ttest-rmse:543.17856\n",
            "[58]\ttrain-rmse:429.11417\ttest-rmse:542.23110\n",
            "[59]\ttrain-rmse:426.03134\ttest-rmse:540.68210\n",
            "[60]\ttrain-rmse:423.39185\ttest-rmse:539.96550\n",
            "[61]\ttrain-rmse:420.14480\ttest-rmse:538.67641\n",
            "[62]\ttrain-rmse:417.63572\ttest-rmse:537.81590\n",
            "[63]\ttrain-rmse:415.22453\ttest-rmse:537.33106\n",
            "[64]\ttrain-rmse:413.29030\ttest-rmse:536.48630\n",
            "[65]\ttrain-rmse:411.10138\ttest-rmse:536.07469\n",
            "[66]\ttrain-rmse:409.11102\ttest-rmse:535.60664\n",
            "[67]\ttrain-rmse:406.68522\ttest-rmse:534.97008\n",
            "[68]\ttrain-rmse:404.53645\ttest-rmse:534.30076\n",
            "[69]\ttrain-rmse:402.92199\ttest-rmse:533.57118\n",
            "[70]\ttrain-rmse:401.59649\ttest-rmse:533.22277\n",
            "[71]\ttrain-rmse:400.00932\ttest-rmse:532.78248\n",
            "[72]\ttrain-rmse:398.19659\ttest-rmse:532.68986\n",
            "[73]\ttrain-rmse:396.74638\ttest-rmse:532.23513\n",
            "[74]\ttrain-rmse:394.57081\ttest-rmse:532.37451\n",
            "[75]\ttrain-rmse:392.54865\ttest-rmse:532.39157\n",
            "[76]\ttrain-rmse:391.10749\ttest-rmse:532.27941\n",
            "[77]\ttrain-rmse:390.02651\ttest-rmse:532.19796\n",
            "[78]\ttrain-rmse:388.86249\ttest-rmse:531.99367\n",
            "[79]\ttrain-rmse:387.48980\ttest-rmse:532.02235\n",
            "[80]\ttrain-rmse:385.74815\ttest-rmse:531.92400\n",
            "[81]\ttrain-rmse:384.63335\ttest-rmse:531.99777\n",
            "[82]\ttrain-rmse:383.95381\ttest-rmse:531.92053\n",
            "[83]\ttrain-rmse:382.03003\ttest-rmse:532.35748\n",
            "[84]\ttrain-rmse:380.39361\ttest-rmse:532.31805\n",
            "[85]\ttrain-rmse:379.03910\ttest-rmse:532.00490\n",
            "[86]\ttrain-rmse:377.94369\ttest-rmse:531.63115\n",
            "[87]\ttrain-rmse:376.50794\ttest-rmse:531.32097\n",
            "[88]\ttrain-rmse:375.05123\ttest-rmse:531.39583\n",
            "[89]\ttrain-rmse:373.56891\ttest-rmse:531.47306\n",
            "[90]\ttrain-rmse:372.73845\ttest-rmse:531.66679\n",
            "[91]\ttrain-rmse:371.52927\ttest-rmse:531.79478\n",
            "[92]\ttrain-rmse:370.43019\ttest-rmse:531.90668\n",
            "[93]\ttrain-rmse:368.74865\ttest-rmse:531.87741\n",
            "[94]\ttrain-rmse:367.37187\ttest-rmse:531.93878\n",
            "[95]\ttrain-rmse:365.46274\ttest-rmse:531.33497\n",
            "[96]\ttrain-rmse:363.89938\ttest-rmse:531.35183\n",
            "[97]\ttrain-rmse:363.03691\ttest-rmse:531.25063\n",
            "[98]\ttrain-rmse:361.14172\ttest-rmse:531.62943\n",
            "[99]\ttrain-rmse:359.80605\ttest-rmse:531.71114\n"
          ]
        },
        {
          "output_type": "display_data",
          "data": {
            "text/plain": [
              "VBox(children=(Label(value='0.002 MB of 0.012 MB uploaded\\r'), FloatProgress(value=0.18735518040383978, max=1.…"
            ],
            "application/vnd.jupyter.widget-view+json": {
              "version_major": 2,
              "version_minor": 0,
              "model_id": "331271b5f91e4706bb13a342e2480b03"
            }
          },
          "metadata": {}
        },
        {
          "output_type": "display_data",
          "data": {
            "text/plain": [
              "<IPython.core.display.HTML object>"
            ],
            "text/html": [
              "<style>\n",
              "    table.wandb td:nth-child(1) { padding: 0 10px; text-align: left ; width: auto;} td:nth-child(2) {text-align: left ; width: 100%}\n",
              "    .wandb-row { display: flex; flex-direction: row; flex-wrap: wrap; justify-content: flex-start; width: 100% }\n",
              "    .wandb-col { display: flex; flex-direction: column; flex-basis: 100%; flex: 1; padding: 10px; }\n",
              "    </style>\n",
              "<div class=\"wandb-row\"><div class=\"wandb-col\"><h3>Run history:</h3><br/><table class=\"wandb\"><tr><td>rmse</td><td>▁</td></tr></table><br/></div><div class=\"wandb-col\"><h3>Run summary:</h3><br/><table class=\"wandb\"><tr><td>rmse</td><td>531.71114</td></tr></table><br/></div></div>"
            ]
          },
          "metadata": {}
        },
        {
          "output_type": "display_data",
          "data": {
            "text/plain": [
              "<IPython.core.display.HTML object>"
            ],
            "text/html": [
              " View run <strong style=\"color:#cdcd00\">misty-sweep-43</strong> at: <a href='https://wandb.ai/devambani/xgboost_diamonds_sweep_experiments/runs/8tkbgeto' target=\"_blank\">https://wandb.ai/devambani/xgboost_diamonds_sweep_experiments/runs/8tkbgeto</a><br/> View project at: <a href='https://wandb.ai/devambani/xgboost_diamonds_sweep_experiments' target=\"_blank\">https://wandb.ai/devambani/xgboost_diamonds_sweep_experiments</a><br/>Synced 5 W&B file(s), 0 media file(s), 0 artifact file(s) and 0 other file(s)"
            ]
          },
          "metadata": {}
        },
        {
          "output_type": "display_data",
          "data": {
            "text/plain": [
              "<IPython.core.display.HTML object>"
            ],
            "text/html": [
              "Find logs at: <code>./wandb/run-20240423_025655-8tkbgeto/logs</code>"
            ]
          },
          "metadata": {}
        },
        {
          "output_type": "stream",
          "name": "stderr",
          "text": [
            "\u001b[34m\u001b[1mwandb\u001b[0m: Agent Starting Run: q9q9svye with config:\n",
            "\u001b[34m\u001b[1mwandb\u001b[0m: \tcolsample_bytree: 0.87326927644894\n",
            "\u001b[34m\u001b[1mwandb\u001b[0m: \tlearning_rate: 0.056230102695253074\n",
            "\u001b[34m\u001b[1mwandb\u001b[0m: \tmax_depth: 7\n",
            "\u001b[34m\u001b[1mwandb\u001b[0m: \tn_estimators: 100\n",
            "\u001b[34m\u001b[1mwandb\u001b[0m: \tsubsample: 0.7231991893807205\n"
          ]
        },
        {
          "output_type": "display_data",
          "data": {
            "text/plain": [
              "<IPython.core.display.HTML object>"
            ],
            "text/html": [
              "Tracking run with wandb version 0.16.6"
            ]
          },
          "metadata": {}
        },
        {
          "output_type": "display_data",
          "data": {
            "text/plain": [
              "<IPython.core.display.HTML object>"
            ],
            "text/html": [
              "Run data is saved locally in <code>/content/wandb/run-20240423_025706-q9q9svye</code>"
            ]
          },
          "metadata": {}
        },
        {
          "output_type": "display_data",
          "data": {
            "text/plain": [
              "<IPython.core.display.HTML object>"
            ],
            "text/html": [
              "Syncing run <strong><a href='https://wandb.ai/devambani/xgboost_diamonds_sweep_experiments/runs/q9q9svye' target=\"_blank\">lyric-sweep-44</a></strong> to <a href='https://wandb.ai/devambani/xgboost_diamonds_sweep_experiments' target=\"_blank\">Weights & Biases</a> (<a href='https://wandb.me/run' target=\"_blank\">docs</a>)<br/>Sweep page: <a href='https://wandb.ai/devambani/xgboost_diamonds_sweep_experiments/sweeps/y3o2ro2k' target=\"_blank\">https://wandb.ai/devambani/xgboost_diamonds_sweep_experiments/sweeps/y3o2ro2k</a>"
            ]
          },
          "metadata": {}
        },
        {
          "output_type": "display_data",
          "data": {
            "text/plain": [
              "<IPython.core.display.HTML object>"
            ],
            "text/html": [
              " View project at <a href='https://wandb.ai/devambani/xgboost_diamonds_sweep_experiments' target=\"_blank\">https://wandb.ai/devambani/xgboost_diamonds_sweep_experiments</a>"
            ]
          },
          "metadata": {}
        },
        {
          "output_type": "display_data",
          "data": {
            "text/plain": [
              "<IPython.core.display.HTML object>"
            ],
            "text/html": [
              " View sweep at <a href='https://wandb.ai/devambani/xgboost_diamonds_sweep_experiments/sweeps/y3o2ro2k' target=\"_blank\">https://wandb.ai/devambani/xgboost_diamonds_sweep_experiments/sweeps/y3o2ro2k</a>"
            ]
          },
          "metadata": {}
        },
        {
          "output_type": "display_data",
          "data": {
            "text/plain": [
              "<IPython.core.display.HTML object>"
            ],
            "text/html": [
              " View run at <a href='https://wandb.ai/devambani/xgboost_diamonds_sweep_experiments/runs/q9q9svye' target=\"_blank\">https://wandb.ai/devambani/xgboost_diamonds_sweep_experiments/runs/q9q9svye</a>"
            ]
          },
          "metadata": {}
        },
        {
          "output_type": "stream",
          "name": "stdout",
          "text": [
            "[0]\ttrain-rmse:3786.68785\ttest-rmse:3783.14583\n",
            "[1]\ttrain-rmse:3589.38201\ttest-rmse:3585.40951\n",
            "[2]\ttrain-rmse:3403.57109\ttest-rmse:3398.80344\n",
            "[3]\ttrain-rmse:3222.01568\ttest-rmse:3217.25149\n",
            "[4]\ttrain-rmse:3056.82928\ttest-rmse:3051.59921\n",
            "[5]\ttrain-rmse:2895.74957\ttest-rmse:2890.47795\n",
            "[6]\ttrain-rmse:2758.27586\ttest-rmse:2752.57244\n",
            "[7]\ttrain-rmse:2613.65632\ttest-rmse:2608.05669\n",
            "[8]\ttrain-rmse:2478.04940\ttest-rmse:2472.28289\n",
            "[9]\ttrain-rmse:2350.19490\ttest-rmse:2344.37754\n",
            "[10]\ttrain-rmse:2238.30286\ttest-rmse:2232.39792\n",
            "[11]\ttrain-rmse:2124.02319\ttest-rmse:2118.40969\n",
            "[12]\ttrain-rmse:2016.82056\ttest-rmse:2011.74593\n",
            "[13]\ttrain-rmse:1916.35223\ttest-rmse:1911.58106\n",
            "[14]\ttrain-rmse:1832.59954\ttest-rmse:1827.91960\n",
            "[15]\ttrain-rmse:1742.53178\ttest-rmse:1738.83673\n",
            "[16]\ttrain-rmse:1657.49097\ttest-rmse:1654.09773\n",
            "[17]\ttrain-rmse:1578.04461\ttest-rmse:1575.28751\n",
            "[18]\ttrain-rmse:1503.08307\ttest-rmse:1500.62040\n",
            "[19]\ttrain-rmse:1433.25887\ttest-rmse:1431.44012\n",
            "[20]\ttrain-rmse:1372.74672\ttest-rmse:1371.35064\n",
            "[21]\ttrain-rmse:1314.09203\ttest-rmse:1313.92793\n",
            "[22]\ttrain-rmse:1259.26532\ttest-rmse:1260.20875\n",
            "[23]\ttrain-rmse:1204.18423\ttest-rmse:1206.29491\n",
            "[24]\ttrain-rmse:1152.77349\ttest-rmse:1155.52637\n",
            "[25]\ttrain-rmse:1103.58763\ttest-rmse:1107.31212\n",
            "[26]\ttrain-rmse:1058.73555\ttest-rmse:1063.06975\n",
            "[27]\ttrain-rmse:1020.67047\ttest-rmse:1025.53534\n",
            "[28]\ttrain-rmse:984.08534\ttest-rmse:990.41031\n",
            "[29]\ttrain-rmse:947.41273\ttest-rmse:954.81101\n",
            "[30]\ttrain-rmse:916.31775\ttest-rmse:924.72312\n",
            "[31]\ttrain-rmse:883.74344\ttest-rmse:893.10673\n",
            "[32]\ttrain-rmse:853.73309\ttest-rmse:863.62294\n",
            "[33]\ttrain-rmse:825.41410\ttest-rmse:836.22089\n",
            "[34]\ttrain-rmse:799.48787\ttest-rmse:811.09277\n",
            "[35]\ttrain-rmse:775.43328\ttest-rmse:787.94258\n",
            "[36]\ttrain-rmse:753.28751\ttest-rmse:767.10880\n",
            "[37]\ttrain-rmse:735.10119\ttest-rmse:750.28912\n",
            "[38]\ttrain-rmse:718.22268\ttest-rmse:734.50258\n",
            "[39]\ttrain-rmse:701.94236\ttest-rmse:719.34979\n",
            "[40]\ttrain-rmse:685.02965\ttest-rmse:703.10045\n",
            "[41]\ttrain-rmse:669.62277\ttest-rmse:688.45459\n",
            "[42]\ttrain-rmse:657.21116\ttest-rmse:677.40153\n",
            "[43]\ttrain-rmse:644.03702\ttest-rmse:665.47368\n",
            "[44]\ttrain-rmse:631.20285\ttest-rmse:653.34357\n",
            "[45]\ttrain-rmse:621.23474\ttest-rmse:644.50109\n",
            "[46]\ttrain-rmse:610.50823\ttest-rmse:634.94563\n",
            "[47]\ttrain-rmse:600.71088\ttest-rmse:625.97834\n",
            "[48]\ttrain-rmse:593.52717\ttest-rmse:620.17209\n",
            "[49]\ttrain-rmse:585.06121\ttest-rmse:612.56138\n",
            "[50]\ttrain-rmse:578.30127\ttest-rmse:607.02560\n",
            "[51]\ttrain-rmse:570.64349\ttest-rmse:600.32066\n",
            "[52]\ttrain-rmse:563.60639\ttest-rmse:594.23068\n",
            "[53]\ttrain-rmse:557.03055\ttest-rmse:588.37317\n",
            "[54]\ttrain-rmse:552.04580\ttest-rmse:584.44505\n",
            "[55]\ttrain-rmse:547.53174\ttest-rmse:581.01592\n",
            "[56]\ttrain-rmse:542.03598\ttest-rmse:576.41007\n",
            "[57]\ttrain-rmse:536.82842\ttest-rmse:572.05095\n",
            "[58]\ttrain-rmse:532.27701\ttest-rmse:568.48951\n",
            "[59]\ttrain-rmse:528.16905\ttest-rmse:565.21943\n",
            "[60]\ttrain-rmse:525.02626\ttest-rmse:562.84885\n",
            "[61]\ttrain-rmse:521.40321\ttest-rmse:559.88409\n",
            "[62]\ttrain-rmse:517.90136\ttest-rmse:557.40455\n",
            "[63]\ttrain-rmse:515.30467\ttest-rmse:555.49151\n",
            "[64]\ttrain-rmse:512.73927\ttest-rmse:553.77627\n",
            "[65]\ttrain-rmse:509.98791\ttest-rmse:552.02993\n",
            "[66]\ttrain-rmse:507.58721\ttest-rmse:550.57069\n",
            "[67]\ttrain-rmse:504.65432\ttest-rmse:548.84686\n",
            "[68]\ttrain-rmse:502.54683\ttest-rmse:547.35711\n",
            "[69]\ttrain-rmse:500.70739\ttest-rmse:546.28256\n",
            "[70]\ttrain-rmse:498.88444\ttest-rmse:545.37205\n",
            "[71]\ttrain-rmse:496.97530\ttest-rmse:544.01271\n",
            "[72]\ttrain-rmse:494.91836\ttest-rmse:542.60346\n",
            "[73]\ttrain-rmse:493.11003\ttest-rmse:541.41211\n",
            "[74]\ttrain-rmse:491.57022\ttest-rmse:540.56474\n",
            "[75]\ttrain-rmse:489.85185\ttest-rmse:539.64716\n",
            "[76]\ttrain-rmse:488.00292\ttest-rmse:538.61460\n",
            "[77]\ttrain-rmse:486.72864\ttest-rmse:537.75483\n",
            "[78]\ttrain-rmse:485.19947\ttest-rmse:536.88831\n",
            "[79]\ttrain-rmse:484.14446\ttest-rmse:536.49973\n",
            "[80]\ttrain-rmse:482.77850\ttest-rmse:535.99850\n",
            "[81]\ttrain-rmse:481.40967\ttest-rmse:535.35511\n",
            "[82]\ttrain-rmse:480.66847\ttest-rmse:534.95283\n",
            "[83]\ttrain-rmse:479.64261\ttest-rmse:534.55279\n",
            "[84]\ttrain-rmse:478.25350\ttest-rmse:534.19591\n",
            "[85]\ttrain-rmse:477.29851\ttest-rmse:533.87038\n",
            "[86]\ttrain-rmse:476.18512\ttest-rmse:533.42058\n",
            "[87]\ttrain-rmse:475.00553\ttest-rmse:533.09489\n",
            "[88]\ttrain-rmse:474.36071\ttest-rmse:533.05988\n",
            "[89]\ttrain-rmse:473.54291\ttest-rmse:532.80123\n",
            "[90]\ttrain-rmse:472.73094\ttest-rmse:532.79696\n",
            "[91]\ttrain-rmse:472.04510\ttest-rmse:532.54241\n",
            "[92]\ttrain-rmse:470.89636\ttest-rmse:532.54747\n",
            "[93]\ttrain-rmse:469.45349\ttest-rmse:532.38859\n",
            "[94]\ttrain-rmse:468.61082\ttest-rmse:531.76080\n",
            "[95]\ttrain-rmse:467.81613\ttest-rmse:531.55358\n",
            "[96]\ttrain-rmse:466.88681\ttest-rmse:531.31823\n",
            "[97]\ttrain-rmse:466.33152\ttest-rmse:531.15627\n",
            "[98]\ttrain-rmse:465.72755\ttest-rmse:531.06717\n",
            "[99]\ttrain-rmse:465.07467\ttest-rmse:531.06758\n"
          ]
        },
        {
          "output_type": "display_data",
          "data": {
            "text/plain": [
              "VBox(children=(Label(value='0.002 MB of 0.002 MB uploaded\\r'), FloatProgress(value=1.0, max=1.0)))"
            ],
            "application/vnd.jupyter.widget-view+json": {
              "version_major": 2,
              "version_minor": 0,
              "model_id": "fee022e68ffc46f5b8837dca4b10f86c"
            }
          },
          "metadata": {}
        },
        {
          "output_type": "display_data",
          "data": {
            "text/plain": [
              "<IPython.core.display.HTML object>"
            ],
            "text/html": [
              "<style>\n",
              "    table.wandb td:nth-child(1) { padding: 0 10px; text-align: left ; width: auto;} td:nth-child(2) {text-align: left ; width: 100%}\n",
              "    .wandb-row { display: flex; flex-direction: row; flex-wrap: wrap; justify-content: flex-start; width: 100% }\n",
              "    .wandb-col { display: flex; flex-direction: column; flex-basis: 100%; flex: 1; padding: 10px; }\n",
              "    </style>\n",
              "<div class=\"wandb-row\"><div class=\"wandb-col\"><h3>Run history:</h3><br/><table class=\"wandb\"><tr><td>rmse</td><td>▁</td></tr></table><br/></div><div class=\"wandb-col\"><h3>Run summary:</h3><br/><table class=\"wandb\"><tr><td>rmse</td><td>531.06758</td></tr></table><br/></div></div>"
            ]
          },
          "metadata": {}
        },
        {
          "output_type": "display_data",
          "data": {
            "text/plain": [
              "<IPython.core.display.HTML object>"
            ],
            "text/html": [
              " View run <strong style=\"color:#cdcd00\">lyric-sweep-44</strong> at: <a href='https://wandb.ai/devambani/xgboost_diamonds_sweep_experiments/runs/q9q9svye' target=\"_blank\">https://wandb.ai/devambani/xgboost_diamonds_sweep_experiments/runs/q9q9svye</a><br/> View project at: <a href='https://wandb.ai/devambani/xgboost_diamonds_sweep_experiments' target=\"_blank\">https://wandb.ai/devambani/xgboost_diamonds_sweep_experiments</a><br/>Synced 5 W&B file(s), 0 media file(s), 0 artifact file(s) and 0 other file(s)"
            ]
          },
          "metadata": {}
        },
        {
          "output_type": "display_data",
          "data": {
            "text/plain": [
              "<IPython.core.display.HTML object>"
            ],
            "text/html": [
              "Find logs at: <code>./wandb/run-20240423_025706-q9q9svye/logs</code>"
            ]
          },
          "metadata": {}
        },
        {
          "output_type": "stream",
          "name": "stderr",
          "text": [
            "\u001b[34m\u001b[1mwandb\u001b[0m: Agent Starting Run: wfa550w7 with config:\n",
            "\u001b[34m\u001b[1mwandb\u001b[0m: \tcolsample_bytree: 0.8888074102390375\n",
            "\u001b[34m\u001b[1mwandb\u001b[0m: \tlearning_rate: 0.156692177535765\n",
            "\u001b[34m\u001b[1mwandb\u001b[0m: \tmax_depth: 9\n",
            "\u001b[34m\u001b[1mwandb\u001b[0m: \tn_estimators: 100\n",
            "\u001b[34m\u001b[1mwandb\u001b[0m: \tsubsample: 0.816315272711912\n"
          ]
        },
        {
          "output_type": "display_data",
          "data": {
            "text/plain": [
              "<IPython.core.display.HTML object>"
            ],
            "text/html": [
              "Tracking run with wandb version 0.16.6"
            ]
          },
          "metadata": {}
        },
        {
          "output_type": "display_data",
          "data": {
            "text/plain": [
              "<IPython.core.display.HTML object>"
            ],
            "text/html": [
              "Run data is saved locally in <code>/content/wandb/run-20240423_025721-wfa550w7</code>"
            ]
          },
          "metadata": {}
        },
        {
          "output_type": "display_data",
          "data": {
            "text/plain": [
              "<IPython.core.display.HTML object>"
            ],
            "text/html": [
              "Syncing run <strong><a href='https://wandb.ai/devambani/xgboost_diamonds_sweep_experiments/runs/wfa550w7' target=\"_blank\">genial-sweep-45</a></strong> to <a href='https://wandb.ai/devambani/xgboost_diamonds_sweep_experiments' target=\"_blank\">Weights & Biases</a> (<a href='https://wandb.me/run' target=\"_blank\">docs</a>)<br/>Sweep page: <a href='https://wandb.ai/devambani/xgboost_diamonds_sweep_experiments/sweeps/y3o2ro2k' target=\"_blank\">https://wandb.ai/devambani/xgboost_diamonds_sweep_experiments/sweeps/y3o2ro2k</a>"
            ]
          },
          "metadata": {}
        },
        {
          "output_type": "display_data",
          "data": {
            "text/plain": [
              "<IPython.core.display.HTML object>"
            ],
            "text/html": [
              " View project at <a href='https://wandb.ai/devambani/xgboost_diamonds_sweep_experiments' target=\"_blank\">https://wandb.ai/devambani/xgboost_diamonds_sweep_experiments</a>"
            ]
          },
          "metadata": {}
        },
        {
          "output_type": "display_data",
          "data": {
            "text/plain": [
              "<IPython.core.display.HTML object>"
            ],
            "text/html": [
              " View sweep at <a href='https://wandb.ai/devambani/xgboost_diamonds_sweep_experiments/sweeps/y3o2ro2k' target=\"_blank\">https://wandb.ai/devambani/xgboost_diamonds_sweep_experiments/sweeps/y3o2ro2k</a>"
            ]
          },
          "metadata": {}
        },
        {
          "output_type": "display_data",
          "data": {
            "text/plain": [
              "<IPython.core.display.HTML object>"
            ],
            "text/html": [
              " View run at <a href='https://wandb.ai/devambani/xgboost_diamonds_sweep_experiments/runs/wfa550w7' target=\"_blank\">https://wandb.ai/devambani/xgboost_diamonds_sweep_experiments/runs/wfa550w7</a>"
            ]
          },
          "metadata": {}
        },
        {
          "output_type": "stream",
          "name": "stdout",
          "text": [
            "[0]\ttrain-rmse:3423.87641\ttest-rmse:3420.94591\n",
            "[1]\ttrain-rmse:2930.45349\ttest-rmse:2927.82860\n",
            "[2]\ttrain-rmse:2518.55459\ttest-rmse:2518.06244\n",
            "[3]\ttrain-rmse:2149.70140\ttest-rmse:2151.64726\n",
            "[4]\ttrain-rmse:1862.33775\ttest-rmse:1866.67896\n",
            "[5]\ttrain-rmse:1601.08855\ttest-rmse:1609.15458\n",
            "[6]\ttrain-rmse:1418.74330\ttest-rmse:1430.96505\n",
            "[7]\ttrain-rmse:1230.84817\ttest-rmse:1246.26610\n",
            "[8]\ttrain-rmse:1075.31547\ttest-rmse:1096.83134\n",
            "[9]\ttrain-rmse:947.95014\ttest-rmse:974.28463\n",
            "[10]\ttrain-rmse:856.15971\ttest-rmse:888.31656\n",
            "[11]\ttrain-rmse:767.66172\ttest-rmse:805.51648\n",
            "[12]\ttrain-rmse:697.79284\ttest-rmse:741.58578\n",
            "[13]\ttrain-rmse:642.41274\ttest-rmse:693.16303\n",
            "[14]\ttrain-rmse:606.74709\ttest-rmse:665.55988\n",
            "[15]\ttrain-rmse:567.50202\ttest-rmse:632.43192\n",
            "[16]\ttrain-rmse:536.52620\ttest-rmse:608.02678\n",
            "[17]\ttrain-rmse:510.87515\ttest-rmse:589.03459\n",
            "[18]\ttrain-rmse:491.39159\ttest-rmse:574.61090\n",
            "[19]\ttrain-rmse:475.47650\ttest-rmse:562.94690\n",
            "[20]\ttrain-rmse:464.34719\ttest-rmse:557.45069\n",
            "[21]\ttrain-rmse:456.40554\ttest-rmse:553.46913\n",
            "[22]\ttrain-rmse:449.25159\ttest-rmse:549.90364\n",
            "[23]\ttrain-rmse:441.03764\ttest-rmse:545.39540\n",
            "[24]\ttrain-rmse:433.89517\ttest-rmse:541.71057\n",
            "[25]\ttrain-rmse:426.23272\ttest-rmse:540.60900\n",
            "[26]\ttrain-rmse:421.12260\ttest-rmse:539.70608\n",
            "[27]\ttrain-rmse:415.63566\ttest-rmse:538.72852\n",
            "[28]\ttrain-rmse:412.93964\ttest-rmse:537.55792\n",
            "[29]\ttrain-rmse:408.66501\ttest-rmse:535.78146\n",
            "[30]\ttrain-rmse:404.34491\ttest-rmse:535.25911\n",
            "[31]\ttrain-rmse:400.61851\ttest-rmse:535.72600\n",
            "[32]\ttrain-rmse:396.64056\ttest-rmse:535.36671\n",
            "[33]\ttrain-rmse:393.86400\ttest-rmse:535.04440\n",
            "[34]\ttrain-rmse:390.41552\ttest-rmse:535.27266\n",
            "[35]\ttrain-rmse:387.29931\ttest-rmse:535.83826\n",
            "[36]\ttrain-rmse:383.66792\ttest-rmse:536.73681\n",
            "[37]\ttrain-rmse:380.80109\ttest-rmse:536.45928\n",
            "[38]\ttrain-rmse:377.32386\ttest-rmse:536.28731\n",
            "[39]\ttrain-rmse:374.58444\ttest-rmse:536.33042\n",
            "[40]\ttrain-rmse:371.29029\ttest-rmse:535.95692\n",
            "[41]\ttrain-rmse:366.92403\ttest-rmse:534.98581\n",
            "[42]\ttrain-rmse:363.50781\ttest-rmse:535.52366\n",
            "[43]\ttrain-rmse:360.54212\ttest-rmse:535.31105\n",
            "[44]\ttrain-rmse:358.46731\ttest-rmse:535.20489\n",
            "[45]\ttrain-rmse:355.63877\ttest-rmse:535.56437\n",
            "[46]\ttrain-rmse:353.61175\ttest-rmse:535.65343\n",
            "[47]\ttrain-rmse:351.56126\ttest-rmse:535.41409\n",
            "[48]\ttrain-rmse:348.66684\ttest-rmse:536.37331\n",
            "[49]\ttrain-rmse:346.53217\ttest-rmse:536.94423\n",
            "[50]\ttrain-rmse:344.50314\ttest-rmse:537.31700\n"
          ]
        },
        {
          "output_type": "display_data",
          "data": {
            "text/plain": [
              "VBox(children=(Label(value='0.002 MB of 0.002 MB uploaded\\r'), FloatProgress(value=1.0, max=1.0)))"
            ],
            "application/vnd.jupyter.widget-view+json": {
              "version_major": 2,
              "version_minor": 0,
              "model_id": "d4e89153834248578b668776d825e469"
            }
          },
          "metadata": {}
        },
        {
          "output_type": "display_data",
          "data": {
            "text/plain": [
              "<IPython.core.display.HTML object>"
            ],
            "text/html": [
              "<style>\n",
              "    table.wandb td:nth-child(1) { padding: 0 10px; text-align: left ; width: auto;} td:nth-child(2) {text-align: left ; width: 100%}\n",
              "    .wandb-row { display: flex; flex-direction: row; flex-wrap: wrap; justify-content: flex-start; width: 100% }\n",
              "    .wandb-col { display: flex; flex-direction: column; flex-basis: 100%; flex: 1; padding: 10px; }\n",
              "    </style>\n",
              "<div class=\"wandb-row\"><div class=\"wandb-col\"><h3>Run history:</h3><br/><table class=\"wandb\"><tr><td>rmse</td><td>▁</td></tr></table><br/></div><div class=\"wandb-col\"><h3>Run summary:</h3><br/><table class=\"wandb\"><tr><td>rmse</td><td>536.76099</td></tr></table><br/></div></div>"
            ]
          },
          "metadata": {}
        },
        {
          "output_type": "display_data",
          "data": {
            "text/plain": [
              "<IPython.core.display.HTML object>"
            ],
            "text/html": [
              " View run <strong style=\"color:#cdcd00\">genial-sweep-45</strong> at: <a href='https://wandb.ai/devambani/xgboost_diamonds_sweep_experiments/runs/wfa550w7' target=\"_blank\">https://wandb.ai/devambani/xgboost_diamonds_sweep_experiments/runs/wfa550w7</a><br/> View project at: <a href='https://wandb.ai/devambani/xgboost_diamonds_sweep_experiments' target=\"_blank\">https://wandb.ai/devambani/xgboost_diamonds_sweep_experiments</a><br/>Synced 5 W&B file(s), 0 media file(s), 0 artifact file(s) and 0 other file(s)"
            ]
          },
          "metadata": {}
        },
        {
          "output_type": "display_data",
          "data": {
            "text/plain": [
              "<IPython.core.display.HTML object>"
            ],
            "text/html": [
              "Find logs at: <code>./wandb/run-20240423_025721-wfa550w7/logs</code>"
            ]
          },
          "metadata": {}
        },
        {
          "output_type": "stream",
          "name": "stderr",
          "text": [
            "\u001b[34m\u001b[1mwandb\u001b[0m: Sweep Agent: Waiting for job.\n",
            "\u001b[34m\u001b[1mwandb\u001b[0m: Job received.\n",
            "\u001b[34m\u001b[1mwandb\u001b[0m: Agent Starting Run: 6jhclqwq with config:\n",
            "\u001b[34m\u001b[1mwandb\u001b[0m: \tcolsample_bytree: 0.8002823341802576\n",
            "\u001b[34m\u001b[1mwandb\u001b[0m: \tlearning_rate: 0.1889187482402675\n",
            "\u001b[34m\u001b[1mwandb\u001b[0m: \tmax_depth: 9\n",
            "\u001b[34m\u001b[1mwandb\u001b[0m: \tn_estimators: 100\n",
            "\u001b[34m\u001b[1mwandb\u001b[0m: \tsubsample: 0.6324657021093064\n"
          ]
        },
        {
          "output_type": "display_data",
          "data": {
            "text/plain": [
              "VBox(children=(Label(value='Waiting for wandb.init()...\\r'), FloatProgress(value=0.011113003855555487, max=1.0…"
            ],
            "application/vnd.jupyter.widget-view+json": {
              "version_major": 2,
              "version_minor": 0,
              "model_id": "b179de45aacf4489a79eab9f0d8ad1a3"
            }
          },
          "metadata": {}
        },
        {
          "output_type": "display_data",
          "data": {
            "text/plain": [
              "<IPython.core.display.HTML object>"
            ],
            "text/html": [
              "Tracking run with wandb version 0.16.6"
            ]
          },
          "metadata": {}
        },
        {
          "output_type": "display_data",
          "data": {
            "text/plain": [
              "<IPython.core.display.HTML object>"
            ],
            "text/html": [
              "Run data is saved locally in <code>/content/wandb/run-20240423_025745-6jhclqwq</code>"
            ]
          },
          "metadata": {}
        },
        {
          "output_type": "display_data",
          "data": {
            "text/plain": [
              "<IPython.core.display.HTML object>"
            ],
            "text/html": [
              "Syncing run <strong><a href='https://wandb.ai/devambani/xgboost_diamonds_sweep_experiments/runs/6jhclqwq' target=\"_blank\">magic-sweep-46</a></strong> to <a href='https://wandb.ai/devambani/xgboost_diamonds_sweep_experiments' target=\"_blank\">Weights & Biases</a> (<a href='https://wandb.me/run' target=\"_blank\">docs</a>)<br/>Sweep page: <a href='https://wandb.ai/devambani/xgboost_diamonds_sweep_experiments/sweeps/y3o2ro2k' target=\"_blank\">https://wandb.ai/devambani/xgboost_diamonds_sweep_experiments/sweeps/y3o2ro2k</a>"
            ]
          },
          "metadata": {}
        },
        {
          "output_type": "display_data",
          "data": {
            "text/plain": [
              "<IPython.core.display.HTML object>"
            ],
            "text/html": [
              " View project at <a href='https://wandb.ai/devambani/xgboost_diamonds_sweep_experiments' target=\"_blank\">https://wandb.ai/devambani/xgboost_diamonds_sweep_experiments</a>"
            ]
          },
          "metadata": {}
        },
        {
          "output_type": "display_data",
          "data": {
            "text/plain": [
              "<IPython.core.display.HTML object>"
            ],
            "text/html": [
              " View sweep at <a href='https://wandb.ai/devambani/xgboost_diamonds_sweep_experiments/sweeps/y3o2ro2k' target=\"_blank\">https://wandb.ai/devambani/xgboost_diamonds_sweep_experiments/sweeps/y3o2ro2k</a>"
            ]
          },
          "metadata": {}
        },
        {
          "output_type": "display_data",
          "data": {
            "text/plain": [
              "<IPython.core.display.HTML object>"
            ],
            "text/html": [
              " View run at <a href='https://wandb.ai/devambani/xgboost_diamonds_sweep_experiments/runs/6jhclqwq' target=\"_blank\">https://wandb.ai/devambani/xgboost_diamonds_sweep_experiments/runs/6jhclqwq</a>"
            ]
          },
          "metadata": {}
        },
        {
          "output_type": "stream",
          "name": "stdout",
          "text": [
            "[0]\ttrain-rmse:3311.21504\ttest-rmse:3306.93598\n",
            "[1]\ttrain-rmse:2739.41764\ttest-rmse:2733.74017\n",
            "[2]\ttrain-rmse:2283.03000\ttest-rmse:2278.58227\n",
            "[3]\ttrain-rmse:1887.16652\ttest-rmse:1885.94043\n",
            "[4]\ttrain-rmse:1595.83088\ttest-rmse:1600.99085\n",
            "[5]\ttrain-rmse:1338.42511\ttest-rmse:1348.07571\n",
            "[6]\ttrain-rmse:1171.80155\ttest-rmse:1187.59703\n",
            "[7]\ttrain-rmse:999.91724\ttest-rmse:1021.48659\n",
            "[8]\ttrain-rmse:865.56575\ttest-rmse:894.09384\n",
            "[9]\ttrain-rmse:761.99133\ttest-rmse:798.92843\n",
            "[10]\ttrain-rmse:692.91026\ttest-rmse:739.87574\n",
            "[11]\ttrain-rmse:627.93062\ttest-rmse:683.27011\n",
            "[12]\ttrain-rmse:581.93220\ttest-rmse:643.29288\n",
            "[13]\ttrain-rmse:545.07309\ttest-rmse:614.57072\n",
            "[14]\ttrain-rmse:524.58300\ttest-rmse:601.97744\n",
            "[15]\ttrain-rmse:500.24025\ttest-rmse:585.39985\n",
            "[16]\ttrain-rmse:482.78272\ttest-rmse:574.26930\n",
            "[17]\ttrain-rmse:468.04651\ttest-rmse:566.45284\n",
            "[18]\ttrain-rmse:458.55712\ttest-rmse:560.39973\n",
            "[19]\ttrain-rmse:450.10747\ttest-rmse:557.03910\n",
            "[20]\ttrain-rmse:443.20057\ttest-rmse:554.75581\n",
            "[21]\ttrain-rmse:439.06509\ttest-rmse:554.46984\n",
            "[22]\ttrain-rmse:434.28145\ttest-rmse:553.41563\n",
            "[23]\ttrain-rmse:428.18501\ttest-rmse:551.72340\n",
            "[24]\ttrain-rmse:424.35296\ttest-rmse:550.21206\n",
            "[25]\ttrain-rmse:419.51814\ttest-rmse:550.34808\n",
            "[26]\ttrain-rmse:415.13848\ttest-rmse:550.27562\n",
            "[27]\ttrain-rmse:409.85354\ttest-rmse:549.89513\n",
            "[28]\ttrain-rmse:407.21141\ttest-rmse:549.65153\n",
            "[29]\ttrain-rmse:402.13910\ttest-rmse:550.04607\n",
            "[30]\ttrain-rmse:398.15039\ttest-rmse:549.49125\n",
            "[31]\ttrain-rmse:395.90390\ttest-rmse:549.76898\n",
            "[32]\ttrain-rmse:392.64878\ttest-rmse:549.80714\n",
            "[33]\ttrain-rmse:390.25564\ttest-rmse:549.14949\n",
            "[34]\ttrain-rmse:385.27621\ttest-rmse:549.28223\n",
            "[35]\ttrain-rmse:382.79262\ttest-rmse:548.42216\n",
            "[36]\ttrain-rmse:378.55778\ttest-rmse:549.05256\n",
            "[37]\ttrain-rmse:375.99361\ttest-rmse:548.44371\n",
            "[38]\ttrain-rmse:373.07339\ttest-rmse:548.07830\n",
            "[39]\ttrain-rmse:370.97663\ttest-rmse:548.37499\n",
            "[40]\ttrain-rmse:368.44658\ttest-rmse:548.64508\n",
            "[41]\ttrain-rmse:365.80819\ttest-rmse:547.88534\n",
            "[42]\ttrain-rmse:363.34365\ttest-rmse:548.17654\n",
            "[43]\ttrain-rmse:359.74805\ttest-rmse:548.68866\n",
            "[44]\ttrain-rmse:356.05271\ttest-rmse:549.17024\n",
            "[45]\ttrain-rmse:352.94882\ttest-rmse:549.79292\n",
            "[46]\ttrain-rmse:350.79556\ttest-rmse:548.88028\n",
            "[47]\ttrain-rmse:348.48320\ttest-rmse:549.08924\n",
            "[48]\ttrain-rmse:346.66563\ttest-rmse:549.16094\n",
            "[49]\ttrain-rmse:343.91932\ttest-rmse:549.55547\n",
            "[50]\ttrain-rmse:341.71649\ttest-rmse:549.44386\n"
          ]
        },
        {
          "output_type": "display_data",
          "data": {
            "text/plain": [
              "VBox(children=(Label(value='0.002 MB of 0.002 MB uploaded\\r'), FloatProgress(value=1.0, max=1.0)))"
            ],
            "application/vnd.jupyter.widget-view+json": {
              "version_major": 2,
              "version_minor": 0,
              "model_id": "ee2f7e27760c464db92f972c18c8bb85"
            }
          },
          "metadata": {}
        },
        {
          "output_type": "display_data",
          "data": {
            "text/plain": [
              "<IPython.core.display.HTML object>"
            ],
            "text/html": [
              "<style>\n",
              "    table.wandb td:nth-child(1) { padding: 0 10px; text-align: left ; width: auto;} td:nth-child(2) {text-align: left ; width: 100%}\n",
              "    .wandb-row { display: flex; flex-direction: row; flex-wrap: wrap; justify-content: flex-start; width: 100% }\n",
              "    .wandb-col { display: flex; flex-direction: column; flex-basis: 100%; flex: 1; padding: 10px; }\n",
              "    </style>\n",
              "<div class=\"wandb-row\"><div class=\"wandb-col\"><h3>Run history:</h3><br/><table class=\"wandb\"><tr><td>rmse</td><td>▁</td></tr></table><br/></div><div class=\"wandb-col\"><h3>Run summary:</h3><br/><table class=\"wandb\"><tr><td>rmse</td><td>549.39399</td></tr></table><br/></div></div>"
            ]
          },
          "metadata": {}
        },
        {
          "output_type": "display_data",
          "data": {
            "text/plain": [
              "<IPython.core.display.HTML object>"
            ],
            "text/html": [
              " View run <strong style=\"color:#cdcd00\">magic-sweep-46</strong> at: <a href='https://wandb.ai/devambani/xgboost_diamonds_sweep_experiments/runs/6jhclqwq' target=\"_blank\">https://wandb.ai/devambani/xgboost_diamonds_sweep_experiments/runs/6jhclqwq</a><br/> View project at: <a href='https://wandb.ai/devambani/xgboost_diamonds_sweep_experiments' target=\"_blank\">https://wandb.ai/devambani/xgboost_diamonds_sweep_experiments</a><br/>Synced 5 W&B file(s), 0 media file(s), 0 artifact file(s) and 0 other file(s)"
            ]
          },
          "metadata": {}
        },
        {
          "output_type": "display_data",
          "data": {
            "text/plain": [
              "<IPython.core.display.HTML object>"
            ],
            "text/html": [
              "Find logs at: <code>./wandb/run-20240423_025745-6jhclqwq/logs</code>"
            ]
          },
          "metadata": {}
        },
        {
          "output_type": "stream",
          "name": "stderr",
          "text": [
            "\u001b[34m\u001b[1mwandb\u001b[0m: Agent Starting Run: 8irqn0kn with config:\n",
            "\u001b[34m\u001b[1mwandb\u001b[0m: \tcolsample_bytree: 0.8279543027683408\n",
            "\u001b[34m\u001b[1mwandb\u001b[0m: \tlearning_rate: 0.03089446375288491\n",
            "\u001b[34m\u001b[1mwandb\u001b[0m: \tmax_depth: 3\n",
            "\u001b[34m\u001b[1mwandb\u001b[0m: \tn_estimators: 50\n",
            "\u001b[34m\u001b[1mwandb\u001b[0m: \tsubsample: 0.8897124116552463\n"
          ]
        },
        {
          "output_type": "display_data",
          "data": {
            "text/plain": [
              "<IPython.core.display.HTML object>"
            ],
            "text/html": [
              "Tracking run with wandb version 0.16.6"
            ]
          },
          "metadata": {}
        },
        {
          "output_type": "display_data",
          "data": {
            "text/plain": [
              "<IPython.core.display.HTML object>"
            ],
            "text/html": [
              "Run data is saved locally in <code>/content/wandb/run-20240423_025759-8irqn0kn</code>"
            ]
          },
          "metadata": {}
        },
        {
          "output_type": "display_data",
          "data": {
            "text/plain": [
              "<IPython.core.display.HTML object>"
            ],
            "text/html": [
              "Syncing run <strong><a href='https://wandb.ai/devambani/xgboost_diamonds_sweep_experiments/runs/8irqn0kn' target=\"_blank\">bright-sweep-47</a></strong> to <a href='https://wandb.ai/devambani/xgboost_diamonds_sweep_experiments' target=\"_blank\">Weights & Biases</a> (<a href='https://wandb.me/run' target=\"_blank\">docs</a>)<br/>Sweep page: <a href='https://wandb.ai/devambani/xgboost_diamonds_sweep_experiments/sweeps/y3o2ro2k' target=\"_blank\">https://wandb.ai/devambani/xgboost_diamonds_sweep_experiments/sweeps/y3o2ro2k</a>"
            ]
          },
          "metadata": {}
        },
        {
          "output_type": "display_data",
          "data": {
            "text/plain": [
              "<IPython.core.display.HTML object>"
            ],
            "text/html": [
              " View project at <a href='https://wandb.ai/devambani/xgboost_diamonds_sweep_experiments' target=\"_blank\">https://wandb.ai/devambani/xgboost_diamonds_sweep_experiments</a>"
            ]
          },
          "metadata": {}
        },
        {
          "output_type": "display_data",
          "data": {
            "text/plain": [
              "<IPython.core.display.HTML object>"
            ],
            "text/html": [
              " View sweep at <a href='https://wandb.ai/devambani/xgboost_diamonds_sweep_experiments/sweeps/y3o2ro2k' target=\"_blank\">https://wandb.ai/devambani/xgboost_diamonds_sweep_experiments/sweeps/y3o2ro2k</a>"
            ]
          },
          "metadata": {}
        },
        {
          "output_type": "display_data",
          "data": {
            "text/plain": [
              "<IPython.core.display.HTML object>"
            ],
            "text/html": [
              " View run at <a href='https://wandb.ai/devambani/xgboost_diamonds_sweep_experiments/runs/8irqn0kn' target=\"_blank\">https://wandb.ai/devambani/xgboost_diamonds_sweep_experiments/runs/8irqn0kn</a>"
            ]
          },
          "metadata": {}
        },
        {
          "output_type": "stream",
          "name": "stdout",
          "text": [
            "[0]\ttrain-rmse:3882.79553\ttest-rmse:3879.07460\n",
            "[1]\ttrain-rmse:3777.35007\ttest-rmse:3772.86438\n",
            "[2]\ttrain-rmse:3675.19636\ttest-rmse:3670.04144\n",
            "[3]\ttrain-rmse:3576.61253\ttest-rmse:3571.11739\n",
            "[4]\ttrain-rmse:3481.42675\ttest-rmse:3475.29953\n",
            "[5]\ttrain-rmse:3389.54385\ttest-rmse:3382.85920\n",
            "[6]\ttrain-rmse:3302.78430\ttest-rmse:3295.23376\n",
            "[7]\ttrain-rmse:3216.88183\ttest-rmse:3209.31309\n",
            "[8]\ttrain-rmse:3134.35519\ttest-rmse:3126.41176\n",
            "[9]\ttrain-rmse:3054.68981\ttest-rmse:3046.15838\n",
            "[10]\ttrain-rmse:2979.41884\ttest-rmse:2970.34769\n",
            "[11]\ttrain-rmse:2904.66849\ttest-rmse:2894.70521\n",
            "[12]\ttrain-rmse:2831.62275\ttest-rmse:2820.70735\n",
            "[13]\ttrain-rmse:2762.29825\ttest-rmse:2751.29161\n",
            "[14]\ttrain-rmse:2697.23539\ttest-rmse:2685.63965\n",
            "[15]\ttrain-rmse:2632.48678\ttest-rmse:2620.42541\n",
            "[16]\ttrain-rmse:2569.23130\ttest-rmse:2557.15569\n",
            "[17]\ttrain-rmse:2507.83015\ttest-rmse:2495.20037\n",
            "[18]\ttrain-rmse:2449.13109\ttest-rmse:2436.70713\n",
            "[19]\ttrain-rmse:2393.63314\ttest-rmse:2380.88427\n",
            "[20]\ttrain-rmse:2340.61356\ttest-rmse:2327.86746\n",
            "[21]\ttrain-rmse:2288.58734\ttest-rmse:2275.82533\n",
            "[22]\ttrain-rmse:2237.11608\ttest-rmse:2224.50875\n",
            "[23]\ttrain-rmse:2187.29928\ttest-rmse:2174.16907\n",
            "[24]\ttrain-rmse:2141.46483\ttest-rmse:2128.26286\n",
            "[25]\ttrain-rmse:2094.95005\ttest-rmse:2081.82193\n",
            "[26]\ttrain-rmse:2050.22112\ttest-rmse:2037.06102\n",
            "[27]\ttrain-rmse:2009.23002\ttest-rmse:1995.92892\n",
            "[28]\ttrain-rmse:1967.09995\ttest-rmse:1953.83361\n",
            "[29]\ttrain-rmse:1928.65140\ttest-rmse:1915.44553\n",
            "[30]\ttrain-rmse:1890.48729\ttest-rmse:1877.07525\n",
            "[31]\ttrain-rmse:1854.53506\ttest-rmse:1841.23109\n",
            "[32]\ttrain-rmse:1819.91011\ttest-rmse:1806.67306\n",
            "[33]\ttrain-rmse:1786.11165\ttest-rmse:1772.95567\n",
            "[34]\ttrain-rmse:1753.70913\ttest-rmse:1740.13467\n",
            "[35]\ttrain-rmse:1722.55654\ttest-rmse:1709.00507\n",
            "[36]\ttrain-rmse:1692.38538\ttest-rmse:1678.97190\n",
            "[37]\ttrain-rmse:1664.38858\ttest-rmse:1651.24811\n",
            "[38]\ttrain-rmse:1635.93435\ttest-rmse:1622.88119\n",
            "[39]\ttrain-rmse:1608.91789\ttest-rmse:1595.98417\n",
            "[40]\ttrain-rmse:1582.90208\ttest-rmse:1570.18996\n",
            "[41]\ttrain-rmse:1558.07087\ttest-rmse:1545.43802\n",
            "[42]\ttrain-rmse:1533.20512\ttest-rmse:1520.71111\n",
            "[43]\ttrain-rmse:1508.95712\ttest-rmse:1496.61362\n",
            "[44]\ttrain-rmse:1484.73573\ttest-rmse:1472.24858\n",
            "[45]\ttrain-rmse:1461.32704\ttest-rmse:1449.06218\n",
            "[46]\ttrain-rmse:1439.35272\ttest-rmse:1427.35074\n",
            "[47]\ttrain-rmse:1416.69275\ttest-rmse:1404.26425\n",
            "[48]\ttrain-rmse:1399.57269\ttest-rmse:1387.10160\n",
            "[49]\ttrain-rmse:1378.01090\ttest-rmse:1365.13352\n",
            "[50]\ttrain-rmse:1359.52652\ttest-rmse:1346.61775\n",
            "[51]\ttrain-rmse:1342.31138\ttest-rmse:1329.54161\n",
            "[52]\ttrain-rmse:1324.99828\ttest-rmse:1312.24410\n",
            "[53]\ttrain-rmse:1306.81359\ttest-rmse:1294.25427\n",
            "[54]\ttrain-rmse:1290.12284\ttest-rmse:1277.55999\n",
            "[55]\ttrain-rmse:1274.70492\ttest-rmse:1262.30137\n",
            "[56]\ttrain-rmse:1258.55496\ttest-rmse:1246.51901\n",
            "[57]\ttrain-rmse:1243.18756\ttest-rmse:1231.23365\n",
            "[58]\ttrain-rmse:1228.36495\ttest-rmse:1215.92462\n",
            "[59]\ttrain-rmse:1212.69409\ttest-rmse:1199.67648\n",
            "[60]\ttrain-rmse:1200.43828\ttest-rmse:1187.48750\n",
            "[61]\ttrain-rmse:1186.16610\ttest-rmse:1173.09186\n",
            "[62]\ttrain-rmse:1173.46377\ttest-rmse:1160.39232\n",
            "[63]\ttrain-rmse:1162.03484\ttest-rmse:1148.93339\n",
            "[64]\ttrain-rmse:1150.93671\ttest-rmse:1137.68156\n",
            "[65]\ttrain-rmse:1138.11362\ttest-rmse:1124.37134\n",
            "[66]\ttrain-rmse:1128.27354\ttest-rmse:1114.70028\n",
            "[67]\ttrain-rmse:1116.70503\ttest-rmse:1103.04962\n",
            "[68]\ttrain-rmse:1106.01451\ttest-rmse:1092.31104\n",
            "[69]\ttrain-rmse:1096.26188\ttest-rmse:1082.37729\n",
            "[70]\ttrain-rmse:1087.02820\ttest-rmse:1073.20865\n",
            "[71]\ttrain-rmse:1076.58454\ttest-rmse:1062.21007\n",
            "[72]\ttrain-rmse:1067.76644\ttest-rmse:1053.45889\n",
            "[73]\ttrain-rmse:1059.05737\ttest-rmse:1044.33231\n",
            "[74]\ttrain-rmse:1051.04864\ttest-rmse:1036.35849\n",
            "[75]\ttrain-rmse:1042.91440\ttest-rmse:1027.77990\n",
            "[76]\ttrain-rmse:1035.15856\ttest-rmse:1020.12952\n",
            "[77]\ttrain-rmse:1027.88030\ttest-rmse:1013.04663\n",
            "[78]\ttrain-rmse:1020.79548\ttest-rmse:1006.06107\n",
            "[79]\ttrain-rmse:1013.73647\ttest-rmse:999.16517\n",
            "[80]\ttrain-rmse:1006.76327\ttest-rmse:991.93767\n",
            "[81]\ttrain-rmse:998.45896\ttest-rmse:983.50503\n",
            "[82]\ttrain-rmse:991.78028\ttest-rmse:977.04489\n",
            "[83]\ttrain-rmse:985.25652\ttest-rmse:970.26905\n",
            "[84]\ttrain-rmse:979.31507\ttest-rmse:964.54760\n",
            "[85]\ttrain-rmse:973.62443\ttest-rmse:958.86797\n",
            "[86]\ttrain-rmse:967.57890\ttest-rmse:953.03827\n",
            "[87]\ttrain-rmse:961.13975\ttest-rmse:946.42872\n",
            "[88]\ttrain-rmse:956.24451\ttest-rmse:941.33063\n",
            "[89]\ttrain-rmse:950.82229\ttest-rmse:935.68278\n",
            "[90]\ttrain-rmse:945.47641\ttest-rmse:930.64210\n",
            "[91]\ttrain-rmse:940.96683\ttest-rmse:926.21483\n",
            "[92]\ttrain-rmse:934.84745\ttest-rmse:919.87322\n",
            "[93]\ttrain-rmse:929.95398\ttest-rmse:915.34095\n",
            "[94]\ttrain-rmse:925.30136\ttest-rmse:910.67869\n",
            "[95]\ttrain-rmse:921.21410\ttest-rmse:906.72703\n",
            "[96]\ttrain-rmse:915.74982\ttest-rmse:901.16833\n",
            "[97]\ttrain-rmse:911.20346\ttest-rmse:896.83692\n",
            "[98]\ttrain-rmse:906.99332\ttest-rmse:892.56907\n",
            "[99]\ttrain-rmse:902.59601\ttest-rmse:888.43061\n"
          ]
        },
        {
          "output_type": "display_data",
          "data": {
            "text/plain": [
              "VBox(children=(Label(value='0.002 MB of 0.002 MB uploaded\\r'), FloatProgress(value=1.0, max=1.0)))"
            ],
            "application/vnd.jupyter.widget-view+json": {
              "version_major": 2,
              "version_minor": 0,
              "model_id": "1db0bb84d3794c0e9aa6544abf688202"
            }
          },
          "metadata": {}
        },
        {
          "output_type": "display_data",
          "data": {
            "text/plain": [
              "<IPython.core.display.HTML object>"
            ],
            "text/html": [
              "<style>\n",
              "    table.wandb td:nth-child(1) { padding: 0 10px; text-align: left ; width: auto;} td:nth-child(2) {text-align: left ; width: 100%}\n",
              "    .wandb-row { display: flex; flex-direction: row; flex-wrap: wrap; justify-content: flex-start; width: 100% }\n",
              "    .wandb-col { display: flex; flex-direction: column; flex-basis: 100%; flex: 1; padding: 10px; }\n",
              "    </style>\n",
              "<div class=\"wandb-row\"><div class=\"wandb-col\"><h3>Run history:</h3><br/><table class=\"wandb\"><tr><td>rmse</td><td>▁</td></tr></table><br/></div><div class=\"wandb-col\"><h3>Run summary:</h3><br/><table class=\"wandb\"><tr><td>rmse</td><td>888.43061</td></tr></table><br/></div></div>"
            ]
          },
          "metadata": {}
        },
        {
          "output_type": "display_data",
          "data": {
            "text/plain": [
              "<IPython.core.display.HTML object>"
            ],
            "text/html": [
              " View run <strong style=\"color:#cdcd00\">bright-sweep-47</strong> at: <a href='https://wandb.ai/devambani/xgboost_diamonds_sweep_experiments/runs/8irqn0kn' target=\"_blank\">https://wandb.ai/devambani/xgboost_diamonds_sweep_experiments/runs/8irqn0kn</a><br/> View project at: <a href='https://wandb.ai/devambani/xgboost_diamonds_sweep_experiments' target=\"_blank\">https://wandb.ai/devambani/xgboost_diamonds_sweep_experiments</a><br/>Synced 5 W&B file(s), 0 media file(s), 0 artifact file(s) and 0 other file(s)"
            ]
          },
          "metadata": {}
        },
        {
          "output_type": "display_data",
          "data": {
            "text/plain": [
              "<IPython.core.display.HTML object>"
            ],
            "text/html": [
              "Find logs at: <code>./wandb/run-20240423_025759-8irqn0kn/logs</code>"
            ]
          },
          "metadata": {}
        },
        {
          "output_type": "stream",
          "name": "stderr",
          "text": [
            "\u001b[34m\u001b[1mwandb\u001b[0m: Sweep Agent: Waiting for job.\n",
            "\u001b[34m\u001b[1mwandb\u001b[0m: Job received.\n",
            "\u001b[34m\u001b[1mwandb\u001b[0m: Agent Starting Run: ov02ox8b with config:\n",
            "\u001b[34m\u001b[1mwandb\u001b[0m: \tcolsample_bytree: 0.6648167983265665\n",
            "\u001b[34m\u001b[1mwandb\u001b[0m: \tlearning_rate: 0.14643583648122604\n",
            "\u001b[34m\u001b[1mwandb\u001b[0m: \tmax_depth: 3\n",
            "\u001b[34m\u001b[1mwandb\u001b[0m: \tn_estimators: 50\n",
            "\u001b[34m\u001b[1mwandb\u001b[0m: \tsubsample: 0.815814858806591\n"
          ]
        },
        {
          "output_type": "display_data",
          "data": {
            "text/plain": [
              "<IPython.core.display.HTML object>"
            ],
            "text/html": [
              "Tracking run with wandb version 0.16.6"
            ]
          },
          "metadata": {}
        },
        {
          "output_type": "display_data",
          "data": {
            "text/plain": [
              "<IPython.core.display.HTML object>"
            ],
            "text/html": [
              "Run data is saved locally in <code>/content/wandb/run-20240423_025820-ov02ox8b</code>"
            ]
          },
          "metadata": {}
        },
        {
          "output_type": "display_data",
          "data": {
            "text/plain": [
              "<IPython.core.display.HTML object>"
            ],
            "text/html": [
              "Syncing run <strong><a href='https://wandb.ai/devambani/xgboost_diamonds_sweep_experiments/runs/ov02ox8b' target=\"_blank\">dashing-sweep-48</a></strong> to <a href='https://wandb.ai/devambani/xgboost_diamonds_sweep_experiments' target=\"_blank\">Weights & Biases</a> (<a href='https://wandb.me/run' target=\"_blank\">docs</a>)<br/>Sweep page: <a href='https://wandb.ai/devambani/xgboost_diamonds_sweep_experiments/sweeps/y3o2ro2k' target=\"_blank\">https://wandb.ai/devambani/xgboost_diamonds_sweep_experiments/sweeps/y3o2ro2k</a>"
            ]
          },
          "metadata": {}
        },
        {
          "output_type": "display_data",
          "data": {
            "text/plain": [
              "<IPython.core.display.HTML object>"
            ],
            "text/html": [
              " View project at <a href='https://wandb.ai/devambani/xgboost_diamonds_sweep_experiments' target=\"_blank\">https://wandb.ai/devambani/xgboost_diamonds_sweep_experiments</a>"
            ]
          },
          "metadata": {}
        },
        {
          "output_type": "display_data",
          "data": {
            "text/plain": [
              "<IPython.core.display.HTML object>"
            ],
            "text/html": [
              " View sweep at <a href='https://wandb.ai/devambani/xgboost_diamonds_sweep_experiments/sweeps/y3o2ro2k' target=\"_blank\">https://wandb.ai/devambani/xgboost_diamonds_sweep_experiments/sweeps/y3o2ro2k</a>"
            ]
          },
          "metadata": {}
        },
        {
          "output_type": "display_data",
          "data": {
            "text/plain": [
              "<IPython.core.display.HTML object>"
            ],
            "text/html": [
              " View run at <a href='https://wandb.ai/devambani/xgboost_diamonds_sweep_experiments/runs/ov02ox8b' target=\"_blank\">https://wandb.ai/devambani/xgboost_diamonds_sweep_experiments/runs/ov02ox8b</a>"
            ]
          },
          "metadata": {}
        },
        {
          "output_type": "stream",
          "name": "stdout",
          "text": [
            "[0]\ttrain-rmse:3485.99281\ttest-rmse:3478.44399\n",
            "[1]\ttrain-rmse:3057.25280\ttest-rmse:3048.66098\n",
            "[2]\ttrain-rmse:2695.52382\ttest-rmse:2685.16514\n",
            "[3]\ttrain-rmse:2405.84537\ttest-rmse:2394.55873\n",
            "[4]\ttrain-rmse:2167.09468\ttest-rmse:2153.41248\n",
            "[5]\ttrain-rmse:1951.80149\ttest-rmse:1936.95346\n",
            "[6]\ttrain-rmse:1795.06020\ttest-rmse:1780.04685\n",
            "[7]\ttrain-rmse:1669.57703\ttest-rmse:1655.35380\n",
            "[8]\ttrain-rmse:1547.21516\ttest-rmse:1533.22869\n",
            "[9]\ttrain-rmse:1448.05366\ttest-rmse:1433.09719\n",
            "[10]\ttrain-rmse:1384.29923\ttest-rmse:1370.24205\n",
            "[11]\ttrain-rmse:1290.46904\ttest-rmse:1276.75673\n",
            "[12]\ttrain-rmse:1230.63847\ttest-rmse:1216.25213\n",
            "[13]\ttrain-rmse:1184.74309\ttest-rmse:1172.00371\n",
            "[14]\ttrain-rmse:1159.43426\ttest-rmse:1147.50191\n",
            "[15]\ttrain-rmse:1104.93059\ttest-rmse:1092.10048\n",
            "[16]\ttrain-rmse:1068.40615\ttest-rmse:1054.03871\n",
            "[17]\ttrain-rmse:1037.80176\ttest-rmse:1023.73407\n",
            "[18]\ttrain-rmse:1009.43645\ttest-rmse:993.91476\n",
            "[19]\ttrain-rmse:973.26366\ttest-rmse:957.32940\n",
            "[20]\ttrain-rmse:951.62098\ttest-rmse:935.88954\n",
            "[21]\ttrain-rmse:927.73999\ttest-rmse:912.81544\n",
            "[22]\ttrain-rmse:908.23394\ttest-rmse:894.35062\n",
            "[23]\ttrain-rmse:893.09815\ttest-rmse:880.76101\n",
            "[24]\ttrain-rmse:875.37863\ttest-rmse:862.32449\n",
            "[25]\ttrain-rmse:859.49051\ttest-rmse:845.52066\n",
            "[26]\ttrain-rmse:846.18070\ttest-rmse:832.35177\n",
            "[27]\ttrain-rmse:833.73004\ttest-rmse:819.73166\n",
            "[28]\ttrain-rmse:821.18557\ttest-rmse:807.79985\n",
            "[29]\ttrain-rmse:801.68638\ttest-rmse:789.18191\n",
            "[30]\ttrain-rmse:792.33638\ttest-rmse:780.99584\n",
            "[31]\ttrain-rmse:783.98292\ttest-rmse:773.40401\n",
            "[32]\ttrain-rmse:769.46418\ttest-rmse:760.14356\n",
            "[33]\ttrain-rmse:760.33427\ttest-rmse:752.30618\n",
            "[34]\ttrain-rmse:750.00351\ttest-rmse:739.70217\n",
            "[35]\ttrain-rmse:738.05438\ttest-rmse:728.95561\n",
            "[36]\ttrain-rmse:733.32388\ttest-rmse:724.92735\n",
            "[37]\ttrain-rmse:727.04253\ttest-rmse:719.30027\n",
            "[38]\ttrain-rmse:724.47232\ttest-rmse:717.64941\n",
            "[39]\ttrain-rmse:718.72416\ttest-rmse:712.53367\n",
            "[40]\ttrain-rmse:713.71218\ttest-rmse:707.89544\n",
            "[41]\ttrain-rmse:706.27478\ttest-rmse:700.69265\n",
            "[42]\ttrain-rmse:701.42547\ttest-rmse:696.44567\n",
            "[43]\ttrain-rmse:697.54320\ttest-rmse:693.23195\n",
            "[44]\ttrain-rmse:694.29298\ttest-rmse:690.67363\n",
            "[45]\ttrain-rmse:691.79263\ttest-rmse:688.84484\n",
            "[46]\ttrain-rmse:687.96291\ttest-rmse:684.97411\n",
            "[47]\ttrain-rmse:678.91569\ttest-rmse:674.04380\n",
            "[48]\ttrain-rmse:677.33070\ttest-rmse:673.31556\n",
            "[49]\ttrain-rmse:671.35711\ttest-rmse:666.20287\n",
            "[50]\ttrain-rmse:669.64523\ttest-rmse:664.82776\n",
            "[51]\ttrain-rmse:666.81792\ttest-rmse:663.25127\n",
            "[52]\ttrain-rmse:660.36238\ttest-rmse:657.79704\n",
            "[53]\ttrain-rmse:656.38636\ttest-rmse:653.38121\n",
            "[54]\ttrain-rmse:654.80541\ttest-rmse:652.19171\n",
            "[55]\ttrain-rmse:652.67394\ttest-rmse:650.70839\n",
            "[56]\ttrain-rmse:650.79158\ttest-rmse:649.35962\n",
            "[57]\ttrain-rmse:646.36708\ttest-rmse:645.25239\n",
            "[58]\ttrain-rmse:643.10366\ttest-rmse:642.08540\n",
            "[59]\ttrain-rmse:641.44082\ttest-rmse:640.72769\n",
            "[60]\ttrain-rmse:639.58627\ttest-rmse:639.20874\n",
            "[61]\ttrain-rmse:637.62119\ttest-rmse:637.39581\n",
            "[62]\ttrain-rmse:635.66883\ttest-rmse:635.83556\n",
            "[63]\ttrain-rmse:634.60846\ttest-rmse:634.87423\n",
            "[64]\ttrain-rmse:633.55963\ttest-rmse:634.64589\n",
            "[65]\ttrain-rmse:629.97437\ttest-rmse:631.62272\n",
            "[66]\ttrain-rmse:629.01274\ttest-rmse:630.58503\n",
            "[67]\ttrain-rmse:627.14069\ttest-rmse:629.41946\n",
            "[68]\ttrain-rmse:625.69117\ttest-rmse:629.05220\n",
            "[69]\ttrain-rmse:624.30468\ttest-rmse:627.77922\n",
            "[70]\ttrain-rmse:623.43398\ttest-rmse:627.05212\n",
            "[71]\ttrain-rmse:622.33668\ttest-rmse:626.62777\n",
            "[72]\ttrain-rmse:619.81738\ttest-rmse:624.12956\n",
            "[73]\ttrain-rmse:619.34776\ttest-rmse:623.87060\n",
            "[74]\ttrain-rmse:616.40493\ttest-rmse:620.83617\n",
            "[75]\ttrain-rmse:613.82455\ttest-rmse:618.08858\n",
            "[76]\ttrain-rmse:611.75422\ttest-rmse:616.53513\n",
            "[77]\ttrain-rmse:610.62748\ttest-rmse:615.86809\n",
            "[78]\ttrain-rmse:609.66975\ttest-rmse:615.19116\n",
            "[79]\ttrain-rmse:607.97312\ttest-rmse:613.86142\n",
            "[80]\ttrain-rmse:606.36302\ttest-rmse:612.19017\n",
            "[81]\ttrain-rmse:605.97897\ttest-rmse:612.05515\n",
            "[82]\ttrain-rmse:605.68664\ttest-rmse:611.83749\n",
            "[83]\ttrain-rmse:605.44417\ttest-rmse:611.63985\n",
            "[84]\ttrain-rmse:604.54665\ttest-rmse:611.10007\n",
            "[85]\ttrain-rmse:604.05821\ttest-rmse:610.85539\n",
            "[86]\ttrain-rmse:603.21912\ttest-rmse:610.13490\n",
            "[87]\ttrain-rmse:602.38932\ttest-rmse:609.39724\n",
            "[88]\ttrain-rmse:601.65282\ttest-rmse:608.79181\n",
            "[89]\ttrain-rmse:600.84180\ttest-rmse:607.98541\n",
            "[90]\ttrain-rmse:600.01807\ttest-rmse:607.23166\n",
            "[91]\ttrain-rmse:599.22610\ttest-rmse:606.84561\n",
            "[92]\ttrain-rmse:598.69080\ttest-rmse:606.71061\n",
            "[93]\ttrain-rmse:598.28197\ttest-rmse:606.54217\n",
            "[94]\ttrain-rmse:596.48954\ttest-rmse:605.15500\n",
            "[95]\ttrain-rmse:595.92948\ttest-rmse:604.82359\n",
            "[96]\ttrain-rmse:595.18058\ttest-rmse:604.32562\n",
            "[97]\ttrain-rmse:594.34655\ttest-rmse:603.22773\n",
            "[98]\ttrain-rmse:594.04026\ttest-rmse:603.11066\n",
            "[99]\ttrain-rmse:593.42551\ttest-rmse:603.13775\n"
          ]
        },
        {
          "output_type": "display_data",
          "data": {
            "text/plain": [
              "VBox(children=(Label(value='0.002 MB of 0.002 MB uploaded\\r'), FloatProgress(value=1.0, max=1.0)))"
            ],
            "application/vnd.jupyter.widget-view+json": {
              "version_major": 2,
              "version_minor": 0,
              "model_id": "124a512cebf24391a0743aa42476b12c"
            }
          },
          "metadata": {}
        },
        {
          "output_type": "display_data",
          "data": {
            "text/plain": [
              "<IPython.core.display.HTML object>"
            ],
            "text/html": [
              "<style>\n",
              "    table.wandb td:nth-child(1) { padding: 0 10px; text-align: left ; width: auto;} td:nth-child(2) {text-align: left ; width: 100%}\n",
              "    .wandb-row { display: flex; flex-direction: row; flex-wrap: wrap; justify-content: flex-start; width: 100% }\n",
              "    .wandb-col { display: flex; flex-direction: column; flex-basis: 100%; flex: 1; padding: 10px; }\n",
              "    </style>\n",
              "<div class=\"wandb-row\"><div class=\"wandb-col\"><h3>Run history:</h3><br/><table class=\"wandb\"><tr><td>rmse</td><td>▁</td></tr></table><br/></div><div class=\"wandb-col\"><h3>Run summary:</h3><br/><table class=\"wandb\"><tr><td>rmse</td><td>603.13775</td></tr></table><br/></div></div>"
            ]
          },
          "metadata": {}
        },
        {
          "output_type": "display_data",
          "data": {
            "text/plain": [
              "<IPython.core.display.HTML object>"
            ],
            "text/html": [
              " View run <strong style=\"color:#cdcd00\">dashing-sweep-48</strong> at: <a href='https://wandb.ai/devambani/xgboost_diamonds_sweep_experiments/runs/ov02ox8b' target=\"_blank\">https://wandb.ai/devambani/xgboost_diamonds_sweep_experiments/runs/ov02ox8b</a><br/> View project at: <a href='https://wandb.ai/devambani/xgboost_diamonds_sweep_experiments' target=\"_blank\">https://wandb.ai/devambani/xgboost_diamonds_sweep_experiments</a><br/>Synced 5 W&B file(s), 0 media file(s), 0 artifact file(s) and 0 other file(s)"
            ]
          },
          "metadata": {}
        },
        {
          "output_type": "display_data",
          "data": {
            "text/plain": [
              "<IPython.core.display.HTML object>"
            ],
            "text/html": [
              "Find logs at: <code>./wandb/run-20240423_025820-ov02ox8b/logs</code>"
            ]
          },
          "metadata": {}
        },
        {
          "output_type": "stream",
          "name": "stderr",
          "text": [
            "\u001b[34m\u001b[1mwandb\u001b[0m: Agent Starting Run: 0ehybpry with config:\n",
            "\u001b[34m\u001b[1mwandb\u001b[0m: \tcolsample_bytree: 0.636354731194539\n",
            "\u001b[34m\u001b[1mwandb\u001b[0m: \tlearning_rate: 0.11881161156834188\n",
            "\u001b[34m\u001b[1mwandb\u001b[0m: \tmax_depth: 5\n",
            "\u001b[34m\u001b[1mwandb\u001b[0m: \tn_estimators: 100\n",
            "\u001b[34m\u001b[1mwandb\u001b[0m: \tsubsample: 0.839835637920948\n"
          ]
        },
        {
          "output_type": "display_data",
          "data": {
            "text/plain": [
              "<IPython.core.display.HTML object>"
            ],
            "text/html": [
              "Tracking run with wandb version 0.16.6"
            ]
          },
          "metadata": {}
        },
        {
          "output_type": "display_data",
          "data": {
            "text/plain": [
              "<IPython.core.display.HTML object>"
            ],
            "text/html": [
              "Run data is saved locally in <code>/content/wandb/run-20240423_025836-0ehybpry</code>"
            ]
          },
          "metadata": {}
        },
        {
          "output_type": "display_data",
          "data": {
            "text/plain": [
              "<IPython.core.display.HTML object>"
            ],
            "text/html": [
              "Syncing run <strong><a href='https://wandb.ai/devambani/xgboost_diamonds_sweep_experiments/runs/0ehybpry' target=\"_blank\">gallant-sweep-49</a></strong> to <a href='https://wandb.ai/devambani/xgboost_diamonds_sweep_experiments' target=\"_blank\">Weights & Biases</a> (<a href='https://wandb.me/run' target=\"_blank\">docs</a>)<br/>Sweep page: <a href='https://wandb.ai/devambani/xgboost_diamonds_sweep_experiments/sweeps/y3o2ro2k' target=\"_blank\">https://wandb.ai/devambani/xgboost_diamonds_sweep_experiments/sweeps/y3o2ro2k</a>"
            ]
          },
          "metadata": {}
        },
        {
          "output_type": "display_data",
          "data": {
            "text/plain": [
              "<IPython.core.display.HTML object>"
            ],
            "text/html": [
              " View project at <a href='https://wandb.ai/devambani/xgboost_diamonds_sweep_experiments' target=\"_blank\">https://wandb.ai/devambani/xgboost_diamonds_sweep_experiments</a>"
            ]
          },
          "metadata": {}
        },
        {
          "output_type": "display_data",
          "data": {
            "text/plain": [
              "<IPython.core.display.HTML object>"
            ],
            "text/html": [
              " View sweep at <a href='https://wandb.ai/devambani/xgboost_diamonds_sweep_experiments/sweeps/y3o2ro2k' target=\"_blank\">https://wandb.ai/devambani/xgboost_diamonds_sweep_experiments/sweeps/y3o2ro2k</a>"
            ]
          },
          "metadata": {}
        },
        {
          "output_type": "display_data",
          "data": {
            "text/plain": [
              "<IPython.core.display.HTML object>"
            ],
            "text/html": [
              " View run at <a href='https://wandb.ai/devambani/xgboost_diamonds_sweep_experiments/runs/0ehybpry' target=\"_blank\">https://wandb.ai/devambani/xgboost_diamonds_sweep_experiments/runs/0ehybpry</a>"
            ]
          },
          "metadata": {}
        },
        {
          "output_type": "stream",
          "name": "stdout",
          "text": [
            "[0]\ttrain-rmse:3575.22052\ttest-rmse:3568.77455\n",
            "[1]\ttrain-rmse:3193.21227\ttest-rmse:3185.68877\n",
            "[2]\ttrain-rmse:2859.21827\ttest-rmse:2850.54582\n",
            "[3]\ttrain-rmse:2573.07227\ttest-rmse:2563.90102\n",
            "[4]\ttrain-rmse:2337.33303\ttest-rmse:2325.82142\n",
            "[5]\ttrain-rmse:2112.15222\ttest-rmse:2100.90909\n",
            "[6]\ttrain-rmse:1939.19040\ttest-rmse:1927.98484\n",
            "[7]\ttrain-rmse:1791.38372\ttest-rmse:1780.11613\n",
            "[8]\ttrain-rmse:1642.21921\ttest-rmse:1632.51897\n",
            "[9]\ttrain-rmse:1514.51683\ttest-rmse:1506.12677\n",
            "[10]\ttrain-rmse:1425.90893\ttest-rmse:1417.96848\n",
            "[11]\ttrain-rmse:1303.35002\ttest-rmse:1295.12122\n",
            "[12]\ttrain-rmse:1223.39466\ttest-rmse:1216.26606\n",
            "[13]\ttrain-rmse:1156.28976\ttest-rmse:1151.02944\n",
            "[14]\ttrain-rmse:1111.87306\ttest-rmse:1109.21163\n",
            "[15]\ttrain-rmse:1033.87951\ttest-rmse:1032.03130\n",
            "[16]\ttrain-rmse:980.96684\ttest-rmse:979.36237\n",
            "[17]\ttrain-rmse:942.21682\ttest-rmse:942.36917\n",
            "[18]\ttrain-rmse:900.97369\ttest-rmse:902.25275\n",
            "[19]\ttrain-rmse:852.97775\ttest-rmse:853.91818\n",
            "[20]\ttrain-rmse:823.62784\ttest-rmse:824.91564\n",
            "[21]\ttrain-rmse:800.52759\ttest-rmse:803.96070\n",
            "[22]\ttrain-rmse:781.29469\ttest-rmse:786.31152\n",
            "[23]\ttrain-rmse:765.52343\ttest-rmse:772.19780\n",
            "[24]\ttrain-rmse:734.76405\ttest-rmse:741.30197\n",
            "[25]\ttrain-rmse:717.88681\ttest-rmse:725.43447\n",
            "[26]\ttrain-rmse:692.63755\ttest-rmse:701.06170\n",
            "[27]\ttrain-rmse:681.09198\ttest-rmse:689.83212\n",
            "[28]\ttrain-rmse:672.09283\ttest-rmse:681.19034\n",
            "[29]\ttrain-rmse:656.44009\ttest-rmse:665.60349\n",
            "[30]\ttrain-rmse:648.21574\ttest-rmse:658.06897\n",
            "[31]\ttrain-rmse:641.67500\ttest-rmse:653.35363\n",
            "[32]\ttrain-rmse:630.20632\ttest-rmse:642.57803\n",
            "[33]\ttrain-rmse:625.43272\ttest-rmse:638.62041\n",
            "[34]\ttrain-rmse:614.60136\ttest-rmse:628.22139\n",
            "[35]\ttrain-rmse:605.82128\ttest-rmse:619.89609\n",
            "[36]\ttrain-rmse:602.73370\ttest-rmse:617.64300\n",
            "[37]\ttrain-rmse:598.47056\ttest-rmse:614.41592\n",
            "[38]\ttrain-rmse:596.70843\ttest-rmse:613.76601\n",
            "[39]\ttrain-rmse:593.90841\ttest-rmse:612.48846\n",
            "[40]\ttrain-rmse:591.26427\ttest-rmse:610.91473\n",
            "[41]\ttrain-rmse:583.27943\ttest-rmse:603.87683\n",
            "[42]\ttrain-rmse:579.87234\ttest-rmse:600.82411\n",
            "[43]\ttrain-rmse:578.05046\ttest-rmse:599.76181\n",
            "[44]\ttrain-rmse:575.35953\ttest-rmse:597.89647\n",
            "[45]\ttrain-rmse:574.51235\ttest-rmse:597.39498\n",
            "[46]\ttrain-rmse:572.41538\ttest-rmse:595.77868\n",
            "[47]\ttrain-rmse:567.05576\ttest-rmse:590.43627\n",
            "[48]\ttrain-rmse:565.98094\ttest-rmse:590.18301\n",
            "[49]\ttrain-rmse:560.54618\ttest-rmse:584.86781\n",
            "[50]\ttrain-rmse:559.63204\ttest-rmse:584.24399\n",
            "[51]\ttrain-rmse:558.16553\ttest-rmse:583.25201\n",
            "[52]\ttrain-rmse:554.22115\ttest-rmse:579.42520\n",
            "[53]\ttrain-rmse:550.46906\ttest-rmse:575.55825\n",
            "[54]\ttrain-rmse:549.53143\ttest-rmse:574.97411\n",
            "[55]\ttrain-rmse:548.17642\ttest-rmse:574.11213\n",
            "[56]\ttrain-rmse:546.95020\ttest-rmse:573.50441\n",
            "[57]\ttrain-rmse:542.68072\ttest-rmse:569.95185\n",
            "[58]\ttrain-rmse:539.31414\ttest-rmse:567.50449\n",
            "[59]\ttrain-rmse:537.85736\ttest-rmse:566.97917\n",
            "[60]\ttrain-rmse:536.64772\ttest-rmse:566.26262\n",
            "[61]\ttrain-rmse:535.21743\ttest-rmse:565.87468\n",
            "[62]\ttrain-rmse:534.12014\ttest-rmse:566.17023\n",
            "[63]\ttrain-rmse:532.71017\ttest-rmse:566.00418\n",
            "[64]\ttrain-rmse:531.62738\ttest-rmse:565.82200\n",
            "[65]\ttrain-rmse:528.83944\ttest-rmse:563.61321\n",
            "[66]\ttrain-rmse:528.18343\ttest-rmse:562.99077\n",
            "[67]\ttrain-rmse:527.05445\ttest-rmse:562.66379\n",
            "[68]\ttrain-rmse:526.32665\ttest-rmse:562.60995\n",
            "[69]\ttrain-rmse:525.54319\ttest-rmse:562.32831\n",
            "[70]\ttrain-rmse:524.57928\ttest-rmse:561.82659\n",
            "[71]\ttrain-rmse:523.91186\ttest-rmse:561.55096\n",
            "[72]\ttrain-rmse:521.85403\ttest-rmse:559.47565\n",
            "[73]\ttrain-rmse:521.01351\ttest-rmse:559.09182\n",
            "[74]\ttrain-rmse:518.31201\ttest-rmse:556.81978\n",
            "[75]\ttrain-rmse:516.67961\ttest-rmse:556.05857\n",
            "[76]\ttrain-rmse:515.08236\ttest-rmse:555.25664\n",
            "[77]\ttrain-rmse:514.22493\ttest-rmse:554.99191\n",
            "[78]\ttrain-rmse:513.62490\ttest-rmse:555.04541\n",
            "[79]\ttrain-rmse:512.55003\ttest-rmse:554.35146\n",
            "[80]\ttrain-rmse:511.15156\ttest-rmse:553.39992\n",
            "[81]\ttrain-rmse:510.27996\ttest-rmse:553.00814\n",
            "[82]\ttrain-rmse:509.76522\ttest-rmse:552.95202\n",
            "[83]\ttrain-rmse:508.55825\ttest-rmse:552.59407\n",
            "[84]\ttrain-rmse:508.06158\ttest-rmse:552.51462\n",
            "[85]\ttrain-rmse:507.55025\ttest-rmse:552.14739\n",
            "[86]\ttrain-rmse:505.76456\ttest-rmse:550.77254\n",
            "[87]\ttrain-rmse:504.83686\ttest-rmse:549.80540\n",
            "[88]\ttrain-rmse:504.18613\ttest-rmse:549.84645\n",
            "[89]\ttrain-rmse:503.46907\ttest-rmse:549.28854\n",
            "[90]\ttrain-rmse:502.81798\ttest-rmse:549.23334\n",
            "[91]\ttrain-rmse:502.13260\ttest-rmse:549.51857\n",
            "[92]\ttrain-rmse:501.59922\ttest-rmse:549.43874\n",
            "[93]\ttrain-rmse:501.27993\ttest-rmse:549.17086\n",
            "[94]\ttrain-rmse:500.12334\ttest-rmse:548.34970\n",
            "[95]\ttrain-rmse:499.70136\ttest-rmse:547.79669\n",
            "[96]\ttrain-rmse:499.16542\ttest-rmse:547.60664\n",
            "[97]\ttrain-rmse:498.52387\ttest-rmse:547.15692\n",
            "[98]\ttrain-rmse:497.98771\ttest-rmse:546.71501\n",
            "[99]\ttrain-rmse:497.21905\ttest-rmse:546.64836\n"
          ]
        },
        {
          "output_type": "display_data",
          "data": {
            "text/plain": [
              "VBox(children=(Label(value='0.002 MB of 0.002 MB uploaded\\r'), FloatProgress(value=1.0, max=1.0)))"
            ],
            "application/vnd.jupyter.widget-view+json": {
              "version_major": 2,
              "version_minor": 0,
              "model_id": "0363a04f3f1d493cad7b5c7b09d91620"
            }
          },
          "metadata": {}
        },
        {
          "output_type": "display_data",
          "data": {
            "text/plain": [
              "<IPython.core.display.HTML object>"
            ],
            "text/html": [
              "<style>\n",
              "    table.wandb td:nth-child(1) { padding: 0 10px; text-align: left ; width: auto;} td:nth-child(2) {text-align: left ; width: 100%}\n",
              "    .wandb-row { display: flex; flex-direction: row; flex-wrap: wrap; justify-content: flex-start; width: 100% }\n",
              "    .wandb-col { display: flex; flex-direction: column; flex-basis: 100%; flex: 1; padding: 10px; }\n",
              "    </style>\n",
              "<div class=\"wandb-row\"><div class=\"wandb-col\"><h3>Run history:</h3><br/><table class=\"wandb\"><tr><td>rmse</td><td>▁</td></tr></table><br/></div><div class=\"wandb-col\"><h3>Run summary:</h3><br/><table class=\"wandb\"><tr><td>rmse</td><td>546.64836</td></tr></table><br/></div></div>"
            ]
          },
          "metadata": {}
        },
        {
          "output_type": "display_data",
          "data": {
            "text/plain": [
              "<IPython.core.display.HTML object>"
            ],
            "text/html": [
              " View run <strong style=\"color:#cdcd00\">gallant-sweep-49</strong> at: <a href='https://wandb.ai/devambani/xgboost_diamonds_sweep_experiments/runs/0ehybpry' target=\"_blank\">https://wandb.ai/devambani/xgboost_diamonds_sweep_experiments/runs/0ehybpry</a><br/> View project at: <a href='https://wandb.ai/devambani/xgboost_diamonds_sweep_experiments' target=\"_blank\">https://wandb.ai/devambani/xgboost_diamonds_sweep_experiments</a><br/>Synced 5 W&B file(s), 0 media file(s), 0 artifact file(s) and 0 other file(s)"
            ]
          },
          "metadata": {}
        },
        {
          "output_type": "display_data",
          "data": {
            "text/plain": [
              "<IPython.core.display.HTML object>"
            ],
            "text/html": [
              "Find logs at: <code>./wandb/run-20240423_025836-0ehybpry/logs</code>"
            ]
          },
          "metadata": {}
        },
        {
          "output_type": "stream",
          "name": "stderr",
          "text": [
            "\u001b[34m\u001b[1mwandb\u001b[0m: Agent Starting Run: 780qruvn with config:\n",
            "\u001b[34m\u001b[1mwandb\u001b[0m: \tcolsample_bytree: 0.8031828058099304\n",
            "\u001b[34m\u001b[1mwandb\u001b[0m: \tlearning_rate: 0.016686513865545344\n",
            "\u001b[34m\u001b[1mwandb\u001b[0m: \tmax_depth: 5\n",
            "\u001b[34m\u001b[1mwandb\u001b[0m: \tn_estimators: 100\n",
            "\u001b[34m\u001b[1mwandb\u001b[0m: \tsubsample: 0.6794214025867659\n"
          ]
        },
        {
          "output_type": "display_data",
          "data": {
            "text/plain": [
              "<IPython.core.display.HTML object>"
            ],
            "text/html": [
              "Tracking run with wandb version 0.16.6"
            ]
          },
          "metadata": {}
        },
        {
          "output_type": "display_data",
          "data": {
            "text/plain": [
              "<IPython.core.display.HTML object>"
            ],
            "text/html": [
              "Run data is saved locally in <code>/content/wandb/run-20240423_025847-780qruvn</code>"
            ]
          },
          "metadata": {}
        },
        {
          "output_type": "display_data",
          "data": {
            "text/plain": [
              "<IPython.core.display.HTML object>"
            ],
            "text/html": [
              "Syncing run <strong><a href='https://wandb.ai/devambani/xgboost_diamonds_sweep_experiments/runs/780qruvn' target=\"_blank\">crimson-sweep-50</a></strong> to <a href='https://wandb.ai/devambani/xgboost_diamonds_sweep_experiments' target=\"_blank\">Weights & Biases</a> (<a href='https://wandb.me/run' target=\"_blank\">docs</a>)<br/>Sweep page: <a href='https://wandb.ai/devambani/xgboost_diamonds_sweep_experiments/sweeps/y3o2ro2k' target=\"_blank\">https://wandb.ai/devambani/xgboost_diamonds_sweep_experiments/sweeps/y3o2ro2k</a>"
            ]
          },
          "metadata": {}
        },
        {
          "output_type": "display_data",
          "data": {
            "text/plain": [
              "<IPython.core.display.HTML object>"
            ],
            "text/html": [
              " View project at <a href='https://wandb.ai/devambani/xgboost_diamonds_sweep_experiments' target=\"_blank\">https://wandb.ai/devambani/xgboost_diamonds_sweep_experiments</a>"
            ]
          },
          "metadata": {}
        },
        {
          "output_type": "display_data",
          "data": {
            "text/plain": [
              "<IPython.core.display.HTML object>"
            ],
            "text/html": [
              " View sweep at <a href='https://wandb.ai/devambani/xgboost_diamonds_sweep_experiments/sweeps/y3o2ro2k' target=\"_blank\">https://wandb.ai/devambani/xgboost_diamonds_sweep_experiments/sweeps/y3o2ro2k</a>"
            ]
          },
          "metadata": {}
        },
        {
          "output_type": "display_data",
          "data": {
            "text/plain": [
              "<IPython.core.display.HTML object>"
            ],
            "text/html": [
              " View run at <a href='https://wandb.ai/devambani/xgboost_diamonds_sweep_experiments/runs/780qruvn' target=\"_blank\">https://wandb.ai/devambani/xgboost_diamonds_sweep_experiments/runs/780qruvn</a>"
            ]
          },
          "metadata": {}
        },
        {
          "output_type": "stream",
          "name": "stdout",
          "text": [
            "[0]\ttrain-rmse:3930.19585\ttest-rmse:3927.15758\n",
            "[1]\ttrain-rmse:3869.78604\ttest-rmse:3866.41331\n",
            "[2]\ttrain-rmse:3810.38755\ttest-rmse:3806.75621\n",
            "[3]\ttrain-rmse:3751.28475\ttest-rmse:3747.80975\n",
            "[4]\ttrain-rmse:3693.79238\ttest-rmse:3690.11506\n",
            "[5]\ttrain-rmse:3636.71494\ttest-rmse:3632.97776\n",
            "[6]\ttrain-rmse:3583.98711\ttest-rmse:3579.96419\n",
            "[7]\ttrain-rmse:3528.41618\ttest-rmse:3524.72245\n",
            "[8]\ttrain-rmse:3474.00857\ttest-rmse:3470.30765\n",
            "[9]\ttrain-rmse:3420.61357\ttest-rmse:3416.63072\n",
            "[10]\ttrain-rmse:3370.49371\ttest-rmse:3366.31288\n",
            "[11]\ttrain-rmse:3318.80357\ttest-rmse:3314.52093\n",
            "[12]\ttrain-rmse:3268.25249\ttest-rmse:3263.77385\n",
            "[13]\ttrain-rmse:3218.54743\ttest-rmse:3214.08077\n",
            "[14]\ttrain-rmse:3172.98312\ttest-rmse:3168.21389\n",
            "[15]\ttrain-rmse:3124.86786\ttest-rmse:3119.78403\n",
            "[16]\ttrain-rmse:3077.45568\ttest-rmse:3072.14888\n",
            "[17]\ttrain-rmse:3030.90811\ttest-rmse:3025.45106\n",
            "[18]\ttrain-rmse:2985.23700\ttest-rmse:2979.65954\n",
            "[19]\ttrain-rmse:2940.19354\ttest-rmse:2934.28541\n",
            "[20]\ttrain-rmse:2897.82306\ttest-rmse:2891.78678\n",
            "[21]\ttrain-rmse:2855.11922\ttest-rmse:2849.06741\n",
            "[22]\ttrain-rmse:2813.13662\ttest-rmse:2807.08428\n",
            "[23]\ttrain-rmse:2771.24621\ttest-rmse:2765.21980\n",
            "[24]\ttrain-rmse:2730.06348\ttest-rmse:2723.88014\n",
            "[25]\ttrain-rmse:2689.23211\ttest-rmse:2683.13333\n",
            "[26]\ttrain-rmse:2649.31941\ttest-rmse:2643.56955\n",
            "[27]\ttrain-rmse:2611.70383\ttest-rmse:2605.89072\n",
            "[28]\ttrain-rmse:2574.01200\ttest-rmse:2567.94673\n",
            "[29]\ttrain-rmse:2536.37489\ttest-rmse:2530.20821\n",
            "[30]\ttrain-rmse:2501.06065\ttest-rmse:2494.76470\n",
            "[31]\ttrain-rmse:2464.47901\ttest-rmse:2458.09500\n",
            "[32]\ttrain-rmse:2428.70397\ttest-rmse:2422.34414\n",
            "[33]\ttrain-rmse:2393.32040\ttest-rmse:2387.07290\n",
            "[34]\ttrain-rmse:2358.85023\ttest-rmse:2352.61345\n",
            "[35]\ttrain-rmse:2324.75332\ttest-rmse:2318.08775\n",
            "[36]\ttrain-rmse:2291.47289\ttest-rmse:2284.97155\n",
            "[37]\ttrain-rmse:2260.16799\ttest-rmse:2253.45686\n",
            "[38]\ttrain-rmse:2229.57669\ttest-rmse:2222.69082\n",
            "[39]\ttrain-rmse:2198.38766\ttest-rmse:2191.57787\n",
            "[40]\ttrain-rmse:2166.88509\ttest-rmse:2160.25958\n",
            "[41]\ttrain-rmse:2136.22756\ttest-rmse:2129.55572\n",
            "[42]\ttrain-rmse:2107.50763\ttest-rmse:2100.73560\n",
            "[43]\ttrain-rmse:2077.79309\ttest-rmse:2070.84398\n",
            "[44]\ttrain-rmse:2048.59857\ttest-rmse:2041.37838\n",
            "[45]\ttrain-rmse:2020.65483\ttest-rmse:2013.30195\n",
            "[46]\ttrain-rmse:1992.56634\ttest-rmse:1985.21172\n",
            "[47]\ttrain-rmse:1965.09819\ttest-rmse:1957.78071\n",
            "[48]\ttrain-rmse:1940.59796\ttest-rmse:1933.05768\n",
            "[49]\ttrain-rmse:1914.00463\ttest-rmse:1906.37432\n",
            "[50]\ttrain-rmse:1889.19836\ttest-rmse:1881.54185\n",
            "[51]\ttrain-rmse:1863.38539\ttest-rmse:1855.80294\n",
            "[52]\ttrain-rmse:1838.16855\ttest-rmse:1830.63583\n",
            "[53]\ttrain-rmse:1813.62721\ttest-rmse:1805.98942\n",
            "[54]\ttrain-rmse:1789.86286\ttest-rmse:1782.23714\n",
            "[55]\ttrain-rmse:1767.36857\ttest-rmse:1759.75610\n",
            "[56]\ttrain-rmse:1743.64720\ttest-rmse:1736.06061\n",
            "[57]\ttrain-rmse:1720.43323\ttest-rmse:1712.79299\n",
            "[58]\ttrain-rmse:1697.64755\ttest-rmse:1689.76903\n",
            "[59]\ttrain-rmse:1675.29480\ttest-rmse:1667.38295\n",
            "[60]\ttrain-rmse:1655.00308\ttest-rmse:1646.89860\n",
            "[61]\ttrain-rmse:1633.55824\ttest-rmse:1625.67210\n",
            "[62]\ttrain-rmse:1612.35009\ttest-rmse:1604.81969\n",
            "[63]\ttrain-rmse:1593.08148\ttest-rmse:1585.42034\n",
            "[64]\ttrain-rmse:1573.95167\ttest-rmse:1566.07000\n",
            "[65]\ttrain-rmse:1553.74339\ttest-rmse:1546.14756\n",
            "[66]\ttrain-rmse:1534.82721\ttest-rmse:1527.01755\n",
            "[67]\ttrain-rmse:1515.14048\ttest-rmse:1507.36996\n",
            "[68]\ttrain-rmse:1496.10579\ttest-rmse:1488.48801\n",
            "[69]\ttrain-rmse:1478.33048\ttest-rmse:1470.54170\n",
            "[70]\ttrain-rmse:1460.86558\ttest-rmse:1453.13042\n",
            "[71]\ttrain-rmse:1442.79483\ttest-rmse:1434.96897\n",
            "[72]\ttrain-rmse:1424.92020\ttest-rmse:1417.13948\n",
            "[73]\ttrain-rmse:1407.57317\ttest-rmse:1399.98939\n",
            "[74]\ttrain-rmse:1390.80517\ttest-rmse:1383.12816\n",
            "[75]\ttrain-rmse:1374.20256\ttest-rmse:1366.74504\n",
            "[76]\ttrain-rmse:1357.56019\ttest-rmse:1350.15500\n",
            "[77]\ttrain-rmse:1341.27812\ttest-rmse:1333.99009\n",
            "[78]\ttrain-rmse:1325.33804\ttest-rmse:1317.92049\n",
            "[79]\ttrain-rmse:1309.56542\ttest-rmse:1302.10708\n",
            "[80]\ttrain-rmse:1294.47308\ttest-rmse:1287.00286\n",
            "[81]\ttrain-rmse:1279.27407\ttest-rmse:1271.71197\n",
            "[82]\ttrain-rmse:1265.27418\ttest-rmse:1257.79171\n",
            "[83]\ttrain-rmse:1250.88362\ttest-rmse:1243.32604\n",
            "[84]\ttrain-rmse:1236.70112\ttest-rmse:1229.39497\n",
            "[85]\ttrain-rmse:1223.89206\ttest-rmse:1216.63063\n",
            "[86]\ttrain-rmse:1210.27820\ttest-rmse:1203.20773\n",
            "[87]\ttrain-rmse:1196.66298\ttest-rmse:1189.65974\n",
            "[88]\ttrain-rmse:1184.71587\ttest-rmse:1177.66552\n",
            "[89]\ttrain-rmse:1171.67418\ttest-rmse:1164.50713\n",
            "[90]\ttrain-rmse:1159.49519\ttest-rmse:1152.57018\n",
            "[91]\ttrain-rmse:1148.25910\ttest-rmse:1141.41832\n",
            "[92]\ttrain-rmse:1136.01931\ttest-rmse:1129.34385\n",
            "[93]\ttrain-rmse:1124.20648\ttest-rmse:1117.73430\n",
            "[94]\ttrain-rmse:1112.63165\ttest-rmse:1106.08046\n",
            "[95]\ttrain-rmse:1101.18185\ttest-rmse:1094.68223\n",
            "[96]\ttrain-rmse:1089.93763\ttest-rmse:1083.53706\n",
            "[97]\ttrain-rmse:1079.44944\ttest-rmse:1073.06196\n",
            "[98]\ttrain-rmse:1069.50497\ttest-rmse:1063.41674\n",
            "[99]\ttrain-rmse:1058.47649\ttest-rmse:1052.58100\n"
          ]
        },
        {
          "output_type": "display_data",
          "data": {
            "text/plain": [
              "VBox(children=(Label(value='0.002 MB of 0.002 MB uploaded\\r'), FloatProgress(value=1.0, max=1.0)))"
            ],
            "application/vnd.jupyter.widget-view+json": {
              "version_major": 2,
              "version_minor": 0,
              "model_id": "6c0a25ca5eba44e4a404984bc26b5ddb"
            }
          },
          "metadata": {}
        },
        {
          "output_type": "display_data",
          "data": {
            "text/plain": [
              "<IPython.core.display.HTML object>"
            ],
            "text/html": [
              "<style>\n",
              "    table.wandb td:nth-child(1) { padding: 0 10px; text-align: left ; width: auto;} td:nth-child(2) {text-align: left ; width: 100%}\n",
              "    .wandb-row { display: flex; flex-direction: row; flex-wrap: wrap; justify-content: flex-start; width: 100% }\n",
              "    .wandb-col { display: flex; flex-direction: column; flex-basis: 100%; flex: 1; padding: 10px; }\n",
              "    </style>\n",
              "<div class=\"wandb-row\"><div class=\"wandb-col\"><h3>Run history:</h3><br/><table class=\"wandb\"><tr><td>rmse</td><td>▁</td></tr></table><br/></div><div class=\"wandb-col\"><h3>Run summary:</h3><br/><table class=\"wandb\"><tr><td>rmse</td><td>1052.581</td></tr></table><br/></div></div>"
            ]
          },
          "metadata": {}
        },
        {
          "output_type": "display_data",
          "data": {
            "text/plain": [
              "<IPython.core.display.HTML object>"
            ],
            "text/html": [
              " View run <strong style=\"color:#cdcd00\">crimson-sweep-50</strong> at: <a href='https://wandb.ai/devambani/xgboost_diamonds_sweep_experiments/runs/780qruvn' target=\"_blank\">https://wandb.ai/devambani/xgboost_diamonds_sweep_experiments/runs/780qruvn</a><br/> View project at: <a href='https://wandb.ai/devambani/xgboost_diamonds_sweep_experiments' target=\"_blank\">https://wandb.ai/devambani/xgboost_diamonds_sweep_experiments</a><br/>Synced 5 W&B file(s), 0 media file(s), 0 artifact file(s) and 0 other file(s)"
            ]
          },
          "metadata": {}
        },
        {
          "output_type": "display_data",
          "data": {
            "text/plain": [
              "<IPython.core.display.HTML object>"
            ],
            "text/html": [
              "Find logs at: <code>./wandb/run-20240423_025847-780qruvn/logs</code>"
            ]
          },
          "metadata": {}
        },
        {
          "output_type": "stream",
          "name": "stderr",
          "text": [
            "\u001b[34m\u001b[1mwandb\u001b[0m: Sweep Agent: Waiting for job.\n",
            "\u001b[34m\u001b[1mwandb\u001b[0m: Job received.\n",
            "\u001b[34m\u001b[1mwandb\u001b[0m: Agent Starting Run: rqggsxcq with config:\n",
            "\u001b[34m\u001b[1mwandb\u001b[0m: \tcolsample_bytree: 0.7722824501212442\n",
            "\u001b[34m\u001b[1mwandb\u001b[0m: \tlearning_rate: 0.06274388963310655\n",
            "\u001b[34m\u001b[1mwandb\u001b[0m: \tmax_depth: 3\n",
            "\u001b[34m\u001b[1mwandb\u001b[0m: \tn_estimators: 50\n",
            "\u001b[34m\u001b[1mwandb\u001b[0m: \tsubsample: 0.7428567950395064\n"
          ]
        },
        {
          "output_type": "display_data",
          "data": {
            "text/plain": [
              "<IPython.core.display.HTML object>"
            ],
            "text/html": [
              "Tracking run with wandb version 0.16.6"
            ]
          },
          "metadata": {}
        },
        {
          "output_type": "display_data",
          "data": {
            "text/plain": [
              "<IPython.core.display.HTML object>"
            ],
            "text/html": [
              "Run data is saved locally in <code>/content/wandb/run-20240423_025909-rqggsxcq</code>"
            ]
          },
          "metadata": {}
        },
        {
          "output_type": "display_data",
          "data": {
            "text/plain": [
              "<IPython.core.display.HTML object>"
            ],
            "text/html": [
              "Syncing run <strong><a href='https://wandb.ai/devambani/xgboost_diamonds_sweep_experiments/runs/rqggsxcq' target=\"_blank\">iconic-sweep-51</a></strong> to <a href='https://wandb.ai/devambani/xgboost_diamonds_sweep_experiments' target=\"_blank\">Weights & Biases</a> (<a href='https://wandb.me/run' target=\"_blank\">docs</a>)<br/>Sweep page: <a href='https://wandb.ai/devambani/xgboost_diamonds_sweep_experiments/sweeps/y3o2ro2k' target=\"_blank\">https://wandb.ai/devambani/xgboost_diamonds_sweep_experiments/sweeps/y3o2ro2k</a>"
            ]
          },
          "metadata": {}
        },
        {
          "output_type": "display_data",
          "data": {
            "text/plain": [
              "<IPython.core.display.HTML object>"
            ],
            "text/html": [
              " View project at <a href='https://wandb.ai/devambani/xgboost_diamonds_sweep_experiments' target=\"_blank\">https://wandb.ai/devambani/xgboost_diamonds_sweep_experiments</a>"
            ]
          },
          "metadata": {}
        },
        {
          "output_type": "display_data",
          "data": {
            "text/plain": [
              "<IPython.core.display.HTML object>"
            ],
            "text/html": [
              " View sweep at <a href='https://wandb.ai/devambani/xgboost_diamonds_sweep_experiments/sweeps/y3o2ro2k' target=\"_blank\">https://wandb.ai/devambani/xgboost_diamonds_sweep_experiments/sweeps/y3o2ro2k</a>"
            ]
          },
          "metadata": {}
        },
        {
          "output_type": "display_data",
          "data": {
            "text/plain": [
              "<IPython.core.display.HTML object>"
            ],
            "text/html": [
              " View run at <a href='https://wandb.ai/devambani/xgboost_diamonds_sweep_experiments/runs/rqggsxcq' target=\"_blank\">https://wandb.ai/devambani/xgboost_diamonds_sweep_experiments/runs/rqggsxcq</a>"
            ]
          },
          "metadata": {}
        },
        {
          "output_type": "stream",
          "name": "stdout",
          "text": [
            "[0]\ttrain-rmse:3772.84706\ttest-rmse:3768.06582\n",
            "[1]\ttrain-rmse:3566.85814\ttest-rmse:3560.61932\n",
            "[2]\ttrain-rmse:3375.00660\ttest-rmse:3367.53809\n",
            "[3]\ttrain-rmse:3201.05854\ttest-rmse:3193.23097\n",
            "[4]\ttrain-rmse:3039.28986\ttest-rmse:3029.93402\n",
            "[5]\ttrain-rmse:2885.29869\ttest-rmse:2875.52406\n",
            "[6]\ttrain-rmse:2746.01772\ttest-rmse:2735.03697\n",
            "[7]\ttrain-rmse:2615.93934\ttest-rmse:2604.89414\n",
            "[8]\ttrain-rmse:2491.63433\ttest-rmse:2479.78885\n",
            "[9]\ttrain-rmse:2374.14115\ttest-rmse:2361.11733\n",
            "[10]\ttrain-rmse:2272.18105\ttest-rmse:2258.49072\n",
            "[11]\ttrain-rmse:2168.23951\ttest-rmse:2153.39308\n",
            "[12]\ttrain-rmse:2076.45631\ttest-rmse:2062.08367\n",
            "[13]\ttrain-rmse:1991.01552\ttest-rmse:1976.50702\n",
            "[14]\ttrain-rmse:1916.72984\ttest-rmse:1901.87752\n",
            "[15]\ttrain-rmse:1842.98222\ttest-rmse:1828.29790\n",
            "[16]\ttrain-rmse:1774.16528\ttest-rmse:1759.33315\n",
            "[17]\ttrain-rmse:1706.78750\ttest-rmse:1692.00217\n",
            "[18]\ttrain-rmse:1648.07819\ttest-rmse:1633.91852\n",
            "[19]\ttrain-rmse:1593.58578\ttest-rmse:1580.23514\n",
            "[20]\ttrain-rmse:1545.37224\ttest-rmse:1532.27449\n",
            "[21]\ttrain-rmse:1495.98553\ttest-rmse:1483.51072\n",
            "[22]\ttrain-rmse:1450.98319\ttest-rmse:1439.11022\n",
            "[23]\ttrain-rmse:1409.93668\ttest-rmse:1398.79161\n",
            "[24]\ttrain-rmse:1366.76757\ttest-rmse:1355.05056\n",
            "[25]\ttrain-rmse:1325.50707\ttest-rmse:1313.05865\n",
            "[26]\ttrain-rmse:1288.32544\ttest-rmse:1276.30000\n",
            "[27]\ttrain-rmse:1258.52576\ttest-rmse:1246.72319\n",
            "[28]\ttrain-rmse:1228.63350\ttest-rmse:1216.74420\n",
            "[29]\ttrain-rmse:1199.70789\ttest-rmse:1188.40728\n",
            "[30]\ttrain-rmse:1175.32940\ttest-rmse:1163.41492\n",
            "[31]\ttrain-rmse:1148.82693\ttest-rmse:1137.16220\n",
            "[32]\ttrain-rmse:1126.79388\ttest-rmse:1114.92471\n",
            "[33]\ttrain-rmse:1105.76641\ttest-rmse:1093.94943\n",
            "[34]\ttrain-rmse:1085.75944\ttest-rmse:1072.83500\n",
            "[35]\ttrain-rmse:1068.37383\ttest-rmse:1055.44507\n",
            "[36]\ttrain-rmse:1051.10922\ttest-rmse:1038.36215\n",
            "[37]\ttrain-rmse:1036.02146\ttest-rmse:1023.54701\n",
            "[38]\ttrain-rmse:1021.77554\ttest-rmse:1009.10217\n",
            "[39]\ttrain-rmse:1007.39992\ttest-rmse:994.77239\n",
            "[40]\ttrain-rmse:994.05322\ttest-rmse:981.25826\n",
            "[41]\ttrain-rmse:980.63981\ttest-rmse:966.89702\n",
            "[42]\ttrain-rmse:969.14439\ttest-rmse:955.41891\n",
            "[43]\ttrain-rmse:955.53524\ttest-rmse:942.48591\n",
            "[44]\ttrain-rmse:946.43164\ttest-rmse:933.09011\n",
            "[45]\ttrain-rmse:940.64469\ttest-rmse:927.20167\n",
            "[46]\ttrain-rmse:932.03363\ttest-rmse:918.69067\n",
            "[47]\ttrain-rmse:922.10444\ttest-rmse:908.36188\n",
            "[48]\ttrain-rmse:917.39349\ttest-rmse:904.11578\n",
            "[49]\ttrain-rmse:910.26480\ttest-rmse:897.04350\n",
            "[50]\ttrain-rmse:903.02335\ttest-rmse:890.21472\n",
            "[51]\ttrain-rmse:893.38620\ttest-rmse:880.64229\n",
            "[52]\ttrain-rmse:880.10903\ttest-rmse:868.32172\n",
            "[53]\ttrain-rmse:870.49690\ttest-rmse:859.28878\n",
            "[54]\ttrain-rmse:866.80725\ttest-rmse:855.75904\n",
            "[55]\ttrain-rmse:861.21418\ttest-rmse:850.45015\n",
            "[56]\ttrain-rmse:851.11918\ttest-rmse:839.56586\n",
            "[57]\ttrain-rmse:841.28160\ttest-rmse:830.06878\n",
            "[58]\ttrain-rmse:832.36672\ttest-rmse:821.87831\n",
            "[59]\ttrain-rmse:825.27122\ttest-rmse:814.64091\n",
            "[60]\ttrain-rmse:820.60524\ttest-rmse:809.66637\n",
            "[61]\ttrain-rmse:813.16082\ttest-rmse:800.93560\n",
            "[62]\ttrain-rmse:809.02269\ttest-rmse:796.59754\n",
            "[63]\ttrain-rmse:806.22575\ttest-rmse:794.33330\n",
            "[64]\ttrain-rmse:803.78224\ttest-rmse:792.53973\n",
            "[65]\ttrain-rmse:796.11871\ttest-rmse:785.58171\n",
            "[66]\ttrain-rmse:791.51578\ttest-rmse:781.33592\n",
            "[67]\ttrain-rmse:786.53112\ttest-rmse:776.49797\n",
            "[68]\ttrain-rmse:781.63870\ttest-rmse:771.96216\n",
            "[69]\ttrain-rmse:777.04881\ttest-rmse:767.82957\n",
            "[70]\ttrain-rmse:772.61744\ttest-rmse:763.87149\n",
            "[71]\ttrain-rmse:767.25332\ttest-rmse:757.96249\n",
            "[72]\ttrain-rmse:763.39182\ttest-rmse:753.97913\n",
            "[73]\ttrain-rmse:759.92524\ttest-rmse:750.25121\n",
            "[74]\ttrain-rmse:753.69558\ttest-rmse:744.71771\n",
            "[75]\ttrain-rmse:749.36364\ttest-rmse:739.65560\n",
            "[76]\ttrain-rmse:743.50459\ttest-rmse:734.12170\n",
            "[77]\ttrain-rmse:740.32147\ttest-rmse:731.25574\n",
            "[78]\ttrain-rmse:737.21556\ttest-rmse:728.17814\n",
            "[79]\ttrain-rmse:733.59948\ttest-rmse:724.19624\n",
            "[80]\ttrain-rmse:729.14060\ttest-rmse:719.93806\n",
            "[81]\ttrain-rmse:724.73288\ttest-rmse:716.44469\n",
            "[82]\ttrain-rmse:721.95345\ttest-rmse:713.98381\n",
            "[83]\ttrain-rmse:718.23161\ttest-rmse:710.34657\n",
            "[84]\ttrain-rmse:715.83508\ttest-rmse:708.32515\n",
            "[85]\ttrain-rmse:714.42703\ttest-rmse:707.07123\n",
            "[86]\ttrain-rmse:710.67786\ttest-rmse:703.31063\n",
            "[87]\ttrain-rmse:707.98074\ttest-rmse:701.19914\n",
            "[88]\ttrain-rmse:705.54918\ttest-rmse:699.06137\n",
            "[89]\ttrain-rmse:702.20674\ttest-rmse:695.14366\n",
            "[90]\ttrain-rmse:699.92359\ttest-rmse:693.06843\n",
            "[91]\ttrain-rmse:697.93826\ttest-rmse:691.38552\n",
            "[92]\ttrain-rmse:694.93401\ttest-rmse:688.12917\n",
            "[93]\ttrain-rmse:692.71159\ttest-rmse:685.97867\n",
            "[94]\ttrain-rmse:689.45812\ttest-rmse:682.93250\n",
            "[95]\ttrain-rmse:687.20387\ttest-rmse:679.97328\n",
            "[96]\ttrain-rmse:684.25501\ttest-rmse:677.08559\n",
            "[97]\ttrain-rmse:682.37623\ttest-rmse:675.44065\n",
            "[98]\ttrain-rmse:680.68716\ttest-rmse:674.00290\n",
            "[99]\ttrain-rmse:677.73450\ttest-rmse:671.69553\n"
          ]
        },
        {
          "output_type": "display_data",
          "data": {
            "text/plain": [
              "VBox(children=(Label(value='0.002 MB of 0.002 MB uploaded\\r'), FloatProgress(value=1.0, max=1.0)))"
            ],
            "application/vnd.jupyter.widget-view+json": {
              "version_major": 2,
              "version_minor": 0,
              "model_id": "022bfceb400a465fa90a23a2f7865fc4"
            }
          },
          "metadata": {}
        },
        {
          "output_type": "display_data",
          "data": {
            "text/plain": [
              "<IPython.core.display.HTML object>"
            ],
            "text/html": [
              "<style>\n",
              "    table.wandb td:nth-child(1) { padding: 0 10px; text-align: left ; width: auto;} td:nth-child(2) {text-align: left ; width: 100%}\n",
              "    .wandb-row { display: flex; flex-direction: row; flex-wrap: wrap; justify-content: flex-start; width: 100% }\n",
              "    .wandb-col { display: flex; flex-direction: column; flex-basis: 100%; flex: 1; padding: 10px; }\n",
              "    </style>\n",
              "<div class=\"wandb-row\"><div class=\"wandb-col\"><h3>Run history:</h3><br/><table class=\"wandb\"><tr><td>rmse</td><td>▁</td></tr></table><br/></div><div class=\"wandb-col\"><h3>Run summary:</h3><br/><table class=\"wandb\"><tr><td>rmse</td><td>671.69553</td></tr></table><br/></div></div>"
            ]
          },
          "metadata": {}
        },
        {
          "output_type": "display_data",
          "data": {
            "text/plain": [
              "<IPython.core.display.HTML object>"
            ],
            "text/html": [
              " View run <strong style=\"color:#cdcd00\">iconic-sweep-51</strong> at: <a href='https://wandb.ai/devambani/xgboost_diamonds_sweep_experiments/runs/rqggsxcq' target=\"_blank\">https://wandb.ai/devambani/xgboost_diamonds_sweep_experiments/runs/rqggsxcq</a><br/> View project at: <a href='https://wandb.ai/devambani/xgboost_diamonds_sweep_experiments' target=\"_blank\">https://wandb.ai/devambani/xgboost_diamonds_sweep_experiments</a><br/>Synced 5 W&B file(s), 0 media file(s), 0 artifact file(s) and 0 other file(s)"
            ]
          },
          "metadata": {}
        },
        {
          "output_type": "display_data",
          "data": {
            "text/plain": [
              "<IPython.core.display.HTML object>"
            ],
            "text/html": [
              "Find logs at: <code>./wandb/run-20240423_025909-rqggsxcq/logs</code>"
            ]
          },
          "metadata": {}
        },
        {
          "output_type": "stream",
          "name": "stderr",
          "text": [
            "\u001b[34m\u001b[1mwandb\u001b[0m: Agent Starting Run: cgi44bo8 with config:\n",
            "\u001b[34m\u001b[1mwandb\u001b[0m: \tcolsample_bytree: 0.8229560195906361\n",
            "\u001b[34m\u001b[1mwandb\u001b[0m: \tlearning_rate: 0.03866340342755223\n",
            "\u001b[34m\u001b[1mwandb\u001b[0m: \tmax_depth: 9\n",
            "\u001b[34m\u001b[1mwandb\u001b[0m: \tn_estimators: 150\n",
            "\u001b[34m\u001b[1mwandb\u001b[0m: \tsubsample: 0.8197204198311758\n"
          ]
        },
        {
          "output_type": "display_data",
          "data": {
            "text/plain": [
              "<IPython.core.display.HTML object>"
            ],
            "text/html": [
              "Tracking run with wandb version 0.16.6"
            ]
          },
          "metadata": {}
        },
        {
          "output_type": "display_data",
          "data": {
            "text/plain": [
              "<IPython.core.display.HTML object>"
            ],
            "text/html": [
              "Run data is saved locally in <code>/content/wandb/run-20240423_025921-cgi44bo8</code>"
            ]
          },
          "metadata": {}
        },
        {
          "output_type": "display_data",
          "data": {
            "text/plain": [
              "<IPython.core.display.HTML object>"
            ],
            "text/html": [
              "Syncing run <strong><a href='https://wandb.ai/devambani/xgboost_diamonds_sweep_experiments/runs/cgi44bo8' target=\"_blank\">fluent-sweep-52</a></strong> to <a href='https://wandb.ai/devambani/xgboost_diamonds_sweep_experiments' target=\"_blank\">Weights & Biases</a> (<a href='https://wandb.me/run' target=\"_blank\">docs</a>)<br/>Sweep page: <a href='https://wandb.ai/devambani/xgboost_diamonds_sweep_experiments/sweeps/y3o2ro2k' target=\"_blank\">https://wandb.ai/devambani/xgboost_diamonds_sweep_experiments/sweeps/y3o2ro2k</a>"
            ]
          },
          "metadata": {}
        },
        {
          "output_type": "display_data",
          "data": {
            "text/plain": [
              "<IPython.core.display.HTML object>"
            ],
            "text/html": [
              " View project at <a href='https://wandb.ai/devambani/xgboost_diamonds_sweep_experiments' target=\"_blank\">https://wandb.ai/devambani/xgboost_diamonds_sweep_experiments</a>"
            ]
          },
          "metadata": {}
        },
        {
          "output_type": "display_data",
          "data": {
            "text/plain": [
              "<IPython.core.display.HTML object>"
            ],
            "text/html": [
              " View sweep at <a href='https://wandb.ai/devambani/xgboost_diamonds_sweep_experiments/sweeps/y3o2ro2k' target=\"_blank\">https://wandb.ai/devambani/xgboost_diamonds_sweep_experiments/sweeps/y3o2ro2k</a>"
            ]
          },
          "metadata": {}
        },
        {
          "output_type": "display_data",
          "data": {
            "text/plain": [
              "<IPython.core.display.HTML object>"
            ],
            "text/html": [
              " View run at <a href='https://wandb.ai/devambani/xgboost_diamonds_sweep_experiments/runs/cgi44bo8' target=\"_blank\">https://wandb.ai/devambani/xgboost_diamonds_sweep_experiments/runs/cgi44bo8</a>"
            ]
          },
          "metadata": {}
        },
        {
          "output_type": "stream",
          "name": "stdout",
          "text": [
            "[0]\ttrain-rmse:3849.43909\ttest-rmse:3846.69199\n",
            "[1]\ttrain-rmse:3710.61997\ttest-rmse:3707.70953\n",
            "[2]\ttrain-rmse:3577.34068\ttest-rmse:3574.02321\n",
            "[3]\ttrain-rmse:3444.63904\ttest-rmse:3441.49818\n",
            "[4]\ttrain-rmse:3321.44281\ttest-rmse:3318.39494\n",
            "[5]\ttrain-rmse:3198.76177\ttest-rmse:3195.69174\n",
            "[6]\ttrain-rmse:3091.87192\ttest-rmse:3088.51852\n",
            "[7]\ttrain-rmse:2977.92942\ttest-rmse:2974.89596\n",
            "[8]\ttrain-rmse:2868.59624\ttest-rmse:2865.74386\n",
            "[9]\ttrain-rmse:2763.67267\ttest-rmse:2760.97001\n",
            "[10]\ttrain-rmse:2669.78757\ttest-rmse:2667.22788\n",
            "[11]\ttrain-rmse:2572.40973\ttest-rmse:2570.25939\n",
            "[12]\ttrain-rmse:2479.21458\ttest-rmse:2477.00613\n",
            "[13]\ttrain-rmse:2389.80522\ttest-rmse:2388.31889\n",
            "[14]\ttrain-rmse:2312.99525\ttest-rmse:2311.78385\n",
            "[15]\ttrain-rmse:2229.86179\ttest-rmse:2229.04522\n",
            "[16]\ttrain-rmse:2150.16735\ttest-rmse:2149.72384\n",
            "[17]\ttrain-rmse:2073.80113\ttest-rmse:2073.96607\n",
            "[18]\ttrain-rmse:2000.06696\ttest-rmse:2000.40522\n",
            "[19]\ttrain-rmse:1929.61073\ttest-rmse:1930.75403\n",
            "[20]\ttrain-rmse:1866.90700\ttest-rmse:1868.34406\n",
            "[21]\ttrain-rmse:1804.91561\ttest-rmse:1807.23100\n",
            "[22]\ttrain-rmse:1745.36753\ttest-rmse:1748.39798\n",
            "[23]\ttrain-rmse:1685.12882\ttest-rmse:1688.71479\n",
            "[24]\ttrain-rmse:1627.40671\ttest-rmse:1631.70127\n",
            "[25]\ttrain-rmse:1571.61266\ttest-rmse:1576.84423\n",
            "[26]\ttrain-rmse:1518.45329\ttest-rmse:1524.33421\n",
            "[27]\ttrain-rmse:1471.75000\ttest-rmse:1478.47533\n",
            "[28]\ttrain-rmse:1425.56430\ttest-rmse:1433.43705\n",
            "[29]\ttrain-rmse:1378.53861\ttest-rmse:1387.43945\n",
            "[30]\ttrain-rmse:1337.27951\ttest-rmse:1347.02197\n",
            "[31]\ttrain-rmse:1293.87702\ttest-rmse:1304.70023\n",
            "[32]\ttrain-rmse:1252.34918\ttest-rmse:1264.62566\n",
            "[33]\ttrain-rmse:1212.28313\ttest-rmse:1225.68899\n",
            "[34]\ttrain-rmse:1174.24175\ttest-rmse:1188.68672\n",
            "[35]\ttrain-rmse:1137.94214\ttest-rmse:1153.65960\n",
            "[36]\ttrain-rmse:1103.00228\ttest-rmse:1120.27203\n",
            "[37]\ttrain-rmse:1072.85421\ttest-rmse:1091.30289\n",
            "[38]\ttrain-rmse:1044.12506\ttest-rmse:1063.77365\n",
            "[39]\ttrain-rmse:1015.37915\ttest-rmse:1036.50917\n",
            "[40]\ttrain-rmse:985.74396\ttest-rmse:1008.46544\n",
            "[41]\ttrain-rmse:957.61104\ttest-rmse:981.63722\n",
            "[42]\ttrain-rmse:933.59677\ttest-rmse:959.23331\n",
            "[43]\ttrain-rmse:907.95165\ttest-rmse:935.35297\n",
            "[44]\ttrain-rmse:883.13532\ttest-rmse:912.17605\n",
            "[45]\ttrain-rmse:861.28402\ttest-rmse:891.89495\n",
            "[46]\ttrain-rmse:838.63109\ttest-rmse:870.67558\n",
            "[47]\ttrain-rmse:817.22307\ttest-rmse:850.52086\n",
            "[48]\ttrain-rmse:800.16937\ttest-rmse:834.95543\n",
            "[49]\ttrain-rmse:780.35501\ttest-rmse:816.88213\n",
            "[50]\ttrain-rmse:763.68329\ttest-rmse:801.87286\n",
            "[51]\ttrain-rmse:745.85733\ttest-rmse:785.35916\n",
            "[52]\ttrain-rmse:728.76810\ttest-rmse:769.63431\n",
            "[53]\ttrain-rmse:712.55106\ttest-rmse:754.89999\n",
            "[54]\ttrain-rmse:698.55947\ttest-rmse:742.73285\n",
            "[55]\ttrain-rmse:685.55993\ttest-rmse:731.48977\n",
            "[56]\ttrain-rmse:671.33446\ttest-rmse:718.82481\n",
            "[57]\ttrain-rmse:657.67411\ttest-rmse:706.44587\n",
            "[58]\ttrain-rmse:644.97450\ttest-rmse:695.09523\n",
            "[59]\ttrain-rmse:632.72208\ttest-rmse:684.54694\n",
            "[60]\ttrain-rmse:622.84470\ttest-rmse:676.15879\n",
            "[61]\ttrain-rmse:611.47954\ttest-rmse:666.39858\n",
            "[62]\ttrain-rmse:600.97425\ttest-rmse:657.38376\n",
            "[63]\ttrain-rmse:592.08174\ttest-rmse:650.48830\n",
            "[64]\ttrain-rmse:583.77802\ttest-rmse:643.79467\n",
            "[65]\ttrain-rmse:574.68914\ttest-rmse:636.31231\n",
            "[66]\ttrain-rmse:566.95188\ttest-rmse:630.15954\n",
            "[67]\ttrain-rmse:558.60657\ttest-rmse:623.79338\n",
            "[68]\ttrain-rmse:550.53755\ttest-rmse:617.37010\n",
            "[69]\ttrain-rmse:543.94504\ttest-rmse:612.31593\n",
            "[70]\ttrain-rmse:537.94978\ttest-rmse:607.62355\n",
            "[71]\ttrain-rmse:531.25111\ttest-rmse:602.14774\n",
            "[72]\ttrain-rmse:524.67305\ttest-rmse:597.13608\n",
            "[73]\ttrain-rmse:518.73301\ttest-rmse:592.42532\n",
            "[74]\ttrain-rmse:513.12650\ttest-rmse:588.22111\n",
            "[75]\ttrain-rmse:507.74876\ttest-rmse:584.39900\n",
            "[76]\ttrain-rmse:502.34226\ttest-rmse:580.68767\n",
            "[77]\ttrain-rmse:497.50248\ttest-rmse:577.09194\n",
            "[78]\ttrain-rmse:493.04191\ttest-rmse:573.85455\n",
            "[79]\ttrain-rmse:488.09557\ttest-rmse:570.66540\n",
            "[80]\ttrain-rmse:483.75508\ttest-rmse:567.77616\n",
            "[81]\ttrain-rmse:479.72015\ttest-rmse:565.37726\n",
            "[82]\ttrain-rmse:476.46791\ttest-rmse:563.42989\n",
            "[83]\ttrain-rmse:472.66524\ttest-rmse:561.15113\n",
            "[84]\ttrain-rmse:469.33699\ttest-rmse:558.86261\n",
            "[85]\ttrain-rmse:466.44021\ttest-rmse:557.30318\n",
            "[86]\ttrain-rmse:463.42356\ttest-rmse:555.30378\n",
            "[87]\ttrain-rmse:460.18940\ttest-rmse:553.23174\n",
            "[88]\ttrain-rmse:457.73143\ttest-rmse:551.86500\n",
            "[89]\ttrain-rmse:454.82666\ttest-rmse:550.12672\n",
            "[90]\ttrain-rmse:452.57334\ttest-rmse:549.26199\n",
            "[91]\ttrain-rmse:450.64805\ttest-rmse:548.29432\n",
            "[92]\ttrain-rmse:447.87251\ttest-rmse:546.55713\n",
            "[93]\ttrain-rmse:445.39784\ttest-rmse:545.26268\n",
            "[94]\ttrain-rmse:443.05973\ttest-rmse:544.16176\n",
            "[95]\ttrain-rmse:441.09858\ttest-rmse:543.18062\n",
            "[96]\ttrain-rmse:438.93361\ttest-rmse:542.05281\n",
            "[97]\ttrain-rmse:436.99100\ttest-rmse:541.29832\n",
            "[98]\ttrain-rmse:435.00498\ttest-rmse:540.70757\n",
            "[99]\ttrain-rmse:432.81709\ttest-rmse:539.73536\n"
          ]
        },
        {
          "output_type": "display_data",
          "data": {
            "text/plain": [
              "VBox(children=(Label(value='0.002 MB of 0.002 MB uploaded\\r'), FloatProgress(value=1.0, max=1.0)))"
            ],
            "application/vnd.jupyter.widget-view+json": {
              "version_major": 2,
              "version_minor": 0,
              "model_id": "9cfb38855f6d477fb7be75211340e1f1"
            }
          },
          "metadata": {}
        },
        {
          "output_type": "display_data",
          "data": {
            "text/plain": [
              "<IPython.core.display.HTML object>"
            ],
            "text/html": [
              "<style>\n",
              "    table.wandb td:nth-child(1) { padding: 0 10px; text-align: left ; width: auto;} td:nth-child(2) {text-align: left ; width: 100%}\n",
              "    .wandb-row { display: flex; flex-direction: row; flex-wrap: wrap; justify-content: flex-start; width: 100% }\n",
              "    .wandb-col { display: flex; flex-direction: column; flex-basis: 100%; flex: 1; padding: 10px; }\n",
              "    </style>\n",
              "<div class=\"wandb-row\"><div class=\"wandb-col\"><h3>Run history:</h3><br/><table class=\"wandb\"><tr><td>rmse</td><td>▁</td></tr></table><br/></div><div class=\"wandb-col\"><h3>Run summary:</h3><br/><table class=\"wandb\"><tr><td>rmse</td><td>539.73536</td></tr></table><br/></div></div>"
            ]
          },
          "metadata": {}
        },
        {
          "output_type": "display_data",
          "data": {
            "text/plain": [
              "<IPython.core.display.HTML object>"
            ],
            "text/html": [
              " View run <strong style=\"color:#cdcd00\">fluent-sweep-52</strong> at: <a href='https://wandb.ai/devambani/xgboost_diamonds_sweep_experiments/runs/cgi44bo8' target=\"_blank\">https://wandb.ai/devambani/xgboost_diamonds_sweep_experiments/runs/cgi44bo8</a><br/> View project at: <a href='https://wandb.ai/devambani/xgboost_diamonds_sweep_experiments' target=\"_blank\">https://wandb.ai/devambani/xgboost_diamonds_sweep_experiments</a><br/>Synced 5 W&B file(s), 0 media file(s), 0 artifact file(s) and 0 other file(s)"
            ]
          },
          "metadata": {}
        },
        {
          "output_type": "display_data",
          "data": {
            "text/plain": [
              "<IPython.core.display.HTML object>"
            ],
            "text/html": [
              "Find logs at: <code>./wandb/run-20240423_025921-cgi44bo8/logs</code>"
            ]
          },
          "metadata": {}
        },
        {
          "output_type": "stream",
          "name": "stderr",
          "text": [
            "\u001b[34m\u001b[1mwandb\u001b[0m: Agent Starting Run: xt6kzha3 with config:\n",
            "\u001b[34m\u001b[1mwandb\u001b[0m: \tcolsample_bytree: 0.8335758643543822\n",
            "\u001b[34m\u001b[1mwandb\u001b[0m: \tlearning_rate: 0.039241697342633275\n",
            "\u001b[34m\u001b[1mwandb\u001b[0m: \tmax_depth: 7\n",
            "\u001b[34m\u001b[1mwandb\u001b[0m: \tn_estimators: 200\n",
            "\u001b[34m\u001b[1mwandb\u001b[0m: \tsubsample: 0.8407352799453298\n"
          ]
        },
        {
          "output_type": "display_data",
          "data": {
            "text/plain": [
              "<IPython.core.display.HTML object>"
            ],
            "text/html": [
              "Tracking run with wandb version 0.16.6"
            ]
          },
          "metadata": {}
        },
        {
          "output_type": "display_data",
          "data": {
            "text/plain": [
              "<IPython.core.display.HTML object>"
            ],
            "text/html": [
              "Run data is saved locally in <code>/content/wandb/run-20240423_025936-xt6kzha3</code>"
            ]
          },
          "metadata": {}
        },
        {
          "output_type": "display_data",
          "data": {
            "text/plain": [
              "<IPython.core.display.HTML object>"
            ],
            "text/html": [
              "Syncing run <strong><a href='https://wandb.ai/devambani/xgboost_diamonds_sweep_experiments/runs/xt6kzha3' target=\"_blank\">ethereal-sweep-53</a></strong> to <a href='https://wandb.ai/devambani/xgboost_diamonds_sweep_experiments' target=\"_blank\">Weights & Biases</a> (<a href='https://wandb.me/run' target=\"_blank\">docs</a>)<br/>Sweep page: <a href='https://wandb.ai/devambani/xgboost_diamonds_sweep_experiments/sweeps/y3o2ro2k' target=\"_blank\">https://wandb.ai/devambani/xgboost_diamonds_sweep_experiments/sweeps/y3o2ro2k</a>"
            ]
          },
          "metadata": {}
        },
        {
          "output_type": "display_data",
          "data": {
            "text/plain": [
              "<IPython.core.display.HTML object>"
            ],
            "text/html": [
              " View project at <a href='https://wandb.ai/devambani/xgboost_diamonds_sweep_experiments' target=\"_blank\">https://wandb.ai/devambani/xgboost_diamonds_sweep_experiments</a>"
            ]
          },
          "metadata": {}
        },
        {
          "output_type": "display_data",
          "data": {
            "text/plain": [
              "<IPython.core.display.HTML object>"
            ],
            "text/html": [
              " View sweep at <a href='https://wandb.ai/devambani/xgboost_diamonds_sweep_experiments/sweeps/y3o2ro2k' target=\"_blank\">https://wandb.ai/devambani/xgboost_diamonds_sweep_experiments/sweeps/y3o2ro2k</a>"
            ]
          },
          "metadata": {}
        },
        {
          "output_type": "display_data",
          "data": {
            "text/plain": [
              "<IPython.core.display.HTML object>"
            ],
            "text/html": [
              " View run at <a href='https://wandb.ai/devambani/xgboost_diamonds_sweep_experiments/runs/xt6kzha3' target=\"_blank\">https://wandb.ai/devambani/xgboost_diamonds_sweep_experiments/runs/xt6kzha3</a>"
            ]
          },
          "metadata": {}
        },
        {
          "output_type": "stream",
          "name": "stdout",
          "text": [
            "[0]\ttrain-rmse:3847.84663\ttest-rmse:3844.97378\n",
            "[1]\ttrain-rmse:3707.60784\ttest-rmse:3704.43155\n",
            "[2]\ttrain-rmse:3572.93588\ttest-rmse:3569.28344\n",
            "[3]\ttrain-rmse:3439.57777\ttest-rmse:3436.09836\n",
            "[4]\ttrain-rmse:3315.25747\ttest-rmse:3311.60829\n",
            "[5]\ttrain-rmse:3192.32198\ttest-rmse:3188.32337\n",
            "[6]\ttrain-rmse:3084.80818\ttest-rmse:3080.38848\n",
            "[7]\ttrain-rmse:2970.71170\ttest-rmse:2966.25508\n",
            "[8]\ttrain-rmse:2861.36460\ttest-rmse:2856.19145\n",
            "[9]\ttrain-rmse:2756.68798\ttest-rmse:2751.15717\n",
            "[10]\ttrain-rmse:2662.53124\ttest-rmse:2656.57164\n",
            "[11]\ttrain-rmse:2565.49679\ttest-rmse:2559.62709\n",
            "[12]\ttrain-rmse:2472.49759\ttest-rmse:2466.23174\n",
            "[13]\ttrain-rmse:2383.82666\ttest-rmse:2377.83730\n",
            "[14]\ttrain-rmse:2307.25061\ttest-rmse:2300.98391\n",
            "[15]\ttrain-rmse:2224.60388\ttest-rmse:2218.61436\n",
            "[16]\ttrain-rmse:2145.38092\ttest-rmse:2139.67216\n",
            "[17]\ttrain-rmse:2069.58533\ttest-rmse:2064.33309\n",
            "[18]\ttrain-rmse:1996.31029\ttest-rmse:1991.38115\n",
            "[19]\ttrain-rmse:1926.64007\ttest-rmse:1921.76205\n",
            "[20]\ttrain-rmse:1864.28791\ttest-rmse:1859.36380\n",
            "[21]\ttrain-rmse:1802.62501\ttest-rmse:1798.43020\n",
            "[22]\ttrain-rmse:1743.59909\ttest-rmse:1739.96287\n",
            "[23]\ttrain-rmse:1684.30048\ttest-rmse:1681.09517\n",
            "[24]\ttrain-rmse:1627.66755\ttest-rmse:1624.34200\n",
            "[25]\ttrain-rmse:1572.74630\ttest-rmse:1570.13051\n",
            "[26]\ttrain-rmse:1520.46202\ttest-rmse:1518.13796\n",
            "[27]\ttrain-rmse:1474.58394\ttest-rmse:1472.20533\n",
            "[28]\ttrain-rmse:1429.25257\ttest-rmse:1427.50970\n",
            "[29]\ttrain-rmse:1383.41273\ttest-rmse:1382.09367\n",
            "[30]\ttrain-rmse:1342.96899\ttest-rmse:1341.85299\n",
            "[31]\ttrain-rmse:1300.93021\ttest-rmse:1300.53396\n",
            "[32]\ttrain-rmse:1260.89609\ttest-rmse:1261.05430\n",
            "[33]\ttrain-rmse:1222.11536\ttest-rmse:1222.88605\n",
            "[34]\ttrain-rmse:1185.16187\ttest-rmse:1186.18724\n",
            "[35]\ttrain-rmse:1149.97683\ttest-rmse:1151.38773\n",
            "[36]\ttrain-rmse:1116.39920\ttest-rmse:1118.58465\n",
            "[37]\ttrain-rmse:1087.25676\ttest-rmse:1090.05368\n",
            "[38]\ttrain-rmse:1059.60444\ttest-rmse:1062.93189\n",
            "[39]\ttrain-rmse:1031.98390\ttest-rmse:1036.30849\n",
            "[40]\ttrain-rmse:1004.05314\ttest-rmse:1008.77660\n",
            "[41]\ttrain-rmse:977.44776\ttest-rmse:982.80089\n",
            "[42]\ttrain-rmse:954.54024\ttest-rmse:960.62190\n",
            "[43]\ttrain-rmse:930.16107\ttest-rmse:936.72251\n",
            "[44]\ttrain-rmse:906.64709\ttest-rmse:914.00920\n",
            "[45]\ttrain-rmse:885.93776\ttest-rmse:894.11657\n",
            "[46]\ttrain-rmse:864.45561\ttest-rmse:873.45142\n",
            "[47]\ttrain-rmse:844.26897\ttest-rmse:854.02433\n",
            "[48]\ttrain-rmse:828.48743\ttest-rmse:839.06692\n",
            "[49]\ttrain-rmse:809.91533\ttest-rmse:821.59466\n",
            "[50]\ttrain-rmse:794.42612\ttest-rmse:807.02273\n",
            "[51]\ttrain-rmse:777.66784\ttest-rmse:790.75757\n",
            "[52]\ttrain-rmse:761.64963\ttest-rmse:775.80842\n",
            "[53]\ttrain-rmse:746.49833\ttest-rmse:761.59602\n",
            "[54]\ttrain-rmse:733.57120\ttest-rmse:749.44722\n",
            "[55]\ttrain-rmse:721.63949\ttest-rmse:738.42694\n",
            "[56]\ttrain-rmse:708.44244\ttest-rmse:725.92349\n",
            "[57]\ttrain-rmse:695.75306\ttest-rmse:714.15237\n",
            "[58]\ttrain-rmse:683.91785\ttest-rmse:703.14478\n",
            "[59]\ttrain-rmse:672.78809\ttest-rmse:692.73629\n",
            "[60]\ttrain-rmse:664.00585\ttest-rmse:684.58498\n",
            "[61]\ttrain-rmse:653.56593\ttest-rmse:674.89416\n",
            "[62]\ttrain-rmse:644.08024\ttest-rmse:666.31391\n",
            "[63]\ttrain-rmse:636.43451\ttest-rmse:659.60190\n",
            "[64]\ttrain-rmse:629.16502\ttest-rmse:653.35209\n",
            "[65]\ttrain-rmse:620.94870\ttest-rmse:646.06763\n",
            "[66]\ttrain-rmse:613.93114\ttest-rmse:639.83479\n",
            "[67]\ttrain-rmse:606.25020\ttest-rmse:633.15212\n",
            "[68]\ttrain-rmse:599.06252\ttest-rmse:626.72653\n",
            "[69]\ttrain-rmse:593.25855\ttest-rmse:621.66681\n",
            "[70]\ttrain-rmse:587.90672\ttest-rmse:617.10769\n",
            "[71]\ttrain-rmse:581.96266\ttest-rmse:611.58963\n",
            "[72]\ttrain-rmse:576.07381\ttest-rmse:606.46694\n",
            "[73]\ttrain-rmse:570.80368\ttest-rmse:601.57092\n",
            "[74]\ttrain-rmse:565.69751\ttest-rmse:597.11338\n",
            "[75]\ttrain-rmse:560.93412\ttest-rmse:593.08454\n",
            "[76]\ttrain-rmse:556.39414\ttest-rmse:589.10710\n",
            "[77]\ttrain-rmse:551.95996\ttest-rmse:585.22429\n",
            "[78]\ttrain-rmse:547.96001\ttest-rmse:581.77165\n",
            "[79]\ttrain-rmse:543.95722\ttest-rmse:578.59988\n",
            "[80]\ttrain-rmse:540.30254\ttest-rmse:575.67055\n",
            "[81]\ttrain-rmse:536.86677\ttest-rmse:572.66147\n",
            "[82]\ttrain-rmse:534.21158\ttest-rmse:570.66825\n",
            "[83]\ttrain-rmse:530.84123\ttest-rmse:568.24073\n",
            "[84]\ttrain-rmse:528.04877\ttest-rmse:565.94335\n",
            "[85]\ttrain-rmse:525.56037\ttest-rmse:564.08176\n",
            "[86]\ttrain-rmse:522.75280\ttest-rmse:561.79128\n",
            "[87]\ttrain-rmse:520.01175\ttest-rmse:559.57778\n",
            "[88]\ttrain-rmse:517.95126\ttest-rmse:558.06994\n",
            "[89]\ttrain-rmse:515.58342\ttest-rmse:556.19080\n",
            "[90]\ttrain-rmse:513.61391\ttest-rmse:554.95656\n",
            "[91]\ttrain-rmse:511.84519\ttest-rmse:553.72005\n",
            "[92]\ttrain-rmse:509.58602\ttest-rmse:552.12332\n",
            "[93]\ttrain-rmse:507.56021\ttest-rmse:550.59897\n",
            "[94]\ttrain-rmse:505.55986\ttest-rmse:549.36330\n",
            "[95]\ttrain-rmse:503.63152\ttest-rmse:548.05861\n",
            "[96]\ttrain-rmse:501.86823\ttest-rmse:546.81977\n",
            "[97]\ttrain-rmse:500.55530\ttest-rmse:545.98417\n",
            "[98]\ttrain-rmse:499.10956\ttest-rmse:545.30363\n",
            "[99]\ttrain-rmse:497.72374\ttest-rmse:544.32912\n"
          ]
        },
        {
          "output_type": "display_data",
          "data": {
            "text/plain": [
              "VBox(children=(Label(value='0.002 MB of 0.002 MB uploaded\\r'), FloatProgress(value=1.0, max=1.0)))"
            ],
            "application/vnd.jupyter.widget-view+json": {
              "version_major": 2,
              "version_minor": 0,
              "model_id": "ee9b81b5fb4a44c4954255bf5f478dbd"
            }
          },
          "metadata": {}
        },
        {
          "output_type": "display_data",
          "data": {
            "text/plain": [
              "<IPython.core.display.HTML object>"
            ],
            "text/html": [
              "<style>\n",
              "    table.wandb td:nth-child(1) { padding: 0 10px; text-align: left ; width: auto;} td:nth-child(2) {text-align: left ; width: 100%}\n",
              "    .wandb-row { display: flex; flex-direction: row; flex-wrap: wrap; justify-content: flex-start; width: 100% }\n",
              "    .wandb-col { display: flex; flex-direction: column; flex-basis: 100%; flex: 1; padding: 10px; }\n",
              "    </style>\n",
              "<div class=\"wandb-row\"><div class=\"wandb-col\"><h3>Run history:</h3><br/><table class=\"wandb\"><tr><td>rmse</td><td>▁</td></tr></table><br/></div><div class=\"wandb-col\"><h3>Run summary:</h3><br/><table class=\"wandb\"><tr><td>rmse</td><td>544.32912</td></tr></table><br/></div></div>"
            ]
          },
          "metadata": {}
        },
        {
          "output_type": "display_data",
          "data": {
            "text/plain": [
              "<IPython.core.display.HTML object>"
            ],
            "text/html": [
              " View run <strong style=\"color:#cdcd00\">ethereal-sweep-53</strong> at: <a href='https://wandb.ai/devambani/xgboost_diamonds_sweep_experiments/runs/xt6kzha3' target=\"_blank\">https://wandb.ai/devambani/xgboost_diamonds_sweep_experiments/runs/xt6kzha3</a><br/> View project at: <a href='https://wandb.ai/devambani/xgboost_diamonds_sweep_experiments' target=\"_blank\">https://wandb.ai/devambani/xgboost_diamonds_sweep_experiments</a><br/>Synced 5 W&B file(s), 0 media file(s), 0 artifact file(s) and 0 other file(s)"
            ]
          },
          "metadata": {}
        },
        {
          "output_type": "display_data",
          "data": {
            "text/plain": [
              "<IPython.core.display.HTML object>"
            ],
            "text/html": [
              "Find logs at: <code>./wandb/run-20240423_025936-xt6kzha3/logs</code>"
            ]
          },
          "metadata": {}
        },
        {
          "output_type": "stream",
          "name": "stderr",
          "text": [
            "\u001b[34m\u001b[1mwandb\u001b[0m: Agent Starting Run: gwjmbfim with config:\n",
            "\u001b[34m\u001b[1mwandb\u001b[0m: \tcolsample_bytree: 0.7798838022576992\n",
            "\u001b[34m\u001b[1mwandb\u001b[0m: \tlearning_rate: 0.15033991249902837\n",
            "\u001b[34m\u001b[1mwandb\u001b[0m: \tmax_depth: 5\n",
            "\u001b[34m\u001b[1mwandb\u001b[0m: \tn_estimators: 100\n",
            "\u001b[34m\u001b[1mwandb\u001b[0m: \tsubsample: 0.6240162434556568\n"
          ]
        },
        {
          "output_type": "display_data",
          "data": {
            "text/plain": [
              "<IPython.core.display.HTML object>"
            ],
            "text/html": [
              "Tracking run with wandb version 0.16.6"
            ]
          },
          "metadata": {}
        },
        {
          "output_type": "display_data",
          "data": {
            "text/plain": [
              "<IPython.core.display.HTML object>"
            ],
            "text/html": [
              "Run data is saved locally in <code>/content/wandb/run-20240423_025952-gwjmbfim</code>"
            ]
          },
          "metadata": {}
        },
        {
          "output_type": "display_data",
          "data": {
            "text/plain": [
              "<IPython.core.display.HTML object>"
            ],
            "text/html": [
              "Syncing run <strong><a href='https://wandb.ai/devambani/xgboost_diamonds_sweep_experiments/runs/gwjmbfim' target=\"_blank\">youthful-sweep-54</a></strong> to <a href='https://wandb.ai/devambani/xgboost_diamonds_sweep_experiments' target=\"_blank\">Weights & Biases</a> (<a href='https://wandb.me/run' target=\"_blank\">docs</a>)<br/>Sweep page: <a href='https://wandb.ai/devambani/xgboost_diamonds_sweep_experiments/sweeps/y3o2ro2k' target=\"_blank\">https://wandb.ai/devambani/xgboost_diamonds_sweep_experiments/sweeps/y3o2ro2k</a>"
            ]
          },
          "metadata": {}
        },
        {
          "output_type": "display_data",
          "data": {
            "text/plain": [
              "<IPython.core.display.HTML object>"
            ],
            "text/html": [
              " View project at <a href='https://wandb.ai/devambani/xgboost_diamonds_sweep_experiments' target=\"_blank\">https://wandb.ai/devambani/xgboost_diamonds_sweep_experiments</a>"
            ]
          },
          "metadata": {}
        },
        {
          "output_type": "display_data",
          "data": {
            "text/plain": [
              "<IPython.core.display.HTML object>"
            ],
            "text/html": [
              " View sweep at <a href='https://wandb.ai/devambani/xgboost_diamonds_sweep_experiments/sweeps/y3o2ro2k' target=\"_blank\">https://wandb.ai/devambani/xgboost_diamonds_sweep_experiments/sweeps/y3o2ro2k</a>"
            ]
          },
          "metadata": {}
        },
        {
          "output_type": "display_data",
          "data": {
            "text/plain": [
              "<IPython.core.display.HTML object>"
            ],
            "text/html": [
              " View run at <a href='https://wandb.ai/devambani/xgboost_diamonds_sweep_experiments/runs/gwjmbfim' target=\"_blank\">https://wandb.ai/devambani/xgboost_diamonds_sweep_experiments/runs/gwjmbfim</a>"
            ]
          },
          "metadata": {}
        },
        {
          "output_type": "stream",
          "name": "stdout",
          "text": [
            "[0]\ttrain-rmse:3456.64791\ttest-rmse:3451.54173\n",
            "[1]\ttrain-rmse:2987.99579\ttest-rmse:2980.37733\n",
            "[2]\ttrain-rmse:2595.46750\ttest-rmse:2588.54425\n",
            "[3]\ttrain-rmse:2256.02512\ttest-rmse:2250.09851\n",
            "[4]\ttrain-rmse:1976.84532\ttest-rmse:1970.30844\n",
            "[5]\ttrain-rmse:1734.83739\ttest-rmse:1730.87910\n",
            "[6]\ttrain-rmse:1558.77486\ttest-rmse:1553.84641\n",
            "[7]\ttrain-rmse:1381.94640\ttest-rmse:1377.47120\n",
            "[8]\ttrain-rmse:1237.87494\ttest-rmse:1233.71252\n",
            "[9]\ttrain-rmse:1116.24643\ttest-rmse:1111.35454\n",
            "[10]\ttrain-rmse:1027.23972\ttest-rmse:1022.99415\n",
            "[11]\ttrain-rmse:944.30447\ttest-rmse:941.78208\n",
            "[12]\ttrain-rmse:873.93470\ttest-rmse:873.00649\n",
            "[13]\ttrain-rmse:816.55910\ttest-rmse:816.42484\n",
            "[14]\ttrain-rmse:783.32477\ttest-rmse:785.50380\n",
            "[15]\ttrain-rmse:740.73107\ttest-rmse:745.74474\n",
            "[16]\ttrain-rmse:706.80901\ttest-rmse:713.26085\n",
            "[17]\ttrain-rmse:676.90948\ttest-rmse:683.46823\n",
            "[18]\ttrain-rmse:654.84702\ttest-rmse:662.81757\n",
            "[19]\ttrain-rmse:635.71062\ttest-rmse:644.44227\n",
            "[20]\ttrain-rmse:622.77169\ttest-rmse:633.43227\n",
            "[21]\ttrain-rmse:611.44687\ttest-rmse:623.41445\n",
            "[22]\ttrain-rmse:602.36407\ttest-rmse:615.79362\n",
            "[23]\ttrain-rmse:592.03052\ttest-rmse:606.52800\n",
            "[24]\ttrain-rmse:583.00181\ttest-rmse:597.16368\n",
            "[25]\ttrain-rmse:575.62730\ttest-rmse:590.68634\n",
            "[26]\ttrain-rmse:568.58993\ttest-rmse:585.18012\n",
            "[27]\ttrain-rmse:562.89075\ttest-rmse:581.22703\n",
            "[28]\ttrain-rmse:559.23280\ttest-rmse:578.03784\n",
            "[29]\ttrain-rmse:555.29960\ttest-rmse:574.48888\n",
            "[30]\ttrain-rmse:552.09619\ttest-rmse:571.93890\n",
            "[31]\ttrain-rmse:548.56614\ttest-rmse:569.61613\n",
            "[32]\ttrain-rmse:545.93594\ttest-rmse:568.46344\n",
            "[33]\ttrain-rmse:541.89238\ttest-rmse:565.38444\n",
            "[34]\ttrain-rmse:539.42674\ttest-rmse:563.65431\n",
            "[35]\ttrain-rmse:537.04273\ttest-rmse:562.51506\n",
            "[36]\ttrain-rmse:534.82438\ttest-rmse:561.72925\n",
            "[37]\ttrain-rmse:533.02652\ttest-rmse:561.11171\n",
            "[38]\ttrain-rmse:531.03573\ttest-rmse:559.92163\n",
            "[39]\ttrain-rmse:529.40216\ttest-rmse:559.75108\n",
            "[40]\ttrain-rmse:527.57636\ttest-rmse:558.10733\n",
            "[41]\ttrain-rmse:525.12222\ttest-rmse:556.07628\n",
            "[42]\ttrain-rmse:524.05469\ttest-rmse:555.17314\n",
            "[43]\ttrain-rmse:522.97385\ttest-rmse:554.55428\n",
            "[44]\ttrain-rmse:521.32621\ttest-rmse:553.89108\n",
            "[45]\ttrain-rmse:519.50906\ttest-rmse:553.45182\n",
            "[46]\ttrain-rmse:517.73558\ttest-rmse:552.54567\n",
            "[47]\ttrain-rmse:516.27470\ttest-rmse:550.94726\n",
            "[48]\ttrain-rmse:514.64286\ttest-rmse:550.67839\n",
            "[49]\ttrain-rmse:513.78068\ttest-rmse:551.33171\n",
            "[50]\ttrain-rmse:512.84986\ttest-rmse:550.81632\n",
            "[51]\ttrain-rmse:512.24572\ttest-rmse:550.78760\n",
            "[52]\ttrain-rmse:510.79232\ttest-rmse:550.30221\n",
            "[53]\ttrain-rmse:509.39658\ttest-rmse:549.84469\n",
            "[54]\ttrain-rmse:508.15989\ttest-rmse:548.66272\n",
            "[55]\ttrain-rmse:506.76114\ttest-rmse:548.61365\n",
            "[56]\ttrain-rmse:505.48708\ttest-rmse:547.76634\n",
            "[57]\ttrain-rmse:503.93385\ttest-rmse:547.18603\n",
            "[58]\ttrain-rmse:502.50745\ttest-rmse:546.63080\n",
            "[59]\ttrain-rmse:501.30592\ttest-rmse:546.42890\n",
            "[60]\ttrain-rmse:500.46906\ttest-rmse:546.38252\n",
            "[61]\ttrain-rmse:499.47918\ttest-rmse:546.79899\n",
            "[62]\ttrain-rmse:498.08547\ttest-rmse:547.06179\n",
            "[63]\ttrain-rmse:497.00253\ttest-rmse:547.14391\n",
            "[64]\ttrain-rmse:496.02681\ttest-rmse:547.26586\n",
            "[65]\ttrain-rmse:495.01396\ttest-rmse:547.05667\n",
            "[66]\ttrain-rmse:494.05844\ttest-rmse:547.23912\n",
            "[67]\ttrain-rmse:492.81308\ttest-rmse:547.36540\n",
            "[68]\ttrain-rmse:492.28525\ttest-rmse:547.47922\n",
            "[69]\ttrain-rmse:491.50459\ttest-rmse:547.47132\n",
            "[70]\ttrain-rmse:490.33260\ttest-rmse:547.47415\n"
          ]
        },
        {
          "output_type": "display_data",
          "data": {
            "text/plain": [
              "VBox(children=(Label(value='0.002 MB of 0.002 MB uploaded\\r'), FloatProgress(value=1.0, max=1.0)))"
            ],
            "application/vnd.jupyter.widget-view+json": {
              "version_major": 2,
              "version_minor": 0,
              "model_id": "1abad6c3f12b4033acbb6bf8ea89695a"
            }
          },
          "metadata": {}
        },
        {
          "output_type": "display_data",
          "data": {
            "text/plain": [
              "<IPython.core.display.HTML object>"
            ],
            "text/html": [
              "<style>\n",
              "    table.wandb td:nth-child(1) { padding: 0 10px; text-align: left ; width: auto;} td:nth-child(2) {text-align: left ; width: 100%}\n",
              "    .wandb-row { display: flex; flex-direction: row; flex-wrap: wrap; justify-content: flex-start; width: 100% }\n",
              "    .wandb-col { display: flex; flex-direction: column; flex-basis: 100%; flex: 1; padding: 10px; }\n",
              "    </style>\n",
              "<div class=\"wandb-row\"><div class=\"wandb-col\"><h3>Run history:</h3><br/><table class=\"wandb\"><tr><td>rmse</td><td>▁</td></tr></table><br/></div><div class=\"wandb-col\"><h3>Run summary:</h3><br/><table class=\"wandb\"><tr><td>rmse</td><td>547.47415</td></tr></table><br/></div></div>"
            ]
          },
          "metadata": {}
        },
        {
          "output_type": "display_data",
          "data": {
            "text/plain": [
              "<IPython.core.display.HTML object>"
            ],
            "text/html": [
              " View run <strong style=\"color:#cdcd00\">youthful-sweep-54</strong> at: <a href='https://wandb.ai/devambani/xgboost_diamonds_sweep_experiments/runs/gwjmbfim' target=\"_blank\">https://wandb.ai/devambani/xgboost_diamonds_sweep_experiments/runs/gwjmbfim</a><br/> View project at: <a href='https://wandb.ai/devambani/xgboost_diamonds_sweep_experiments' target=\"_blank\">https://wandb.ai/devambani/xgboost_diamonds_sweep_experiments</a><br/>Synced 5 W&B file(s), 0 media file(s), 0 artifact file(s) and 0 other file(s)"
            ]
          },
          "metadata": {}
        },
        {
          "output_type": "display_data",
          "data": {
            "text/plain": [
              "<IPython.core.display.HTML object>"
            ],
            "text/html": [
              "Find logs at: <code>./wandb/run-20240423_025952-gwjmbfim/logs</code>"
            ]
          },
          "metadata": {}
        },
        {
          "output_type": "stream",
          "name": "stderr",
          "text": [
            "\u001b[34m\u001b[1mwandb\u001b[0m: Agent Starting Run: g8n4552t with config:\n",
            "\u001b[34m\u001b[1mwandb\u001b[0m: \tcolsample_bytree: 0.8411822129957723\n",
            "\u001b[34m\u001b[1mwandb\u001b[0m: \tlearning_rate: 0.16713020780320745\n",
            "\u001b[34m\u001b[1mwandb\u001b[0m: \tmax_depth: 7\n",
            "\u001b[34m\u001b[1mwandb\u001b[0m: \tn_estimators: 200\n",
            "\u001b[34m\u001b[1mwandb\u001b[0m: \tsubsample: 0.6579110944889554\n",
            "\u001b[34m\u001b[1mwandb\u001b[0m: Ctrl + C detected. Stopping sweep.\n"
          ]
        }
      ]
    },
    {
      "cell_type": "markdown",
      "source": [
        "##Hyperparameter Variability and Impact\n",
        "\n",
        "\n",
        "*   colsample_bytree (Feature Sampling Rate): The variability in this parameter, ranging from 0.639 to 0.892, suggests it plays a significant role in defining the model’s capability to generalize. This hyperparameter specifies the proportion of total features used in building each tree within the ensemble. The absence of a consistent pattern in its impact on RMSE underscores the complexity of its interaction with other hyperparameters, indicating a need for tailored adjustments based on specific dataset characteristics and feature correlations.\n",
        "\n",
        "*   learning_rate (Step Size for Weight Updates): Set between approximately 0.017 and 0.16, the learning rate determines the speed at which a model adjusts its weights to minimize errors. Models with intermediate learning rates around 0.1 generally yielded the best performance, showcasing that moderate rates help balance between adequate learning time and avoiding overshooting the minima. Extremely low rates may result in a prolonged training process with little improvement per iteration, while excessively high rates might cause the learning process to converge prematurely or oscillate around the optimal weights.\n",
        "\n",
        "*   max_depth (Tree Depth): The depth of the trees, which ranged from 3 to 9, directly impacts the model’s complexity and its ability to capture underlying patterns in the data. Shallow trees (e.g., depth of 3) tend to produce higher bias and underfitting, unable to model the data complexity adequately. In contrast, deeper trees (e.g., depth of 9) are prone to learning noise and specificities of the training data, leading to overfitting. Optimal tree depth thus needs careful calibration to balance model bias and variance, particularly in relation to the dataset size and feature interactions.\n",
        "\n",
        "*   n_estimators (Number of Trees): The configuration varied with values like 50, 100, 150, and 200 trees. Increasing the number of trees generally enhances the model's accuracy and stability by averaging out predictions, reducing the likelihood of overfitting to some extent. However, beyond a certain threshold, additional trees do not improve performance significantly and might even increase computational complexity without substantial gains, highlighting the importance of setting this parameter in context with other model settings.\n",
        "\n",
        "*   subsample (Data Sampling Rate for Building Trees): With values ranging from about 0.638 to 0.882, this parameter controls the fraction of data used for constructing each tree. A higher subsample rate typically increases the diversity among the trees in the model, potentially improving robustness by reducing variance. However, too high a subsample rate might lead to diminished model performance due to a decrease in training data randomness.\n",
        "\n",
        "\n",
        "\n",
        "\n",
        "\n",
        "\n",
        "\n",
        "\n",
        "\n",
        "\n",
        "\n",
        "\n"
      ],
      "metadata": {
        "id": "I2Al_SFz7lJH"
      }
    },
    {
      "cell_type": "markdown",
      "source": [
        "##Performance Analysis\n",
        "\n",
        "\n",
        "*   RMSE Assessment: The root mean square error (RMSE) showcased a substantial range from about 533 to 1868. Lower RMSE scores indicate more accurate model predictions. The model configurations leading to the highest RMSE often featured imbalances, such as very low learning rates combined with insufficient numbers of trees, underlining the critical nature of appropriate hyperparameter settings.\n",
        "\n",
        "*   The best-performing models, with the lowest RMSE scores around 533, employed more balanced configurations. These avoided extremes in any single parameter, demonstrating the effectiveness of moderate settings, particularly in terms of learning rates and the number of estimators used.\n",
        "\n"
      ],
      "metadata": {
        "id": "aWj3guVW8Ha9"
      }
    },
    {
      "cell_type": "markdown",
      "source": [
        "##Guidelines for Enhanced Model Tuning:\n",
        "\n",
        "\n",
        "\n",
        "*   Strategic Depth and Complexity Management: Determining the optimal tree depth is crucial, balancing the need to capture sufficient data complexity with the risk of overfitting. This often requires adjusting based on the specific data being used, possibly through cross-validation techniques to test different depths under various conditions.\n",
        "\n",
        "*   Optimizing Learning Dynamics: Fine-tuning the learning rate can significantly affect model performance. Incremental adjustments and employing techniques such as learning rate schedules or adaptive learning rate methods can optimize this parameter for better convergence behaviors.\n",
        "\n",
        "*   Comprehensive Hyperparameter Optimization: Utilizing systematic approaches like grid search or random search can help in uncovering the most effective combinations of parameters. These methods allow for exploring a broad space of parameter settings, ensuring that the interdependencies between hyperparameters are adequately addressed, which is crucial for achieving the best model performance.\n",
        "\n",
        "\n",
        "\n",
        "\n"
      ],
      "metadata": {
        "id": "usxY30RJ9T_K"
      }
    }
  ]
}